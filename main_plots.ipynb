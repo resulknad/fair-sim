{
 "cells": [
  {
   "cell_type": "code",
   "execution_count": 1,
   "metadata": {},
   "outputs": [],
   "source": [
    "%matplotlib inline\n",
    "import nest_asyncio\n",
    "nest_asyncio.apply()\n",
    "\n",
    "from mutabledataset import GermanSimDataset\n",
    "from sklearn.preprocessing import MaxAbsScaler\n",
    "from agent import RationalAgent\n",
    "from simulation import Simulation\n",
    "from learner import LogisticLearner\n",
    "import plot\n",
    "import numpy as np\n",
    "import pandas as pd\n",
    "from learner import StatisticalParityLogisticLearner, StatisticalParityFlipperLogisticLearner\n",
    "from learner import FairLearnLearner\n",
    "from learner import RandomForestLearner, MultinomialNBLearner\n",
    "from learner import RejectOptionsLogisticLearner\n",
    "from learner import ReweighingLogisticLearner\n",
    "from IPython.display import display, Markdown, Latex\n",
    "import matplotlib.pyplot as plt\n",
    "import seaborn as sns\n",
    "from numpy.random import normal\n",
    "\n",
    "sns.set()"
   ]
  },
  {
   "cell_type": "markdown",
   "metadata": {},
   "source": [
    "## Parameters for simulation"
   ]
  },
  {
   "cell_type": "code",
   "execution_count": 2,
   "metadata": {
    "lines_to_end_of_cell_marker": 0,
    "lines_to_next_cell": 1
   },
   "outputs": [],
   "source": [
    "mutable_attr = 'month'\n",
    "group_attr = 'age'\n",
    "priv_classes = [lambda x: x >= 25]\n",
    "\n",
    "privileged_group = {group_attr: 1}\n",
    "unprivileged_group = {group_attr: 0}\n",
    "\n",
    "cost_fixed = lambda size: np.abs(np.random.normal(loc=0,scale=0.5,size=size))\n",
    "# TODO: plot cost function for dataset\n",
    "\n",
    "M = 0.2\n",
    "L = 0.9\n",
    "cp = lambda x_new, x: abs(x_new-x)\n",
    "\n",
    "data = GermanSimDataset(mutable_features=[mutable_attr],\n",
    "        domains={mutable_attr: 'auto'},\n",
    "                     discrete=[mutable_attr],\n",
    "                     protected_attribute_names=[group_attr],\n",
    "                     cost_fns={mutable_attr: cp},\n",
    "                     privileged_classes=priv_classes,\n",
    "                     features_to_drop=['personal_status', 'sex', 'foreign_worker'])"
   ]
  },
  {
   "cell_type": "markdown",
   "metadata": {},
   "source": [
    "## Common simulation code"
   ]
  },
  {
   "cell_type": "code",
   "execution_count": 3,
   "metadata": {
    "lines_to_next_cell": 1
   },
   "outputs": [],
   "source": [
    "def do_sim(learner, cost_fixed=cost_fixed, cost_fixed_dep=None, collect_incentive_data=False):\n",
    "    sim = Simulation(data,\n",
    "                     RationalAgent,\n",
    "                     learner,\n",
    "                     cost_fixed if cost_fixed_dep is None else None,\n",
    "                     collect_incentive_data=collect_incentive_data,\n",
    "                     avg_out_incentive=1,\n",
    "                     no_neighbors=51,\n",
    "                     cost_distribution_dep=cost_fixed_dep,\n",
    "                     split=[0.9])\n",
    "\n",
    "    result_set = sim.start_simulation(runs=1)\n",
    "    return result_set"
   ]
  },
  {
   "cell_type": "markdown",
   "metadata": {},
   "source": [
    "## Which feature?"
   ]
  },
  {
   "cell_type": "code",
   "execution_count": 4,
   "metadata": {},
   "outputs": [
    {
     "data": {
      "text/html": [
       "<div>\n",
       "<style scoped>\n",
       "    .dataframe tbody tr th:only-of-type {\n",
       "        vertical-align: middle;\n",
       "    }\n",
       "\n",
       "    .dataframe tbody tr th {\n",
       "        vertical-align: top;\n",
       "    }\n",
       "\n",
       "    .dataframe thead th {\n",
       "        text-align: right;\n",
       "    }\n",
       "</style>\n",
       "<table border=\"1\" class=\"dataframe\">\n",
       "  <thead>\n",
       "    <tr style=\"text-align: right;\">\n",
       "      <th></th>\n",
       "      <th>Feature</th>\n",
       "      <th>Coefficient LogReg</th>\n",
       "    </tr>\n",
       "  </thead>\n",
       "  <tbody>\n",
       "    <tr>\n",
       "      <th>0</th>\n",
       "      <td>month</td>\n",
       "      <td>-2.167224</td>\n",
       "    </tr>\n",
       "    <tr>\n",
       "      <th>1</th>\n",
       "      <td>credit_amount</td>\n",
       "      <td>-1.663086</td>\n",
       "    </tr>\n",
       "    <tr>\n",
       "      <th>2</th>\n",
       "      <td>status=A14</td>\n",
       "      <td>1.110178</td>\n",
       "    </tr>\n",
       "    <tr>\n",
       "      <th>3</th>\n",
       "      <td>credit_history=A34</td>\n",
       "      <td>1.051038</td>\n",
       "    </tr>\n",
       "    <tr>\n",
       "      <th>4</th>\n",
       "      <td>other_debtors=A103</td>\n",
       "      <td>1.025873</td>\n",
       "    </tr>\n",
       "    <tr>\n",
       "      <th>5</th>\n",
       "      <td>purpose=A48</td>\n",
       "      <td>1.024730</td>\n",
       "    </tr>\n",
       "    <tr>\n",
       "      <th>6</th>\n",
       "      <td>purpose=A41</td>\n",
       "      <td>0.883851</td>\n",
       "    </tr>\n",
       "    <tr>\n",
       "      <th>7</th>\n",
       "      <td>purpose=A46</td>\n",
       "      <td>-0.801995</td>\n",
       "    </tr>\n",
       "    <tr>\n",
       "      <th>8</th>\n",
       "      <td>purpose=A410</td>\n",
       "      <td>0.742291</td>\n",
       "    </tr>\n",
       "    <tr>\n",
       "      <th>9</th>\n",
       "      <td>employment=A74</td>\n",
       "      <td>0.720118</td>\n",
       "    </tr>\n",
       "    <tr>\n",
       "      <th>10</th>\n",
       "      <td>purpose=A40</td>\n",
       "      <td>-0.653125</td>\n",
       "    </tr>\n",
       "    <tr>\n",
       "      <th>11</th>\n",
       "      <td>installment_plans=A143</td>\n",
       "      <td>0.576450</td>\n",
       "    </tr>\n",
       "    <tr>\n",
       "      <th>12</th>\n",
       "      <td>status=A11</td>\n",
       "      <td>-0.569924</td>\n",
       "    </tr>\n",
       "    <tr>\n",
       "      <th>13</th>\n",
       "      <td>housing=A153</td>\n",
       "      <td>0.552999</td>\n",
       "    </tr>\n",
       "    <tr>\n",
       "      <th>14</th>\n",
       "      <td>skill_level=A171</td>\n",
       "      <td>0.529544</td>\n",
       "    </tr>\n",
       "    <tr>\n",
       "      <th>15</th>\n",
       "      <td>telephone=A192</td>\n",
       "      <td>0.509560</td>\n",
       "    </tr>\n",
       "    <tr>\n",
       "      <th>16</th>\n",
       "      <td>credit_history=A31</td>\n",
       "      <td>-0.499928</td>\n",
       "    </tr>\n",
       "    <tr>\n",
       "      <th>17</th>\n",
       "      <td>property=A121</td>\n",
       "      <td>0.463277</td>\n",
       "    </tr>\n",
       "    <tr>\n",
       "      <th>18</th>\n",
       "      <td>credit_history=A33</td>\n",
       "      <td>0.455773</td>\n",
       "    </tr>\n",
       "    <tr>\n",
       "      <th>19</th>\n",
       "      <td>credit_history=A30</td>\n",
       "      <td>-0.439234</td>\n",
       "    </tr>\n",
       "    <tr>\n",
       "      <th>20</th>\n",
       "      <td>status=A13</td>\n",
       "      <td>0.416385</td>\n",
       "    </tr>\n",
       "    <tr>\n",
       "      <th>21</th>\n",
       "      <td>purpose=A45</td>\n",
       "      <td>-0.383266</td>\n",
       "    </tr>\n",
       "    <tr>\n",
       "      <th>22</th>\n",
       "      <td>age</td>\n",
       "      <td>0.345400</td>\n",
       "    </tr>\n",
       "    <tr>\n",
       "      <th>23</th>\n",
       "      <td>housing=A152</td>\n",
       "      <td>0.304962</td>\n",
       "    </tr>\n",
       "    <tr>\n",
       "      <th>24</th>\n",
       "      <td>other_debtors=A102</td>\n",
       "      <td>-0.301001</td>\n",
       "    </tr>\n",
       "    <tr>\n",
       "      <th>25</th>\n",
       "      <td>investment_as_income_percentage</td>\n",
       "      <td>-0.278903</td>\n",
       "    </tr>\n",
       "    <tr>\n",
       "      <th>26</th>\n",
       "      <td>number_of_credits</td>\n",
       "      <td>-0.277358</td>\n",
       "    </tr>\n",
       "    <tr>\n",
       "      <th>27</th>\n",
       "      <td>status=A12</td>\n",
       "      <td>-0.237542</td>\n",
       "    </tr>\n",
       "    <tr>\n",
       "      <th>28</th>\n",
       "      <td>employment=A75</td>\n",
       "      <td>0.225102</td>\n",
       "    </tr>\n",
       "    <tr>\n",
       "      <th>29</th>\n",
       "      <td>property=A122</td>\n",
       "      <td>0.223414</td>\n",
       "    </tr>\n",
       "    <tr>\n",
       "      <th>30</th>\n",
       "      <td>property=A123</td>\n",
       "      <td>0.222850</td>\n",
       "    </tr>\n",
       "    <tr>\n",
       "      <th>31</th>\n",
       "      <td>purpose=A44</td>\n",
       "      <td>-0.212795</td>\n",
       "    </tr>\n",
       "    <tr>\n",
       "      <th>32</th>\n",
       "      <td>telephone=A191</td>\n",
       "      <td>0.209536</td>\n",
       "    </tr>\n",
       "    <tr>\n",
       "      <th>33</th>\n",
       "      <td>savings</td>\n",
       "      <td>0.205393</td>\n",
       "    </tr>\n",
       "    <tr>\n",
       "      <th>34</th>\n",
       "      <td>property=A124</td>\n",
       "      <td>-0.190445</td>\n",
       "    </tr>\n",
       "    <tr>\n",
       "      <th>35</th>\n",
       "      <td>purpose=A43</td>\n",
       "      <td>0.162122</td>\n",
       "    </tr>\n",
       "    <tr>\n",
       "      <th>36</th>\n",
       "      <td>employment=A72</td>\n",
       "      <td>-0.160678</td>\n",
       "    </tr>\n",
       "    <tr>\n",
       "      <th>37</th>\n",
       "      <td>installment_plans=A142</td>\n",
       "      <td>0.157209</td>\n",
       "    </tr>\n",
       "    <tr>\n",
       "      <th>38</th>\n",
       "      <td>credit_history=A32</td>\n",
       "      <td>0.151446</td>\n",
       "    </tr>\n",
       "    <tr>\n",
       "      <th>39</th>\n",
       "      <td>housing=A151</td>\n",
       "      <td>-0.138866</td>\n",
       "    </tr>\n",
       "    <tr>\n",
       "      <th>40</th>\n",
       "      <td>skill_level=A172</td>\n",
       "      <td>0.125100</td>\n",
       "    </tr>\n",
       "    <tr>\n",
       "      <th>41</th>\n",
       "      <td>employment=A71</td>\n",
       "      <td>-0.106227</td>\n",
       "    </tr>\n",
       "    <tr>\n",
       "      <th>42</th>\n",
       "      <td>people_liable_for</td>\n",
       "      <td>-0.058899</td>\n",
       "    </tr>\n",
       "    <tr>\n",
       "      <th>43</th>\n",
       "      <td>employment=A73</td>\n",
       "      <td>0.040782</td>\n",
       "    </tr>\n",
       "    <tr>\n",
       "      <th>44</th>\n",
       "      <td>purpose=A49</td>\n",
       "      <td>-0.039068</td>\n",
       "    </tr>\n",
       "    <tr>\n",
       "      <th>45</th>\n",
       "      <td>skill_level=A173</td>\n",
       "      <td>0.034192</td>\n",
       "    </tr>\n",
       "    <tr>\n",
       "      <th>46</th>\n",
       "      <td>skill_level=A174</td>\n",
       "      <td>0.030259</td>\n",
       "    </tr>\n",
       "    <tr>\n",
       "      <th>47</th>\n",
       "      <td>installment_plans=A141</td>\n",
       "      <td>-0.014564</td>\n",
       "    </tr>\n",
       "    <tr>\n",
       "      <th>48</th>\n",
       "      <td>residence_since</td>\n",
       "      <td>0.010032</td>\n",
       "    </tr>\n",
       "    <tr>\n",
       "      <th>49</th>\n",
       "      <td>other_debtors=A101</td>\n",
       "      <td>-0.005775</td>\n",
       "    </tr>\n",
       "    <tr>\n",
       "      <th>50</th>\n",
       "      <td>purpose=A42</td>\n",
       "      <td>-0.003649</td>\n",
       "    </tr>\n",
       "  </tbody>\n",
       "</table>\n",
       "</div>"
      ],
      "text/plain": [
       "                            Feature  Coefficient LogReg\n",
       "0                             month           -2.167224\n",
       "1                     credit_amount           -1.663086\n",
       "2                        status=A14            1.110178\n",
       "3                credit_history=A34            1.051038\n",
       "4                other_debtors=A103            1.025873\n",
       "5                       purpose=A48            1.024730\n",
       "6                       purpose=A41            0.883851\n",
       "7                       purpose=A46           -0.801995\n",
       "8                      purpose=A410            0.742291\n",
       "9                    employment=A74            0.720118\n",
       "10                      purpose=A40           -0.653125\n",
       "11           installment_plans=A143            0.576450\n",
       "12                       status=A11           -0.569924\n",
       "13                     housing=A153            0.552999\n",
       "14                 skill_level=A171            0.529544\n",
       "15                   telephone=A192            0.509560\n",
       "16               credit_history=A31           -0.499928\n",
       "17                    property=A121            0.463277\n",
       "18               credit_history=A33            0.455773\n",
       "19               credit_history=A30           -0.439234\n",
       "20                       status=A13            0.416385\n",
       "21                      purpose=A45           -0.383266\n",
       "22                              age            0.345400\n",
       "23                     housing=A152            0.304962\n",
       "24               other_debtors=A102           -0.301001\n",
       "25  investment_as_income_percentage           -0.278903\n",
       "26                number_of_credits           -0.277358\n",
       "27                       status=A12           -0.237542\n",
       "28                   employment=A75            0.225102\n",
       "29                    property=A122            0.223414\n",
       "30                    property=A123            0.222850\n",
       "31                      purpose=A44           -0.212795\n",
       "32                   telephone=A191            0.209536\n",
       "33                          savings            0.205393\n",
       "34                    property=A124           -0.190445\n",
       "35                      purpose=A43            0.162122\n",
       "36                   employment=A72           -0.160678\n",
       "37           installment_plans=A142            0.157209\n",
       "38               credit_history=A32            0.151446\n",
       "39                     housing=A151           -0.138866\n",
       "40                 skill_level=A172            0.125100\n",
       "41                   employment=A71           -0.106227\n",
       "42                people_liable_for           -0.058899\n",
       "43                   employment=A73            0.040782\n",
       "44                      purpose=A49           -0.039068\n",
       "45                 skill_level=A173            0.034192\n",
       "46                 skill_level=A174            0.030259\n",
       "47           installment_plans=A141           -0.014564\n",
       "48                  residence_since            0.010032\n",
       "49               other_debtors=A101           -0.005775\n",
       "50                      purpose=A42           -0.003649"
      ]
     },
     "metadata": {},
     "output_type": "display_data"
    }
   ],
   "source": [
    "l = LogisticLearner()\n",
    "l.fit(data)\n",
    "display(pd.DataFrame(columns=['Feature', 'Coefficient LogReg'], data=l.coefs))"
   ]
  },
  {
   "cell_type": "markdown",
   "metadata": {},
   "source": [
    "## Cost function?"
   ]
  },
  {
   "cell_type": "code",
   "execution_count": 6,
   "metadata": {},
   "outputs": [],
   "source": [
    "rs = do_sim(RandomForestLearner(exclude_protected=True), collect_incentive_data=True)\n",
    "ax = sns.lineplot(x=mutable_attr, y=\"incentive\",hue=group_attr,data=(rs.                      _avg_incentive(mutable_attr, group_attr)).reset_index())\n",
    "#plt.savefig(name+\".png\")\n",
    "plt.show()"
   ]
  },
  {
   "cell_type": "code",
   "execution_count": 5,
   "metadata": {},
   "outputs": [
    {
     "name": "stdout",
     "output_type": "stream",
     "text": [
      "(900, 51) (100, 51)\n",
      "ERROR! Session/line number was not unique in database. History logging moved to new session 175\n"
     ]
    },
    {
     "ename": "NameError",
     "evalue": "name 'rs' is not defined",
     "output_type": "error",
     "traceback": [
      "\u001b[0;31m---------------------------------------------------------------------------\u001b[0m",
      "\u001b[0;31mNameError\u001b[0m                                 Traceback (most recent call last)",
      "\u001b[0;32m<ipython-input-5-2e13be1a0933>\u001b[0m in \u001b[0;36m<module>\u001b[0;34m\u001b[0m\n\u001b[1;32m      3\u001b[0m     \u001b[0mdf2\u001b[0m\u001b[0;34m[\u001b[0m\u001b[0mcol\u001b[0m\u001b[0;34m]\u001b[0m \u001b[0;34m=\u001b[0m \u001b[0mpd\u001b[0m\u001b[0;34m.\u001b[0m\u001b[0mSeries\u001b[0m\u001b[0;34m(\u001b[0m\u001b[0;34m[\u001b[0m\u001b[0mcolval2\u001b[0m\u001b[0;34m]\u001b[0m \u001b[0;34m*\u001b[0m \u001b[0mlen\u001b[0m\u001b[0;34m(\u001b[0m\u001b[0mdf2\u001b[0m\u001b[0;34m.\u001b[0m\u001b[0mindex\u001b[0m\u001b[0;34m)\u001b[0m\u001b[0;34m,\u001b[0m \u001b[0mdf2\u001b[0m\u001b[0;34m.\u001b[0m\u001b[0mindex\u001b[0m\u001b[0;34m)\u001b[0m\u001b[0;34m\u001b[0m\u001b[0;34m\u001b[0m\u001b[0m\n\u001b[1;32m      4\u001b[0m     \u001b[0;32mreturn\u001b[0m \u001b[0mpd\u001b[0m\u001b[0;34m.\u001b[0m\u001b[0mconcat\u001b[0m\u001b[0;34m(\u001b[0m\u001b[0;34m(\u001b[0m\u001b[0mdf1\u001b[0m\u001b[0;34m,\u001b[0m \u001b[0mdf2\u001b[0m\u001b[0;34m)\u001b[0m\u001b[0;34m)\u001b[0m\u001b[0;34m\u001b[0m\u001b[0;34m\u001b[0m\u001b[0m\n\u001b[0;32m----> 5\u001b[0;31m \u001b[0mmerged\u001b[0m \u001b[0;34m=\u001b[0m\u001b[0mmerge_dfs\u001b[0m\u001b[0;34m(\u001b[0m\u001b[0;34m'time'\u001b[0m\u001b[0;34m,\u001b[0m \u001b[0;34m'pre'\u001b[0m\u001b[0;34m,\u001b[0m \u001b[0;34m'post'\u001b[0m\u001b[0;34m,\u001b[0m \u001b[0mrs\u001b[0m\u001b[0;34m.\u001b[0m\u001b[0mresults\u001b[0m\u001b[0;34m[\u001b[0m\u001b[0;36m0\u001b[0m\u001b[0;34m]\u001b[0m\u001b[0;34m.\u001b[0m\u001b[0mdf\u001b[0m\u001b[0;34m,\u001b[0m \u001b[0mrs\u001b[0m\u001b[0;34m.\u001b[0m\u001b[0mresults\u001b[0m\u001b[0;34m[\u001b[0m\u001b[0;36m0\u001b[0m\u001b[0;34m]\u001b[0m\u001b[0;34m.\u001b[0m\u001b[0mdf_new\u001b[0m\u001b[0;34m)\u001b[0m\u001b[0;34m\u001b[0m\u001b[0;34m\u001b[0m\u001b[0m\n\u001b[0m\u001b[1;32m      6\u001b[0m sns.catplot(x=mutable_attr, hue=\"time\", kind=\"count\",\n\u001b[1;32m      7\u001b[0m             data=merged)\n",
      "\u001b[0;31mNameError\u001b[0m: name 'rs' is not defined"
     ]
    },
    {
     "name": "stdout",
     "output_type": "stream",
     "text": [
      "738.0  before:  700.0\n"
     ]
    },
    {
     "data": {
      "image/png": "[encoded data removed]",
      "text/plain": [
       "<Figure size 432x288 with 1 Axes>"
      ]
     },
     "metadata": {
      "needs_background": "light"
     },
     "output_type": "display_data"
    }
   ],
   "source": [
    "def merge_dfs(col, colval1, colval2, df1, df2):\n",
    "    df1[col] = pd.Series([colval1] * len(df1.index), df1.index)\n",
    "    df2[col] = pd.Series([colval2] * len(df2.index), df2.index)\n",
    "    return pd.concat((df1, df2))\n",
    "merged =merge_dfs('time', 'pre', 'post', rs.results[0].df, rs.results[0].df_new)\n",
    "sns.catplot(x=mutable_attr, hue=\"time\", kind=\"count\",\n",
    "            data=merged)\n",
    "plt.show()"
   ]
  },
  {
   "cell_type": "markdown",
   "metadata": {},
   "source": [
    "## Comparison of different predictive methods"
   ]
  },
  {
   "cell_type": "code",
   "execution_count": 7,
   "metadata": {},
   "outputs": [
    {
     "name": "stdout",
     "output_type": "stream",
     "text": [
      "(900, 51) (100, 51)\n",
      "727.0  before:  700.0\n",
      "(900, 51) (100, 51)\n",
      "732.0  before:  700.0\n",
      "(900, 51) (100, 51)\n",
      "704.0  before:  700.0\n"
     ]
    },
    {
     "data": {
      "text/plain": [
       "<Figure size 432x288 with 0 Axes>"
      ]
     },
     "metadata": {},
     "output_type": "display_data"
    },
    {
     "data": {
      "image/png": "[encoded data removed]",
      "text/plain": [
       "<Figure size 423.475x360 with 1 Axes>"
      ]
     },
     "metadata": {
      "needs_background": "light"
     },
     "output_type": "display_data"
    }
   ],
   "source": [
    "y_attr = 'credit' #mutable_attr # credit_h for prediction, credit for updated ground truth\n",
    "def extract_avg_ft(rs, ft, name):\n",
    "    pre_p_mean, _, post_p_mean, _ = rs.feature_average(y_attr, {})\n",
    "    return [[name, 'pre', pre_p_mean], [name, 'post', post_p_mean]]\n",
    "plot_data = []\n",
    "\n",
    "rs = do_sim(LogisticLearner(exclude_protected=True))\n",
    "plot_data = extract_avg_ft(rs, y_attr, \"LogReg\")\n",
    "\n",
    "rs = do_sim(RandomForestLearner())\n",
    "plot_data += extract_avg_ft(rs, y_attr, \"RandomForest\")\n",
    "\n",
    "rs = do_sim(MultinomialNBLearner())\n",
    "plot_data += extract_avg_ft(rs, y_attr, \"MultinomialNB\")\n",
    "\n",
    "plot_data_df = pd.DataFrame(plot_data, columns=[\"name\", \"time\", y_attr])\n",
    "plt.figure()\n",
    "sns.catplot(x=\"name\", y=y_attr, hue=\"time\", kind=\"bar\",\n",
    "            data=plot_data_df)\n",
    "plt.show()\n",
    "\n"
   ]
  },
  {
   "cell_type": "markdown",
   "metadata": {},
   "source": [
    "## Color-sighted vs. color-blind"
   ]
  },
  {
   "cell_type": "code",
   "execution_count": 16,
   "metadata": {},
   "outputs": [
    {
     "name": "stdout",
     "output_type": "stream",
     "text": [
      "(900, 51) (100, 51)\n",
      "728.0  before:  700.0\n",
      "(900, 51) (100, 51)\n",
      "724.0  before:  700.0\n",
      "(900, 51) (100, 51)\n",
      "752.0  before:  700.0\n",
      "(900, 51) (100, 51)\n",
      "741.0  before:  700.0\n",
      "(900, 51) (100, 51)\n",
      "702.0  before:  700.0\n",
      "(900, 51) (100, 51)\n",
      "704.0  before:  700.0\n"
     ]
    },
    {
     "data": {
      "text/plain": [
       "<Figure size 432x288 with 0 Axes>"
      ]
     },
     "metadata": {},
     "output_type": "display_data"
    },
    {
     "data": {
      "image/png": "[encoded data removed]",
      "text/plain": [
       "<Figure size 462.8x360 with 1 Axes>"
      ]
     },
     "metadata": {
      "needs_background": "light"
     },
     "output_type": "display_data"
    }
   ],
   "source": [
    "\n",
    "metric_name = \"gtdiff\" #gtdiff, mutablediff\n",
    "\n",
    "def extract_metric(rs, metric_name=\"statpar\"):\n",
    "    if metric_name == \"statpar\":\n",
    "        ret = rs.stat_parity_diff(unprivileged_group, privileged_group)\n",
    "        return ret\n",
    "    elif metric_name == 'gtdiff':\n",
    "        gt_label = data.label_names[0]\n",
    "        _, _, post_p_mean, _ = rs.feature_average(gt_label, privileged_group)\n",
    "        _, _, post_up_mean, _ = rs.feature_average(gt_label, unprivileged_group)\n",
    "        return abs(post_p_mean - post_up_mean)\n",
    "    elif metric_name == 'mutablediff':\n",
    "        _, _, post_p_mean, _ = rs.feature_average(mutable_attr, privileged_group)\n",
    "        _, _, post_up_mean, _ = rs.feature_average(mutable_attr, unprivileged_group)\n",
    "        return abs(post_p_mean - post_up_mean)\n",
    "\n",
    "    return None\n",
    "\n",
    "\n",
    "plot_data = []\n",
    "rs = do_sim(LogisticLearner(exclude_protected=True))\n",
    "plot_data.append([\"LogReg\", False, extract_metric(rs, metric_name=metric_name)])\n",
    "\n",
    "rs = do_sim(LogisticLearner())\n",
    "plot_data.append([\"LogReg\", True, extract_metric(rs, metric_name=metric_name)])\n",
    "\n",
    "rs = do_sim(RandomForestLearner())\n",
    "plot_data.append([\"RandomForest\", True, extract_metric(rs, metric_name=metric_name)])\n",
    "\n",
    "rs = do_sim(RandomForestLearner(exclude_protected=True))\n",
    "plot_data.append([\"RandomForest\", False, extract_metric(rs, metric_name=metric_name)])\n",
    "\n",
    "rs = do_sim(MultinomialNBLearner())\n",
    "plot_data.append([\"MultinomialNB\", True, extract_metric(rs, metric_name=metric_name)])\n",
    "\n",
    "rs = do_sim(MultinomialNBLearner(exclude_protected=True))\n",
    "plot_data.append([\"MultinomialNB\", False, extract_metric(rs, metric_name=metric_name)])\n",
    "\n",
    "plot_data_df = pd.DataFrame(plot_data, columns=[\"name\", \"protectedincluded\", metric_name])\n",
    "\n",
    "plt.figure()\n",
    "sns.catplot(x=\"name\", y=metric_name, hue=\"protectedincluded\", kind=\"bar\",\n",
    "            data=plot_data_df)\n",
    "plt.savefig(\"sighted_comp.png\")\n"
   ]
  },
  {
   "cell_type": "markdown",
   "metadata": {},
   "source": [
    "## Notions of Fairness"
   ]
  },
  {
   "cell_type": "code",
   "execution_count": 12,
   "metadata": {},
   "outputs": [
    {
     "name": "stdout",
     "output_type": "stream",
     "text": [
      "(900, 51) (100, 51)\n",
      "733.0  before:  700.0\n",
      "(900, 51) (100, 51)\n",
      "735.0  before:  700.0\n"
     ]
    },
    {
     "data": {
      "text/plain": [
       "<Figure size 432x288 with 0 Axes>"
      ]
     },
     "metadata": {},
     "output_type": "display_data"
    },
    {
     "data": {
      "image/png": "[encoded data removed]",
      "text/plain": [
       "<Figure size 423.475x360 with 1 Axes>"
      ]
     },
     "metadata": {
      "needs_background": "light"
     },
     "output_type": "display_data"
    }
   ],
   "source": [
    "\n",
    "# Compare different notions of fairness\n",
    "y_attr = mutable_attr\n",
    "\n",
    "rs = do_sim(RejectOptionsLogisticLearner([privileged_group], [unprivileged_group]))\n",
    "plot_data = extract_avg_ft(rs, mutable_attr, \"RO_StatPar\")\n",
    "\n",
    "rs = do_sim(RejectOptionsLogisticLearner([privileged_group], [unprivileged_group], metric_name='Equal opportunity difference'))\n",
    "plot_data += extract_avg_ft(rs, mutable_attr, \"RO_EqOpp\")\n",
    "\n",
    "plot_data_df = pd.DataFrame(plot_data, columns=[\"name\", \"time\", y_attr])\n",
    "\n",
    "\n",
    "plt.figure()\n",
    "sns.catplot(x=\"name\", y=y_attr, hue=\"time\", kind=\"bar\",\n",
    "            data=plot_data_df)\n",
    "plt.show()\n"
   ]
  },
  {
   "cell_type": "markdown",
   "metadata": {},
   "source": [
    "## Statistical parity comparison"
   ]
  },
  {
   "cell_type": "code",
   "execution_count": 17,
   "metadata": {},
   "outputs": [
    {
     "name": "stdout",
     "output_type": "stream",
     "text": [
      "(900, 51) (100, 51)\n",
      "731.0  before:  700.0\n",
      "(900, 51) (100, 51)\n",
      "722.0  before:  700.0\n",
      "(900, 51) (100, 51)\n",
      "730.0  before:  700.0\n"
     ]
    },
    {
     "data": {
      "text/plain": [
       "<Figure size 432x288 with 0 Axes>"
      ]
     },
     "metadata": {},
     "output_type": "display_data"
    },
    {
     "data": {
      "image/png": "[encoded data removed]",
      "text/plain": [
       "<Figure size 423.475x360 with 1 Axes>"
      ]
     },
     "metadata": {
      "needs_background": "light"
     },
     "output_type": "display_data"
    }
   ],
   "source": [
    "\n",
    "plot_data = []\n",
    "learners = [(\"pre\", ReweighingLogisticLearner([privileged_group], [unprivileged_group])),\n",
    "    (\"in\",FairLearnLearner([privileged_group], [unprivileged_group])),\n",
    "    (\"post\",RejectOptionsLogisticLearner([privileged_group], [unprivileged_group]))]\n",
    "\n",
    "y_attr = mutable_attr\n",
    "y_attr = 'credit'\n",
    "\n",
    "for name, l in learners:\n",
    "    rs = do_sim(l)\n",
    "    plot_data += extract_avg_ft(rs, mutable_attr, name)\n",
    "\n",
    "plot_data_df = pd.DataFrame(plot_data, columns=[\"name\", \"time\", y_attr])\n",
    "\n",
    "plt.figure()\n",
    "sns.catplot(x=\"name\", y=y_attr, hue=\"time\", kind=\"bar\",\n",
    "            data=plot_data_df)\n",
    "plt.show()\n",
    "\n",
    "# split for groups\n",
    "# 1. section 2.1 for cost function\n",
    "# 2. cost function as distance, only within group (immutable)"
   ]
  },
  {
   "cell_type": "markdown",
   "metadata": {},
   "source": [
    "## Time of Intervention"
   ]
  },
  {
   "cell_type": "code",
   "execution_count": 15,
   "metadata": {
    "scrolled": false
   },
   "outputs": [
    {
     "name": "stdout",
     "output_type": "stream",
     "text": [
      "(900, 51) (100, 51)\n",
      "726.0  before:  700.0\n",
      "(900, 51) (100, 51)\n",
      "722.0  before:  700.0\n",
      "(900, 51) (100, 51)\n",
      "727.0  before:  700.0\n",
      "(900, 51) (100, 51)\n",
      "730.0  before:  700.0\n",
      "(900, 51) (100, 51)\n",
      "700.0  before:  700.0\n",
      "(900, 51) (100, 51)\n",
      "736.0  before:  700.0\n",
      "(900, 51) (100, 51)\n",
      "736.0  before:  700.0\n",
      "(900, 51) (100, 51)\n",
      "743.0  before:  700.0\n",
      "  index   subsidy  mutablediff\n",
      "0   pre  0.000000     0.018508\n",
      "1   pre  0.333333     0.030337\n",
      "2   pre  0.666667     0.026496\n",
      "3   pre  1.000000     0.038828\n",
      "4  post  0.000000     0.006438\n",
      "5  post  0.333333     0.012678\n",
      "6  post  0.666667     0.020039\n",
      "7  post  1.000000     0.015864\n"
     ]
    },
    {
     "data": {
      "image/png": "[encoded data removed]",
      "text/plain": [
       "<Figure size 432x288 with 1 Axes>"
      ]
     },
     "metadata": {
      "needs_background": "light"
     },
     "output_type": "display_data"
    }
   ],
   "source": [
    "\n",
    "metric_name = 'mutablediff' # statpar, gtdiff\n",
    "subsidies = np.linspace(0,1,4)\n",
    "learner = LogisticLearner(exclude_protected=True)\n",
    "\n",
    "# creates a instance dependant cost lambda fn\n",
    "# which reduces cost for unprivileged group by subsidy\n",
    "def cost_fixed_dependant(subsidy):\n",
    "    group_attr_ind = data._ft_index(group_attr)\n",
    "    privileged_val = privileged_group[group_attr]\n",
    "\n",
    "    return lambda x: cost_fixed(1)[0] if x[group_attr_ind] == privileged_val else cost_fixed(1)[0] - subsidy\n",
    "\n",
    "result_sets = list(map(lambda s: do_sim(learner, cost_fixed_dep=cost_fixed_dependant(s)), subsidies))\n",
    "result_sets += list(map(lambda s: do_sim(RejectOptionsLogisticLearner([privileged_group], [unprivileged_group], abs_bound=s)), subsidies))\n",
    "\n",
    "y_values = list(map(lambda rs: extract_metric(rs, metric_name), result_sets))\n",
    "index = ['pre'] * len(subsidies) + ['post'] * len(subsidies)\n",
    "x = np.array([np.hstack((subsidies,subsidies)), y_values]).transpose()\n",
    "\n",
    "plot_data_df = pd.DataFrame(x, columns=['subsidy', metric_name],index=index).reset_index()\n",
    "print(plot_data_df)\n",
    "plt.figure()\n",
    "ax = sns.lineplot(x='subsidy',hue='index', y=metric_name, data=plot_data_df)\n",
    "plt.show()\n",
    "\n",
    "#for rs in result_sets:\n",
    "#    ax = sns.lineplot(x=mutable_attr, y=\"incentive\",hue=group_attr,data=(rs.                     _avg_incentive(mutable_attr, group_attr)).reset_index())\n",
    "#    plt.show()"
   ]
  },
  {
   "cell_type": "code",
   "execution_count": null,
   "metadata": {},
   "outputs": [],
   "source": []
  }
 ],
 "metadata": {
  "kernelspec": {
   "display_name": "Python 3",
   "language": "python",
   "name": "python3"
  },
  "language_info": {
   "codemirror_mode": {
    "name": "ipython",
    "version": 3
   },
   "file_extension": ".py",
   "mimetype": "text/x-python",
   "name": "python",
   "nbconvert_exporter": "python",
   "pygments_lexer": "ipython3",
   "version": "3.7.3"
  }
 },
 "nbformat": 4,
 "nbformat_minor": 2
}
