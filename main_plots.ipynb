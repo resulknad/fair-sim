{
 "cells": [
  {
   "cell_type": "code",
   "execution_count": 1,
   "metadata": {},
   "outputs": [
    {
     "name": "stdout",
     "output_type": "stream",
     "text": [
      "Import error: No module named 'tensorflow'\n"
     ]
    }
   ],
   "source": [
    "%matplotlib inline\n",
    "%load_ext autoreload\n",
    "%autoreload 2\n",
    "\n",
    "from mutabledataset import GermanSimDataset\n",
    "from sklearn.preprocessing import MaxAbsScaler\n",
    "from agent import RationalAgent, RationalAgentOrig\n",
    "from simulation import Simulation\n",
    "from learner import LogisticLearner\n",
    "import plot\n",
    "import numpy as np\n",
    "import pandas as pd\n",
    "from learner import StatisticalParityLogisticLearner, StatisticalParityFlipperLogisticLearner\n",
    "from learner import FairLearnLearner\n",
    "from learner import RandomForestLearner, MultinomialNBLearner\n",
    "from learner import RejectOptionsLogisticLearner\n",
    "from learner import ReweighingLogisticLearner\n",
    "from IPython.display import display, Markdown, Latex\n",
    "import matplotlib.pyplot as plt\n",
    "import seaborn as sns\n",
    "from numpy.random import normal\n",
    "\n",
    "sns.set()"
   ]
  },
  {
   "cell_type": "markdown",
   "metadata": {},
   "source": [
    "## Parameters for simulation"
   ]
  },
  {
   "cell_type": "code",
   "execution_count": 2,
   "metadata": {},
   "outputs": [
    {
     "name": "stdout",
     "output_type": "stream",
     "text": [
      "48\n"
     ]
    }
   ],
   "source": [
    "\n",
    "immutable = ['age']\n",
    "\n",
    "mutable_monotone_neg = ['month', 'credit_amount', 'status', 'investment_as_income_percentage', 'number_of_credits', 'people_liable_for']\n",
    "mutable_dontknow = ['residence_since']\n",
    "mutable_monotone_pos = ['savings']\n",
    "\n",
    "categorical = ['credit_history=A34', 'purpose=A48','has_checking_account', 'purpose=A41', 'other_debtors=A103', 'purpose=A46', 'purpose=A40', 'credit_history=A31', 'employment=A74', 'credit_history=A30', 'credit_history=A33', 'purpose=A410', 'installment_plans=A143', 'housing=A153', 'property=A121', 'telephone=A192', 'skill_level=A171', 'purpose=A44', 'purpose=A45', 'housing=A152', 'other_debtors=A102', 'employment=A75', 'employment=A71', 'purpose=A43', 'property=A124', 'property=A123', 'housing=A151', 'employment=A72', 'credit_history=A32', 'property=A122', 'telephone=A191', 'installment_plans=A142', 'skill_level=A172', 'purpose=A42', 'employment=A73', 'other_debtors=A101', 'skill_level=A173', 'purpose=A49', 'installment_plans=A141', 'skill_level=A174']\n",
    "\n",
    "\n",
    "mutable_attr = 'savings'\n",
    "group_attr = 'age'\n",
    "priv_classes = [lambda x: x >= 25]\n",
    "\n",
    "privileged_group = {group_attr: 1}\n",
    "unprivileged_group = {group_attr: 0}\n",
    "DefaultAgent = RationalAgentOrig #RationalAgent, RationalAgentOrig (approx b(x) = h(x))\n",
    "\n",
    "cost_fixed = lambda size: np.abs(np.random.normal(loc=0.5,scale=0.5,size=size))\n",
    "# TODO: plot cost function for dataset\n",
    "\n",
    "C = 0.1\n",
    "\n",
    "all_mutable = mutable_monotone_pos + mutable_monotone_neg + mutable_dontknow + categorical\n",
    "c_pos = lambda x_new, x, rank: np.clip((rank(x_new)-rank(x))/len(all_mutable), 0., None)\n",
    "c_neg = lambda x_new, x, rank: np.clip((rank(x)-rank(x_new))/len(all_mutable), 0., None)\n",
    "c_cat = lambda x_new, x, rank: (C/len(all_mutable))\n",
    "c_immutable = lambda x_new, x, rank: np.abs(x_new-x)*np.nan_to_num(float('inf'))\n",
    "\n",
    "\n",
    "print(len(all_mutable))\n",
    "\n",
    "\n"
   ]
  },
  {
   "cell_type": "markdown",
   "metadata": {},
   "source": [
    "## Common simulation code"
   ]
  },
  {
   "cell_type": "code",
   "execution_count": 3,
   "metadata": {
    "lines_to_end_of_cell_marker": 0,
    "lines_to_next_cell": 1
   },
   "outputs": [],
   "source": [
    "\n",
    "def dataset():\n",
    "    return GermanSimDataset(mutable_features=all_mutable,\n",
    "            domains={k: 'auto' for k in all_mutable},\n",
    "                         discrete=all_mutable,\n",
    "                         protected_attribute_names=[group_attr],\n",
    "                         cost_fns={ **{a: c_pos for a in mutable_monotone_pos},\n",
    "                             **{a: c_neg for a in mutable_monotone_neg},\n",
    "                             **{a: c_cat for a in categorical},\n",
    "                             **{a: c_immutable for a in immutable}},\n",
    "                         privileged_classes=priv_classes,\n",
    "                         features_to_drop=['personal_status', 'sex', 'foreign_worker'])\n",
    "def do_sim(learner, cost_fixed=cost_fixed, cost_fixed_dep=None, collect_incentive_data=False):\n",
    "    data = dataset()\n",
    "    sim = Simulation(data,\n",
    "                     DefaultAgent,\n",
    "                     learner,\n",
    "                     cost_fixed if cost_fixed_dep is None else None,\n",
    "                     collect_incentive_data=collect_incentive_data,\n",
    "                     avg_out_incentive=1,\n",
    "                     no_neighbors=51,\n",
    "                     cost_distribution_dep=cost_fixed_dep,\n",
    "                     split=[0.9])\n",
    "\n",
    "    result_set = sim.start_simulation(runs=1)\n",
    "    return result_set\n"
   ]
  },
  {
   "cell_type": "markdown",
   "metadata": {},
   "source": [
    "## LogReg feature coefficients"
   ]
  },
  {
   "cell_type": "code",
   "execution_count": 4,
   "metadata": {},
   "outputs": [
    {
     "data": {
      "text/html": [
       "<div>\n",
       "<style scoped>\n",
       "    .dataframe tbody tr th:only-of-type {\n",
       "        vertical-align: middle;\n",
       "    }\n",
       "\n",
       "    .dataframe tbody tr th {\n",
       "        vertical-align: top;\n",
       "    }\n",
       "\n",
       "    .dataframe thead th {\n",
       "        text-align: right;\n",
       "    }\n",
       "</style>\n",
       "<table border=\"1\" class=\"dataframe\">\n",
       "  <thead>\n",
       "    <tr style=\"text-align: right;\">\n",
       "      <th></th>\n",
       "      <th>Feature</th>\n",
       "      <th>Coefficient LogReg</th>\n",
       "    </tr>\n",
       "  </thead>\n",
       "  <tbody>\n",
       "    <tr>\n",
       "      <th>0</th>\n",
       "      <td>month</td>\n",
       "      <td>-2.304385</td>\n",
       "    </tr>\n",
       "    <tr>\n",
       "      <th>1</th>\n",
       "      <td>credit_amount</td>\n",
       "      <td>-1.656933</td>\n",
       "    </tr>\n",
       "    <tr>\n",
       "      <th>2</th>\n",
       "      <td>credit_history=A34</td>\n",
       "      <td>1.174207</td>\n",
       "    </tr>\n",
       "    <tr>\n",
       "      <th>3</th>\n",
       "      <td>purpose=A48</td>\n",
       "      <td>1.071183</td>\n",
       "    </tr>\n",
       "    <tr>\n",
       "      <th>4</th>\n",
       "      <td>purpose=A41</td>\n",
       "      <td>0.890228</td>\n",
       "    </tr>\n",
       "    <tr>\n",
       "      <th>5</th>\n",
       "      <td>other_debtors=A103</td>\n",
       "      <td>0.783291</td>\n",
       "    </tr>\n",
       "    <tr>\n",
       "      <th>6</th>\n",
       "      <td>purpose=A46</td>\n",
       "      <td>-0.743870</td>\n",
       "    </tr>\n",
       "    <tr>\n",
       "      <th>7</th>\n",
       "      <td>purpose=A40</td>\n",
       "      <td>-0.709522</td>\n",
       "    </tr>\n",
       "    <tr>\n",
       "      <th>8</th>\n",
       "      <td>credit_history=A31</td>\n",
       "      <td>-0.704426</td>\n",
       "    </tr>\n",
       "    <tr>\n",
       "      <th>9</th>\n",
       "      <td>employment=A74</td>\n",
       "      <td>0.679532</td>\n",
       "    </tr>\n",
       "    <tr>\n",
       "      <th>10</th>\n",
       "      <td>credit_history=A30</td>\n",
       "      <td>-0.605189</td>\n",
       "    </tr>\n",
       "    <tr>\n",
       "      <th>11</th>\n",
       "      <td>has_checking_account</td>\n",
       "      <td>0.546988</td>\n",
       "    </tr>\n",
       "    <tr>\n",
       "      <th>12</th>\n",
       "      <td>credit_history=A33</td>\n",
       "      <td>0.530204</td>\n",
       "    </tr>\n",
       "    <tr>\n",
       "      <th>13</th>\n",
       "      <td>purpose=A410</td>\n",
       "      <td>0.502025</td>\n",
       "    </tr>\n",
       "    <tr>\n",
       "      <th>14</th>\n",
       "      <td>installment_plans=A143</td>\n",
       "      <td>0.493474</td>\n",
       "    </tr>\n",
       "    <tr>\n",
       "      <th>15</th>\n",
       "      <td>age</td>\n",
       "      <td>0.490919</td>\n",
       "    </tr>\n",
       "    <tr>\n",
       "      <th>16</th>\n",
       "      <td>housing=A153</td>\n",
       "      <td>0.476590</td>\n",
       "    </tr>\n",
       "    <tr>\n",
       "      <th>17</th>\n",
       "      <td>property=A121</td>\n",
       "      <td>0.466220</td>\n",
       "    </tr>\n",
       "    <tr>\n",
       "      <th>18</th>\n",
       "      <td>telephone=A192</td>\n",
       "      <td>0.450738</td>\n",
       "    </tr>\n",
       "    <tr>\n",
       "      <th>19</th>\n",
       "      <td>skill_level=A171</td>\n",
       "      <td>0.427736</td>\n",
       "    </tr>\n",
       "    <tr>\n",
       "      <th>20</th>\n",
       "      <td>purpose=A44</td>\n",
       "      <td>-0.380189</td>\n",
       "    </tr>\n",
       "    <tr>\n",
       "      <th>21</th>\n",
       "      <td>purpose=A45</td>\n",
       "      <td>-0.325932</td>\n",
       "    </tr>\n",
       "    <tr>\n",
       "      <th>22</th>\n",
       "      <td>status</td>\n",
       "      <td>-0.315669</td>\n",
       "    </tr>\n",
       "    <tr>\n",
       "      <th>23</th>\n",
       "      <td>investment_as_income_percentage</td>\n",
       "      <td>-0.297728</td>\n",
       "    </tr>\n",
       "    <tr>\n",
       "      <th>24</th>\n",
       "      <td>housing=A152</td>\n",
       "      <td>0.290026</td>\n",
       "    </tr>\n",
       "    <tr>\n",
       "      <th>25</th>\n",
       "      <td>other_debtors=A102</td>\n",
       "      <td>-0.284753</td>\n",
       "    </tr>\n",
       "    <tr>\n",
       "      <th>26</th>\n",
       "      <td>employment=A75</td>\n",
       "      <td>0.277089</td>\n",
       "    </tr>\n",
       "    <tr>\n",
       "      <th>27</th>\n",
       "      <td>employment=A71</td>\n",
       "      <td>-0.274250</td>\n",
       "    </tr>\n",
       "    <tr>\n",
       "      <th>28</th>\n",
       "      <td>purpose=A43</td>\n",
       "      <td>0.273129</td>\n",
       "    </tr>\n",
       "    <tr>\n",
       "      <th>29</th>\n",
       "      <td>savings</td>\n",
       "      <td>0.260767</td>\n",
       "    </tr>\n",
       "    <tr>\n",
       "      <th>30</th>\n",
       "      <td>number_of_credits</td>\n",
       "      <td>-0.255533</td>\n",
       "    </tr>\n",
       "    <tr>\n",
       "      <th>31</th>\n",
       "      <td>property=A124</td>\n",
       "      <td>-0.251726</td>\n",
       "    </tr>\n",
       "    <tr>\n",
       "      <th>32</th>\n",
       "      <td>property=A123</td>\n",
       "      <td>0.225411</td>\n",
       "    </tr>\n",
       "    <tr>\n",
       "      <th>33</th>\n",
       "      <td>housing=A151</td>\n",
       "      <td>-0.219628</td>\n",
       "    </tr>\n",
       "    <tr>\n",
       "      <th>34</th>\n",
       "      <td>employment=A72</td>\n",
       "      <td>-0.191123</td>\n",
       "    </tr>\n",
       "    <tr>\n",
       "      <th>35</th>\n",
       "      <td>credit_history=A32</td>\n",
       "      <td>0.152192</td>\n",
       "    </tr>\n",
       "    <tr>\n",
       "      <th>36</th>\n",
       "      <td>people_liable_for</td>\n",
       "      <td>-0.107767</td>\n",
       "    </tr>\n",
       "    <tr>\n",
       "      <th>37</th>\n",
       "      <td>property=A122</td>\n",
       "      <td>0.107084</td>\n",
       "    </tr>\n",
       "    <tr>\n",
       "      <th>38</th>\n",
       "      <td>telephone=A191</td>\n",
       "      <td>0.096250</td>\n",
       "    </tr>\n",
       "    <tr>\n",
       "      <th>39</th>\n",
       "      <td>installment_plans=A142</td>\n",
       "      <td>0.083235</td>\n",
       "    </tr>\n",
       "    <tr>\n",
       "      <th>40</th>\n",
       "      <td>skill_level=A172</td>\n",
       "      <td>0.069750</td>\n",
       "    </tr>\n",
       "    <tr>\n",
       "      <th>41</th>\n",
       "      <td>purpose=A42</td>\n",
       "      <td>-0.064921</td>\n",
       "    </tr>\n",
       "    <tr>\n",
       "      <th>42</th>\n",
       "      <td>employment=A73</td>\n",
       "      <td>0.055740</td>\n",
       "    </tr>\n",
       "    <tr>\n",
       "      <th>43</th>\n",
       "      <td>other_debtors=A101</td>\n",
       "      <td>0.048451</td>\n",
       "    </tr>\n",
       "    <tr>\n",
       "      <th>44</th>\n",
       "      <td>skill_level=A173</td>\n",
       "      <td>0.037531</td>\n",
       "    </tr>\n",
       "    <tr>\n",
       "      <th>45</th>\n",
       "      <td>purpose=A49</td>\n",
       "      <td>0.034858</td>\n",
       "    </tr>\n",
       "    <tr>\n",
       "      <th>46</th>\n",
       "      <td>installment_plans=A141</td>\n",
       "      <td>-0.029721</td>\n",
       "    </tr>\n",
       "    <tr>\n",
       "      <th>47</th>\n",
       "      <td>residence_since</td>\n",
       "      <td>-0.016056</td>\n",
       "    </tr>\n",
       "    <tr>\n",
       "      <th>48</th>\n",
       "      <td>skill_level=A174</td>\n",
       "      <td>0.011971</td>\n",
       "    </tr>\n",
       "  </tbody>\n",
       "</table>\n",
       "</div>"
      ],
      "text/plain": [
       "                            Feature  Coefficient LogReg\n",
       "0                             month           -2.304385\n",
       "1                     credit_amount           -1.656933\n",
       "2                credit_history=A34            1.174207\n",
       "3                       purpose=A48            1.071183\n",
       "4                       purpose=A41            0.890228\n",
       "5                other_debtors=A103            0.783291\n",
       "6                       purpose=A46           -0.743870\n",
       "7                       purpose=A40           -0.709522\n",
       "8                credit_history=A31           -0.704426\n",
       "9                    employment=A74            0.679532\n",
       "10               credit_history=A30           -0.605189\n",
       "11             has_checking_account            0.546988\n",
       "12               credit_history=A33            0.530204\n",
       "13                     purpose=A410            0.502025\n",
       "14           installment_plans=A143            0.493474\n",
       "15                              age            0.490919\n",
       "16                     housing=A153            0.476590\n",
       "17                    property=A121            0.466220\n",
       "18                   telephone=A192            0.450738\n",
       "19                 skill_level=A171            0.427736\n",
       "20                      purpose=A44           -0.380189\n",
       "21                      purpose=A45           -0.325932\n",
       "22                           status           -0.315669\n",
       "23  investment_as_income_percentage           -0.297728\n",
       "24                     housing=A152            0.290026\n",
       "25               other_debtors=A102           -0.284753\n",
       "26                   employment=A75            0.277089\n",
       "27                   employment=A71           -0.274250\n",
       "28                      purpose=A43            0.273129\n",
       "29                          savings            0.260767\n",
       "30                number_of_credits           -0.255533\n",
       "31                    property=A124           -0.251726\n",
       "32                    property=A123            0.225411\n",
       "33                     housing=A151           -0.219628\n",
       "34                   employment=A72           -0.191123\n",
       "35               credit_history=A32            0.152192\n",
       "36                people_liable_for           -0.107767\n",
       "37                    property=A122            0.107084\n",
       "38                   telephone=A191            0.096250\n",
       "39           installment_plans=A142            0.083235\n",
       "40                 skill_level=A172            0.069750\n",
       "41                      purpose=A42           -0.064921\n",
       "42                   employment=A73            0.055740\n",
       "43               other_debtors=A101            0.048451\n",
       "44                 skill_level=A173            0.037531\n",
       "45                      purpose=A49            0.034858\n",
       "46           installment_plans=A141           -0.029721\n",
       "47                  residence_since           -0.016056\n",
       "48                 skill_level=A174            0.011971"
      ]
     },
     "metadata": {},
     "output_type": "display_data"
    },
    {
     "data": {
      "text/markdown": [
       "### Distribution of month"
      ],
      "text/plain": [
       "<IPython.core.display.Markdown object>"
      ]
     },
     "metadata": {},
     "output_type": "display_data"
    },
    {
     "data": {
      "image/png": "[encoded data removed]",
      "text/plain": [
       "<Figure size 432x288 with 1 Axes>"
      ]
     },
     "metadata": {
      "needs_background": "light"
     },
     "output_type": "display_data"
    }
   ],
   "source": [
    "\n",
    "data = dataset()\n",
    "l = LogisticLearner()\n",
    "l.fit(data)\n",
    "\n",
    "display(pd.DataFrame(columns=['Feature', 'Coefficient LogReg'], data=l.coefs))\n",
    "\n",
    "dist_plot_attr = 'month'\n",
    "data.infer_domain()\n",
    "fns = data.rank_fns()\n",
    "\n",
    "sample = np.linspace(0,1,100)\n",
    "data_arr = list(map(fns[1][dist_plot_attr], sample))\n",
    "data_arr.extend(list(map(fns[1][dist_plot_attr], sample)))\n",
    "data_arr = np.array([np.hstack((sample,sample)), data_arr]).transpose()\n",
    "df = pd.DataFrame(data=data_arr, columns=['x', 'y'])\n",
    "ax = sns.lineplot(x='x', y=\"y\",data=df)\n",
    "display(Markdown(\"### Distribution of \" + dist_plot_attr))\n",
    "plt.show()"
   ]
  },
  {
   "cell_type": "markdown",
   "metadata": {},
   "source": [
    "## Cost function?"
   ]
  },
  {
   "cell_type": "code",
   "execution_count": 5,
   "metadata": {},
   "outputs": [
    {
     "name": "stdout",
     "output_type": "stream",
     "text": [
      "(1000, 49)\n",
      "Gradient ascend stopepd after  99 iterations (max 100)\n",
      "(1000, 49)\n"
     ]
    },
    {
     "data": {
      "text/markdown": [
       "#### Feature averages per group LogReg protected excluded"
      ],
      "text/plain": [
       "<IPython.core.display.Markdown object>"
      ]
     },
     "metadata": {},
     "output_type": "display_data"
    },
    {
     "data": {
      "text/html": [
       "<div>\n",
       "<style scoped>\n",
       "    .dataframe tbody tr th:only-of-type {\n",
       "        vertical-align: middle;\n",
       "    }\n",
       "\n",
       "    .dataframe tbody tr th {\n",
       "        vertical-align: top;\n",
       "    }\n",
       "\n",
       "    .dataframe thead th {\n",
       "        text-align: right;\n",
       "    }\n",
       "</style>\n",
       "<table border=\"1\" class=\"dataframe\">\n",
       "  <thead>\n",
       "    <tr style=\"text-align: right;\">\n",
       "      <th></th>\n",
       "      <th>0</th>\n",
       "      <th>1</th>\n",
       "    </tr>\n",
       "  </thead>\n",
       "  <tbody>\n",
       "    <tr>\n",
       "      <th>status</th>\n",
       "      <td>0.21 -&gt; 0.21</td>\n",
       "      <td>0.2 -&gt; 0.2</td>\n",
       "    </tr>\n",
       "    <tr>\n",
       "      <th>month</th>\n",
       "      <td>0.28 -&gt; 0.29</td>\n",
       "      <td>0.29 -&gt; 0.29</td>\n",
       "    </tr>\n",
       "    <tr>\n",
       "      <th>credit_amount</th>\n",
       "      <td>0.16 -&gt; 0.19</td>\n",
       "      <td>0.19 -&gt; 0.19</td>\n",
       "    </tr>\n",
       "    <tr>\n",
       "      <th>savings</th>\n",
       "      <td>1.02 -&gt; 1.05</td>\n",
       "      <td>1.33 -&gt; 1.35</td>\n",
       "    </tr>\n",
       "    <tr>\n",
       "      <th>investment_as_income_percentage</th>\n",
       "      <td>2.77 -&gt; 2.7</td>\n",
       "      <td>3.01 -&gt; 3.01</td>\n",
       "    </tr>\n",
       "    <tr>\n",
       "      <th>residence_since</th>\n",
       "      <td>2.91 -&gt; 2.56</td>\n",
       "      <td>2.83 -&gt; 2.72</td>\n",
       "    </tr>\n",
       "    <tr>\n",
       "      <th>age</th>\n",
       "      <td>0.0 -&gt; 0.0</td>\n",
       "      <td>1.0 -&gt; 1.0</td>\n",
       "    </tr>\n",
       "    <tr>\n",
       "      <th>number_of_credits</th>\n",
       "      <td>1.2 -&gt; 1.28</td>\n",
       "      <td>1.44 -&gt; 1.52</td>\n",
       "    </tr>\n",
       "    <tr>\n",
       "      <th>people_liable_for</th>\n",
       "      <td>1.04 -&gt; 1.05</td>\n",
       "      <td>1.18 -&gt; 1.21</td>\n",
       "    </tr>\n",
       "    <tr>\n",
       "      <th>has_checking_account</th>\n",
       "      <td>1.0 -&gt; 1.0</td>\n",
       "      <td>1.0 -&gt; 1.0</td>\n",
       "    </tr>\n",
       "    <tr>\n",
       "      <th>credit</th>\n",
       "      <td>0.59 -&gt; 0.48</td>\n",
       "      <td>0.72 -&gt; 0.71</td>\n",
       "    </tr>\n",
       "    <tr>\n",
       "      <th>credit_history</th>\n",
       "      <td>0 -&gt; 0</td>\n",
       "      <td>0 -&gt; 0</td>\n",
       "    </tr>\n",
       "    <tr>\n",
       "      <th>purpose</th>\n",
       "      <td>0 -&gt; 0</td>\n",
       "      <td>0 -&gt; 0</td>\n",
       "    </tr>\n",
       "    <tr>\n",
       "      <th>employment</th>\n",
       "      <td>0 -&gt; 0</td>\n",
       "      <td>0 -&gt; 0</td>\n",
       "    </tr>\n",
       "    <tr>\n",
       "      <th>other_debtors</th>\n",
       "      <td>0 -&gt; 0</td>\n",
       "      <td>0 -&gt; 0</td>\n",
       "    </tr>\n",
       "    <tr>\n",
       "      <th>property</th>\n",
       "      <td>0 -&gt; 0</td>\n",
       "      <td>0 -&gt; 0</td>\n",
       "    </tr>\n",
       "    <tr>\n",
       "      <th>installment_plans</th>\n",
       "      <td>0 -&gt; 0</td>\n",
       "      <td>0 -&gt; 0</td>\n",
       "    </tr>\n",
       "    <tr>\n",
       "      <th>housing</th>\n",
       "      <td>0 -&gt; 0</td>\n",
       "      <td>0 -&gt; 0</td>\n",
       "    </tr>\n",
       "    <tr>\n",
       "      <th>skill_level</th>\n",
       "      <td>0 -&gt; 0</td>\n",
       "      <td>0 -&gt; 0</td>\n",
       "    </tr>\n",
       "    <tr>\n",
       "      <th>telephone</th>\n",
       "      <td>0 -&gt; 0</td>\n",
       "      <td>0 -&gt; 0</td>\n",
       "    </tr>\n",
       "    <tr>\n",
       "      <th>credit_h</th>\n",
       "      <td>0.72 -&gt; 0.73</td>\n",
       "      <td>0.82 -&gt; 0.82</td>\n",
       "    </tr>\n",
       "  </tbody>\n",
       "</table>\n",
       "</div>"
      ],
      "text/plain": [
       "                                            0             1\n",
       "status                           0.21 -> 0.21    0.2 -> 0.2\n",
       "month                            0.28 -> 0.29  0.29 -> 0.29\n",
       "credit_amount                    0.16 -> 0.19  0.19 -> 0.19\n",
       "savings                          1.02 -> 1.05  1.33 -> 1.35\n",
       "investment_as_income_percentage   2.77 -> 2.7  3.01 -> 3.01\n",
       "residence_since                  2.91 -> 2.56  2.83 -> 2.72\n",
       "age                                0.0 -> 0.0    1.0 -> 1.0\n",
       "number_of_credits                 1.2 -> 1.28  1.44 -> 1.52\n",
       "people_liable_for                1.04 -> 1.05  1.18 -> 1.21\n",
       "has_checking_account               1.0 -> 1.0    1.0 -> 1.0\n",
       "credit                           0.59 -> 0.48  0.72 -> 0.71\n",
       "credit_history                         0 -> 0        0 -> 0\n",
       "purpose                                0 -> 0        0 -> 0\n",
       "employment                             0 -> 0        0 -> 0\n",
       "other_debtors                          0 -> 0        0 -> 0\n",
       "property                               0 -> 0        0 -> 0\n",
       "installment_plans                      0 -> 0        0 -> 0\n",
       "housing                                0 -> 0        0 -> 0\n",
       "skill_level                            0 -> 0        0 -> 0\n",
       "telephone                              0 -> 0        0 -> 0\n",
       "credit_h                         0.72 -> 0.73  0.82 -> 0.82"
      ]
     },
     "metadata": {},
     "output_type": "display_data"
    }
   ],
   "source": [
    "rs = do_sim(LogisticLearner(exclude_protected=True), collect_incentive_data=False)\n",
    "display(Markdown(\"#### Feature averages per group LogReg protected excluded\"))\n",
    "display(rs.feature_table([unprivileged_group, privileged_group]))\n",
    "#for grp_avg in (rs.results[0].df_new.groupby([group_attr]).mean().reset_index()):\n",
    "#    samples = np.linspace(min(data.domains[mutable_attr]), max(data.domains[mutable_attr]),50)\n",
    "#    incentive ="
   ]
  },
  {
   "cell_type": "code",
   "execution_count": 6,
   "metadata": {},
   "outputs": [],
   "source": [
    "#ax = sns.lineplot(x=mutable_attr, y=\"incentive\",hue=group_attr,data=(rs.\n",
    "#    _avg_incentive(mutable_attr, group_attr)).reset_index())\n",
    "#plt.show()"
   ]
  },
  {
   "cell_type": "code",
   "execution_count": 7,
   "metadata": {},
   "outputs": [
    {
     "data": {
      "text/markdown": [
       "#### distribution pre/post sim for savings"
      ],
      "text/plain": [
       "<IPython.core.display.Markdown object>"
      ]
     },
     "metadata": {},
     "output_type": "display_data"
    },
    {
     "data": {
      "image/png": "[encoded data removed]",
      "text/plain": [
       "<Figure size 423.475x360 with 1 Axes>"
      ]
     },
     "metadata": {
      "needs_background": "light"
     },
     "output_type": "display_data"
    }
   ],
   "source": [
    "display(Markdown(\"#### distribution pre/post sim for \" + mutable_attr))\n",
    "\n",
    "def merge_dfs(col, colval1, colval2, df1, df2):\n",
    "    df1[col] = pd.Series([colval1] * len(df1.index), df1.index)\n",
    "    df2[col] = pd.Series([colval2] * len(df2.index), df2.index)\n",
    "    return pd.concat((df1, df2))\n",
    "merged =merge_dfs('time', 'pre', 'post', rs.results[0].df, rs.results[0].df_new)\n",
    "sns.catplot(x=mutable_attr, hue=\"time\", kind=\"count\",\n",
    "            data=merged)\n",
    "plt.show()"
   ]
  },
  {
   "cell_type": "markdown",
   "metadata": {},
   "source": [
    "## Comparison of different predictive methods"
   ]
  },
  {
   "cell_type": "code",
   "execution_count": 8,
   "metadata": {
    "lines_to_end_of_cell_marker": 2
   },
   "outputs": [
    {
     "name": "stdout",
     "output_type": "stream",
     "text": [
      "(1000, 49)\n",
      "Gradient ascend stopepd after  99 iterations (max 100)\n",
      "(1000, 49)\n",
      "(1000, 49)\n",
      "Gradient ascend stopepd after  99 iterations (max 100)\n",
      "(1000, 49)\n",
      "(1000, 49)\n",
      "Gradient ascend stopepd after  16 iterations (max 100)\n",
      "(1000, 49)\n"
     ]
    },
    {
     "data": {
      "text/plain": [
       "<Figure size 432x288 with 0 Axes>"
      ]
     },
     "metadata": {},
     "output_type": "display_data"
    },
    {
     "data": {
      "image/png": "[encoded data removed]",
      "text/plain": [
       "<Figure size 423.475x360 with 1 Axes>"
      ]
     },
     "metadata": {
      "needs_background": "light"
     },
     "output_type": "display_data"
    }
   ],
   "source": [
    "y_attr = 'credit' #mutable_attr # credit_h for prediction, credit for updated ground truth\n",
    "def extract_avg_ft(rs, ft, name):\n",
    "    pre_p_mean, _, post_p_mean, _ = rs.feature_average(y_attr, {})\n",
    "    return [[name, 'pre', pre_p_mean], [name, 'post', post_p_mean]]\n",
    "plot_data = []\n",
    "\n",
    "rs = do_sim(LogisticLearner(exclude_protected=True))\n",
    "plot_data = extract_avg_ft(rs, y_attr, \"LogReg\")\n",
    "\n",
    "rs = do_sim(RandomForestLearner())\n",
    "plot_data += extract_avg_ft(rs, y_attr, \"RandomForest\")\n",
    "\n",
    "rs = do_sim(MultinomialNBLearner())\n",
    "plot_data += extract_avg_ft(rs, y_attr, \"MultinomialNB\")\n",
    "\n",
    "plot_data_df = pd.DataFrame(plot_data, columns=[\"name\", \"time\", y_attr])\n",
    "plt.figure()\n",
    "sns.catplot(x=\"name\", y=y_attr, hue=\"time\", kind=\"bar\",\n",
    "            data=plot_data_df)\n",
    "plt.show()"
   ]
  },
  {
   "cell_type": "markdown",
   "metadata": {},
   "source": [
    "## Color-sighted vs. color-blind"
   ]
  },
  {
   "cell_type": "code",
   "execution_count": 9,
   "metadata": {},
   "outputs": [
    {
     "name": "stdout",
     "output_type": "stream",
     "text": [
      "(1000, 49)\n",
      "Gradient ascend stopepd after  89 iterations (max 100)\n",
      "(1000, 49)\n",
      "(1000, 49)\n",
      "Gradient ascend stopepd after  99 iterations (max 100)\n",
      "(1000, 49)\n",
      "(1000, 49)\n",
      "Gradient ascend stopepd after  99 iterations (max 100)\n",
      "(1000, 49)\n",
      "(1000, 49)\n",
      "Gradient ascend stopepd after  99 iterations (max 100)\n",
      "(1000, 49)\n",
      "(1000, 49)\n",
      "Gradient ascend stopepd after  15 iterations (max 100)\n",
      "(1000, 49)\n",
      "(1000, 49)\n",
      "Gradient ascend stopepd after  14 iterations (max 100)\n",
      "(1000, 49)\n"
     ]
    },
    {
     "data": {
      "text/plain": [
       "<Figure size 432x288 with 0 Axes>"
      ]
     },
     "metadata": {},
     "output_type": "display_data"
    },
    {
     "data": {
      "image/png": "[encoded data removed]",
      "text/plain": [
       "<Figure size 462.8x360 with 1 Axes>"
      ]
     },
     "metadata": {
      "needs_background": "light"
     },
     "output_type": "display_data"
    }
   ],
   "source": [
    "\n",
    "metric_name = \"statpar\" #gtdiff, mutablediff\n",
    "\n",
    "def extract_metric(rs, metric_name=\"statpar\", time='post'):\n",
    "    if metric_name == \"statpar\":\n",
    "        ret = rs.stat_parity_diff(unprivileged_group, privileged_group, time=time )\n",
    "        return ret\n",
    "    elif metric_name == 'gtdiff':\n",
    "        gt_label = data.label_names[0]\n",
    "        pre_p_mean, _, post_p_mean, _ = rs.feature_average(gt_label, privileged_group)\n",
    "        pre_up_mean, _, post_up_mean, _ = rs.feature_average(gt_label, unprivileged_group)\n",
    "        return abs(post_p_mean - post_up_mean) if time == 'post' else abs(pre_p_mean - pre_up_mean)\n",
    "    elif metric_name == 'mutablediff':\n",
    "        pre_p_mean, _, post_p_mean, _ = rs.feature_average(mutable_attr, privileged_group)\n",
    "        pre_up_mean, _, post_up_mean, _ = rs.feature_average(mutable_attr, unprivileged_group)\n",
    "        return abs(post_p_mean - post_up_mean) if time == 'post' else abs(pre_p_mean - pre_up_mean)\n",
    "\n",
    "    return None\n",
    "\n",
    "\n",
    "plot_data = []\n",
    "rs = do_sim(LogisticLearner(exclude_protected=True))\n",
    "plot_data.append([\"LogReg\", False, extract_metric(rs, metric_name=metric_name)])\n",
    "\n",
    "rs = do_sim(LogisticLearner())\n",
    "plot_data.append([\"LogReg\", True, extract_metric(rs, metric_name=metric_name)])\n",
    "\n",
    "rs = do_sim(RandomForestLearner())\n",
    "plot_data.append([\"RandomForest\", True, extract_metric(rs, metric_name=metric_name)])\n",
    "\n",
    "rs = do_sim(RandomForestLearner(exclude_protected=True))\n",
    "plot_data.append([\"RandomForest\", False, extract_metric(rs, metric_name=metric_name)])\n",
    "\n",
    "rs = do_sim(MultinomialNBLearner())\n",
    "plot_data.append([\"MultinomialNB\", True, extract_metric(rs, metric_name=metric_name)])\n",
    "\n",
    "rs = do_sim(MultinomialNBLearner(exclude_protected=True))\n",
    "plot_data.append([\"MultinomialNB\", False, extract_metric(rs, metric_name=metric_name)])\n",
    "\n",
    "plot_data_df = pd.DataFrame(plot_data, columns=[\"name\", \"protectedincluded\", metric_name])\n",
    "\n",
    "plt.figure()\n",
    "sns.catplot(x=\"name\", y=metric_name, hue=\"protectedincluded\", kind=\"bar\",\n",
    "            data=plot_data_df)\n",
    "plt.savefig(\"sighted_comp.png\")\n"
   ]
  },
  {
   "cell_type": "markdown",
   "metadata": {},
   "source": [
    "# Notions of Fairness"
   ]
  },
  {
   "cell_type": "code",
   "execution_count": 10,
   "metadata": {},
   "outputs": [
    {
     "name": "stdout",
     "output_type": "stream",
     "text": [
      "(1000, 49)\n",
      "Gradient ascend stopepd after  99 iterations (max 100)\n",
      "(1000, 49)\n",
      "(1000, 49)\n",
      "Gradient ascend stopepd after  99 iterations (max 100)\n",
      "(1000, 49)\n"
     ]
    },
    {
     "data": {
      "text/plain": [
       "<Figure size 432x288 with 0 Axes>"
      ]
     },
     "metadata": {},
     "output_type": "display_data"
    },
    {
     "data": {
      "image/png": "[encoded data removed]",
      "text/plain": [
       "<Figure size 423.475x360 with 1 Axes>"
      ]
     },
     "metadata": {
      "needs_background": "light"
     },
     "output_type": "display_data"
    }
   ],
   "source": [
    "\n",
    "# Compare different notions of fairness\n",
    "y_attr = 'credit'\n",
    "\n",
    "rs = do_sim(RejectOptionsLogisticLearner([privileged_group], [unprivileged_group]))\n",
    "plot_data = extract_avg_ft(rs, mutable_attr, \"RO_StatPar\")\n",
    "\n",
    "rs = do_sim(RejectOptionsLogisticLearner([privileged_group], [unprivileged_group], metric_name='Equal opportunity difference'))\n",
    "plot_data += extract_avg_ft(rs, mutable_attr, \"RO_EqOpp\")\n",
    "\n",
    "plot_data_df = pd.DataFrame(plot_data, columns=[\"name\", \"time\", y_attr])\n",
    "\n",
    "\n",
    "plt.figure()\n",
    "sns.catplot(x=\"name\", y=y_attr, hue=\"time\", kind=\"bar\",\n",
    "            data=plot_data_df)\n",
    "plt.show()\n"
   ]
  },
  {
   "cell_type": "markdown",
   "metadata": {},
   "source": [
    "## Statistical parity comparison"
   ]
  },
  {
   "cell_type": "code",
   "execution_count": 11,
   "metadata": {},
   "outputs": [
    {
     "name": "stdout",
     "output_type": "stream",
     "text": [
      "(1000, 49)\n",
      "Gradient ascend stopepd after  71 iterations (max 100)\n",
      "(1000, 49)\n",
      "(1000, 49)\n",
      "Gradient ascend stopepd after  54 iterations (max 100)\n",
      "(1000, 49)\n",
      "(1000, 49)\n",
      "Gradient ascend stopepd after  99 iterations (max 100)\n",
      "(1000, 49)\n"
     ]
    },
    {
     "data": {
      "text/plain": [
       "<Figure size 432x288 with 0 Axes>"
      ]
     },
     "metadata": {},
     "output_type": "display_data"
    },
    {
     "data": {
      "image/png": "[encoded data removed]",
      "text/plain": [
       "<Figure size 423.475x360 with 1 Axes>"
      ]
     },
     "metadata": {
      "needs_background": "light"
     },
     "output_type": "display_data"
    }
   ],
   "source": [
    "\n",
    "plot_data = []\n",
    "learners = [(\"pre\", ReweighingLogisticLearner([privileged_group], [unprivileged_group])),\n",
    "    (\"in\",FairLearnLearner([privileged_group], [unprivileged_group])),\n",
    "    (\"post\",RejectOptionsLogisticLearner([privileged_group], [unprivileged_group]))]\n",
    "\n",
    "y_attr = mutable_attr\n",
    "y_attr = 'credit'\n",
    "\n",
    "for name, l in learners:\n",
    "    rs = do_sim(l)\n",
    "    plot_data += extract_avg_ft(rs, mutable_attr, name)\n",
    "\n",
    "plot_data_df = pd.DataFrame(plot_data, columns=[\"name\", \"time\", y_attr])\n",
    "\n",
    "plt.figure()\n",
    "sns.catplot(x=\"name\", y=y_attr, hue=\"time\", kind=\"bar\",\n",
    "            data=plot_data_df)\n",
    "plt.show()\n",
    "\n",
    "# split for groups\n",
    "# 1. section 2.1 for cost function\n",
    "# 2. cost function as distance, only within group (immutable)"
   ]
  },
  {
   "cell_type": "markdown",
   "metadata": {},
   "source": [
    "## Time of Intervention"
   ]
  },
  {
   "cell_type": "code",
   "execution_count": 12,
   "metadata": {
    "lines_to_next_cell": 0
   },
   "outputs": [
    {
     "name": "stdout",
     "output_type": "stream",
     "text": [
      "(1000, 49)\n",
      "Gradient ascend stopepd after  42 iterations (max 100)\n",
      "(1000, 49)\n",
      "(1000, 49)\n",
      "Gradient ascend stopepd after  40 iterations (max 100)\n",
      "(1000, 49)\n",
      "(1000, 49)\n",
      "Gradient ascend stopepd after  99 iterations (max 100)\n",
      "(1000, 49)\n",
      "(1000, 49)\n",
      "Gradient ascend stopepd after  49 iterations (max 100)\n",
      "(1000, 49)\n",
      "(1000, 49)\n",
      "Gradient ascend stopepd after  99 iterations (max 100)\n",
      "(1000, 49)\n",
      "(1000, 49)\n",
      "Gradient ascend stopepd after  99 iterations (max 100)\n",
      "(1000, 49)\n",
      "(1000, 49)\n",
      "Gradient ascend stopepd after  99 iterations (max 100)\n",
      "(1000, 49)\n",
      "(1000, 49)\n",
      "Gradient ascend stopepd after  99 iterations (max 100)\n",
      "(1000, 49)\n",
      "  index   subsidy   statpar\n",
      "0   pre  0.000000  0.069370\n",
      "1   pre  0.333333  0.150246\n",
      "2   pre  0.666667  0.143377\n",
      "3   pre  1.000000  0.264836\n",
      "4  post  0.000000  0.006711\n",
      "5  post  0.333333  0.090427\n",
      "6  post  0.666667  0.121523\n",
      "7  post  1.000000  0.155056\n"
     ]
    },
    {
     "data": {
      "image/png": "[encoded data removed]",
      "text/plain": [
       "<Figure size 432x288 with 1 Axes>"
      ]
     },
     "metadata": {
      "needs_background": "light"
     },
     "output_type": "display_data"
    }
   ],
   "source": [
    "\n",
    "metric_name = 'statpar' # statpar, gtdiff\n",
    "subsidies = np.linspace(0,1,4)\n",
    "learner = LogisticLearner(exclude_protected=True)\n",
    "\n",
    "# creates a instance dependant cost lambda fn\n",
    "# which reduces cost for unprivileged group by subsidy\n",
    "def cost_fixed_dependant(subsidy):\n",
    "    group_attr_ind = data._ft_index(group_attr)\n",
    "    privileged_val = privileged_group[group_attr]\n",
    "\n",
    "    return lambda x: cost_fixed(1)[0] if x[group_attr_ind] == privileged_val else cost_fixed(1)[0] - subsidy\n",
    "\n",
    "result_sets = list(map(lambda s: do_sim(learner, cost_fixed_dep=cost_fixed_dependant(s)), subsidies))\n",
    "result_sets += list(map(lambda s: do_sim(RejectOptionsLogisticLearner([privileged_group], [unprivileged_group], abs_bound=s)), subsidies))\n",
    "\n",
    "y_values = list(map(lambda rs: extract_metric(rs, metric_name), result_sets))\n",
    "index = ['pre'] * len(subsidies) + ['post'] * len(subsidies)\n",
    "x = np.array([np.hstack((subsidies,subsidies)), y_values]).transpose()\n",
    "\n",
    "plot_data_df = pd.DataFrame(x, columns=['subsidy', metric_name],index=index).reset_index()\n",
    "print(plot_data_df)\n",
    "plt.figure()\n",
    "ax = sns.lineplot(x='subsidy',hue='index', y=metric_name, data=plot_data_df)\n",
    "plt.show()\n",
    "\n",
    "#for rs in result_sets:\n",
    "#    ax = sns.lineplot(x=mutable_attr, y=\"incentive\",hue=group_attr,data=(rs.                     _avg_incentive(mutable_attr, group_attr)).reset_index())\n",
    "#    plt.show()"
   ]
  },
  {
   "cell_type": "code",
   "execution_count": null,
   "metadata": {
    "lines_to_next_cell": 2
   },
   "outputs": [],
   "source": []
  }
 ],
 "metadata": {
  "kernelspec": {
   "display_name": "Python 3",
   "language": "python",
   "name": "python3"
  },
  "language_info": {
   "codemirror_mode": {
    "name": "ipython",
    "version": 3
   },
   "file_extension": ".py",
   "mimetype": "text/x-python",
   "name": "python",
   "nbconvert_exporter": "python",
   "pygments_lexer": "ipython3",
   "version": "3.7.3"
  }
 },
 "nbformat": 4,
 "nbformat_minor": 2
}
