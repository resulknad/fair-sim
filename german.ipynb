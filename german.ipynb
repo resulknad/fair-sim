{
 "cells": [
  {
   "cell_type": "code",
   "execution_count": 2,
   "metadata": {},
   "outputs": [
    {
     "name": "stderr",
     "output_type": "stream",
     "text": [
      "/home/dan/.local/share/virtualenvs/simulation-lLjf8lvH/lib/python3.5/importlib/_bootstrap.py:222: RuntimeWarning: numpy.dtype size changed, may indicate binary incompatibility. Expected 96, got 88\n",
      "  return f(*args, **kwds)\n",
      "/home/dan/.local/share/virtualenvs/simulation-lLjf8lvH/lib/python3.5/importlib/_bootstrap.py:222: RuntimeWarning: numpy.dtype size changed, may indicate binary incompatibility. Expected 96, got 88\n",
      "  return f(*args, **kwds)\n",
      "/home/dan/.local/share/virtualenvs/simulation-lLjf8lvH/lib/python3.5/importlib/_bootstrap.py:222: RuntimeWarning: numpy.dtype size changed, may indicate binary incompatibility. Expected 96, got 88\n",
      "  return f(*args, **kwds)\n",
      "/home/dan/.local/share/virtualenvs/simulation-lLjf8lvH/lib/python3.5/importlib/_bootstrap.py:222: RuntimeWarning: numpy.dtype size changed, may indicate binary incompatibility. Expected 96, got 88\n",
      "  return f(*args, **kwds)\n",
      "/home/dan/.local/share/virtualenvs/simulation-lLjf8lvH/lib/python3.5/importlib/_bootstrap.py:222: RuntimeWarning: numpy.dtype size changed, may indicate binary incompatibility. Expected 96, got 88\n",
      "  return f(*args, **kwds)\n",
      "/home/dan/.local/share/virtualenvs/simulation-lLjf8lvH/lib/python3.5/importlib/_bootstrap.py:222: RuntimeWarning: numpy.dtype size changed, may indicate binary incompatibility. Expected 96, got 88\n",
      "  return f(*args, **kwds)\n",
      "/home/dan/.local/share/virtualenvs/simulation-lLjf8lvH/lib/python3.5/importlib/_bootstrap.py:222: RuntimeWarning: numpy.dtype size changed, may indicate binary incompatibility. Expected 96, got 88\n",
      "  return f(*args, **kwds)\n"
     ]
    }
   ],
   "source": [
    "%load_ext autoreload\n",
    "%autoreload 2\n",
    "from mutabledataset import GermanSimDataset\n",
    "from agent import RationalAgent\n",
    "from simulation import Simulation\n",
    "from learner import LogisticLearner\n",
    "\n",
    "import plot\n",
    "import numpy as np\n",
    "import pandas as pd\n",
    "def print_table(df):\n",
    "    young = plot.count_df(df, [{'age': 0, 'credit_h': 1}, {'age': 0, 'credit_h': 0}])\n",
    "    young_n = young.sum()\n",
    "    young = young / young.sum() * 100\n",
    "\n",
    "    old = plot.count_df(df, [{'age': 1, 'credit_h': 1}, {'age': 1, 'credit_h': 0}])\n",
    "    old_n = old.sum()\n",
    "    old = old / old.sum() * 100\n",
    "    tbl = pd.DataFrame(data=[young,old], index=['Young ('+str(young_n)+')', 'Old ('+str(old_n)+')'], columns=['Good Credit', 'Bad Credit'])\n",
    "    return (tbl)\n",
    "    #plot.plot_pie(sim.dataset_df, [{'age': 0, 'credit_h': 1},\n",
    "    #                               {'age': 0, 'credit_h': 0}],\n",
    "    #              ['Good', 'Bad'], 'Young')\n",
    "\n",
    "    #plot.plot_pie(sim.dataset_df, [{'age': 1, 'credit_h': 1},\n",
    "    #                               {'age': 1, 'credit_h': 0}],\n",
    "    #              ['Good', 'Bad'], 'Old')\n",
    "\n",
    "    #plot.plot_pie(sim.dataset_new_df, [{'age': 0, 'credit_h': 1},\n",
    "    #                               {'age': 0, 'credit_h': 0}],\n",
    "    #              ['Good', 'Bad'], 'Young')\n",
    "\n",
    "    #plot.plot_pie(sim.dataset_new_df, [{'age': 1, 'credit_h': 1},\n",
    "    #                               {'age': 1, 'credit_h': 0}],\n",
    "    #              ['Good', 'Bad'], 'Old')\n",
    "\n"
   ]
  },
  {
   "cell_type": "markdown",
   "metadata": {},
   "source": [
    "# Logistic Regression"
   ]
  },
  {
   "cell_type": "code",
   "execution_count": 3,
   "metadata": {},
   "outputs": [
    {
     "name": "stdout",
     "output_type": "stream",
     "text": [
      "Train:  (500, 58) , Test:  (500, 58)\n"
     ]
    },
    {
     "name": "stderr",
     "output_type": "stream",
     "text": [
      "/home/dan/ETH/ba/simulation/mutabledataset.py:84: UserWarning: Use set of values present in dataset to infer domain for feature savings\n",
      "  warnings.warn(\"Use set of values present in dataset to infer domain for feature \" + ft)\n"
     ]
    },
    {
     "name": "stdout",
     "output_type": "stream",
     "text": [
      "Accuracy (h) pre 0.702\n",
      "Accuracy (h) post 0.78\n",
      "Accuracy (h*) post 0.776\n",
      "eps =  0.0\n",
      "y=1 788.0  <-  700.0\n"
     ]
    }
   ],
   "source": [
    "g = GermanSimDataset(mutable_features=['savings'],\n",
    "                     domains={'savings': 'auto'},\n",
    "                     discrete=['savings'])\n",
    "sim = Simulation(g,\n",
    "                 RationalAgent,\n",
    "                 LogisticLearner(),\n",
    "                 lambda size: np.abs(np.random.normal(loc=1.0,size=size)))\n",
    " \n",
    "sim.start_simulation(include_protected=True)\n"
   ]
  },
  {
   "cell_type": "code",
   "execution_count": 4,
   "metadata": {},
   "outputs": [
    {
     "name": "stdout",
     "output_type": "stream",
     "text": [
      "79\n"
     ]
    }
   ],
   "source": [
    "df,_ = sim.train.convert_to_dataframe(de_dummy_code=True)\n",
    "print(np.array(df['age'] == 0).sum())"
   ]
  },
  {
   "cell_type": "markdown",
   "metadata": {},
   "source": [
    "### Mutable Features"
   ]
  },
  {
   "cell_type": "code",
   "execution_count": 5,
   "metadata": {},
   "outputs": [
    {
     "name": "stdout",
     "output_type": "stream",
     "text": [
      "young\n"
     ]
    },
    {
     "data": {
      "image/png": "[encoded data removed]",
      "text/plain": [
       "<Figure size 432x288 with 1 Axes>"
      ]
     },
     "metadata": {
      "needs_background": "light"
     },
     "output_type": "display_data"
    },
    {
     "name": "stdout",
     "output_type": "stream",
     "text": [
      "old\n"
     ]
    },
    {
     "data": {
      "image/png": "[encoded data removed]",
      "text/plain": [
       "<Figure size 432x288 with 1 Axes>"
      ]
     },
     "metadata": {
      "needs_background": "light"
     },
     "output_type": "display_data"
    },
    {
     "data": {
      "text/html": [
       "<div>\n",
       "<style scoped>\n",
       "    .dataframe tbody tr th:only-of-type {\n",
       "        vertical-align: middle;\n",
       "    }\n",
       "\n",
       "    .dataframe tbody tr th {\n",
       "        vertical-align: top;\n",
       "    }\n",
       "\n",
       "    .dataframe thead th {\n",
       "        text-align: right;\n",
       "    }\n",
       "</style>\n",
       "<table border=\"1\" class=\"dataframe\">\n",
       "  <thead>\n",
       "    <tr style=\"text-align: right;\">\n",
       "      <th></th>\n",
       "      <th>Good Credit</th>\n",
       "      <th>Bad Credit</th>\n",
       "    </tr>\n",
       "  </thead>\n",
       "  <tbody>\n",
       "    <tr>\n",
       "      <th>Young (149)</th>\n",
       "      <td>74.496644</td>\n",
       "      <td>25.503356</td>\n",
       "    </tr>\n",
       "    <tr>\n",
       "      <th>Old (851)</th>\n",
       "      <td>88.719154</td>\n",
       "      <td>11.280846</td>\n",
       "    </tr>\n",
       "  </tbody>\n",
       "</table>\n",
       "</div>"
      ],
      "text/plain": [
       "             Good Credit  Bad Credit\n",
       "Young (149)    74.496644   25.503356\n",
       "Old (851)      88.719154   11.280846"
      ]
     },
     "execution_count": 5,
     "metadata": {},
     "output_type": "execute_result"
    }
   ],
   "source": [
    "print(\"young\")\n",
    "plot.plot_mutable_features(sim,selection_criteria={'age':0})\n",
    "print(\"old\")\n",
    "plot.plot_mutable_features(sim,selection_criteria={'age':1})"
   ]
  },
  {
   "cell_type": "markdown",
   "metadata": {},
   "source": [
    "### Young, Old (Pre Simulation)"
   ]
  },
  {
   "cell_type": "code",
   "execution_count": 5,
   "metadata": {},
   "outputs": [
    {
     "data": {
      "text/html": [
       "<div>\n",
       "<style scoped>\n",
       "    .dataframe tbody tr th:only-of-type {\n",
       "        vertical-align: middle;\n",
       "    }\n",
       "\n",
       "    .dataframe tbody tr th {\n",
       "        vertical-align: top;\n",
       "    }\n",
       "\n",
       "    .dataframe thead th {\n",
       "        text-align: right;\n",
       "    }\n",
       "</style>\n",
       "<table border=\"1\" class=\"dataframe\">\n",
       "  <thead>\n",
       "    <tr style=\"text-align: right;\">\n",
       "      <th></th>\n",
       "      <th>Good Credit</th>\n",
       "      <th>Bad Credit</th>\n",
       "    </tr>\n",
       "  </thead>\n",
       "  <tbody>\n",
       "    <tr>\n",
       "      <th>Young (149)</th>\n",
       "      <td>55.033557</td>\n",
       "      <td>44.966443</td>\n",
       "    </tr>\n",
       "    <tr>\n",
       "      <th>Old (851)</th>\n",
       "      <td>79.788484</td>\n",
       "      <td>20.211516</td>\n",
       "    </tr>\n",
       "  </tbody>\n",
       "</table>\n",
       "</div>"
      ],
      "text/plain": [
       "             Good Credit  Bad Credit\n",
       "Young (149)    55.033557   44.966443\n",
       "Old (851)      79.788484   20.211516"
      ]
     },
     "execution_count": 5,
     "metadata": {},
     "output_type": "execute_result"
    }
   ],
   "source": [
    "print_table(sim.dataset_df)"
   ]
  },
  {
   "cell_type": "markdown",
   "metadata": {},
   "source": [
    "### Young, Old (Post Simulation)"
   ]
  },
  {
   "cell_type": "code",
   "execution_count": 6,
   "metadata": {
    "scrolled": true
   },
   "outputs": [
    {
     "data": {
      "text/html": [
       "<div>\n",
       "<style scoped>\n",
       "    .dataframe tbody tr th:only-of-type {\n",
       "        vertical-align: middle;\n",
       "    }\n",
       "\n",
       "    .dataframe tbody tr th {\n",
       "        vertical-align: top;\n",
       "    }\n",
       "\n",
       "    .dataframe thead th {\n",
       "        text-align: right;\n",
       "    }\n",
       "</style>\n",
       "<table border=\"1\" class=\"dataframe\">\n",
       "  <thead>\n",
       "    <tr style=\"text-align: right;\">\n",
       "      <th></th>\n",
       "      <th>Good Credit</th>\n",
       "      <th>Bad Credit</th>\n",
       "    </tr>\n",
       "  </thead>\n",
       "  <tbody>\n",
       "    <tr>\n",
       "      <th>Young (149)</th>\n",
       "      <td>81.208054</td>\n",
       "      <td>18.791946</td>\n",
       "    </tr>\n",
       "    <tr>\n",
       "      <th>Old (851)</th>\n",
       "      <td>88.366627</td>\n",
       "      <td>11.633373</td>\n",
       "    </tr>\n",
       "  </tbody>\n",
       "</table>\n",
       "</div>"
      ],
      "text/plain": [
       "             Good Credit  Bad Credit\n",
       "Young (149)    81.208054   18.791946\n",
       "Old (851)      88.366627   11.633373"
      ]
     },
     "execution_count": 6,
     "metadata": {},
     "output_type": "execute_result"
    }
   ],
   "source": [
    "print_table(sim.dataset_new_df)"
   ]
  },
  {
   "cell_type": "markdown",
   "metadata": {},
   "source": [
    "# Logistic Regression with Reweighing"
   ]
  },
  {
   "cell_type": "code",
   "execution_count": 10,
   "metadata": {
    "scrolled": true
   },
   "outputs": [
    {
     "name": "stdout",
     "output_type": "stream",
     "text": [
      "Train:  (500, 57) , Test:  (500, 57)\n",
      "before reweighing (meandiff): -0.05833333333333324 after: 2.220446049250313e-16\n"
     ]
    },
    {
     "name": "stderr",
     "output_type": "stream",
     "text": [
      "/home/dan/ETH/ba/simulation/mutabledataset.py:84: UserWarning: Use set of values present in dataset to infer domain for feature savings\n",
      "  warnings.warn(\"Use set of values present in dataset to infer domain for feature \" + ft)\n"
     ]
    },
    {
     "name": "stdout",
     "output_type": "stream",
     "text": [
      "Accuracy (h) pre 0.742\n",
      "Accuracy (h) post 0.766\n",
      "before reweighing (meandiff): -0.06428571428571428 after: 1.1102230246251565e-16\n",
      "Accuracy (h*) post 0.764\n",
      "eps =  0.0\n",
      "y=1 735.0  <-  700.0\n"
     ]
    }
   ],
   "source": [
    "from learner import ReweighingLogisticLearner\n",
    "\n",
    "g = GermanSimDataset(mutable_features=['savings'],\n",
    "                     domains={'savings': 'auto'},\n",
    "                     discrete=['savings'],\n",
    "                     protected_attribute_names=['age'],\n",
    "                     privileged_classes=[lambda x: x >= 25],\n",
    "                     features_to_drop=['personal_status', 'sex'])\n",
    "\n",
    "privileged_groups = [{'age': 1}]\n",
    "unprivileged_groups = [{'age': 0}]\n",
    "\n",
    "sim = Simulation(g,\n",
    "                 RationalAgent,\n",
    "                 ReweighingLogisticLearner(privileged_groups,\n",
    "                                           unprivileged_groups),\n",
    "                 lambda size: np.abs(np.random.normal(loc=1.0,size=size)))\n",
    " \n",
    "sim.start_simulation(include_protected=True)"
   ]
  },
  {
   "cell_type": "markdown",
   "metadata": {},
   "source": [
    "### Young, Old (Pre Simulation)"
   ]
  },
  {
   "cell_type": "code",
   "execution_count": 11,
   "metadata": {},
   "outputs": [
    {
     "data": {
      "text/html": [
       "<div>\n",
       "<style scoped>\n",
       "    .dataframe tbody tr th:only-of-type {\n",
       "        vertical-align: middle;\n",
       "    }\n",
       "\n",
       "    .dataframe tbody tr th {\n",
       "        vertical-align: top;\n",
       "    }\n",
       "\n",
       "    .dataframe thead th {\n",
       "        text-align: right;\n",
       "    }\n",
       "</style>\n",
       "<table border=\"1\" class=\"dataframe\">\n",
       "  <thead>\n",
       "    <tr style=\"text-align: right;\">\n",
       "      <th></th>\n",
       "      <th>Good Credit</th>\n",
       "      <th>Bad Credit</th>\n",
       "    </tr>\n",
       "  </thead>\n",
       "  <tbody>\n",
       "    <tr>\n",
       "      <th>Young (149)</th>\n",
       "      <td>82.550336</td>\n",
       "      <td>17.449664</td>\n",
       "    </tr>\n",
       "    <tr>\n",
       "      <th>Old (851)</th>\n",
       "      <td>81.198590</td>\n",
       "      <td>18.801410</td>\n",
       "    </tr>\n",
       "  </tbody>\n",
       "</table>\n",
       "</div>"
      ],
      "text/plain": [
       "             Good Credit  Bad Credit\n",
       "Young (149)    82.550336   17.449664\n",
       "Old (851)      81.198590   18.801410"
      ]
     },
     "execution_count": 11,
     "metadata": {},
     "output_type": "execute_result"
    }
   ],
   "source": [
    "print_table(sim.dataset_df)"
   ]
  },
  {
   "cell_type": "markdown",
   "metadata": {},
   "source": [
    "### Young, Old (Post Simulation)"
   ]
  },
  {
   "cell_type": "code",
   "execution_count": 12,
   "metadata": {
    "scrolled": false
   },
   "outputs": [
    {
     "data": {
      "text/html": [
       "<div>\n",
       "<style scoped>\n",
       "    .dataframe tbody tr th:only-of-type {\n",
       "        vertical-align: middle;\n",
       "    }\n",
       "\n",
       "    .dataframe tbody tr th {\n",
       "        vertical-align: top;\n",
       "    }\n",
       "\n",
       "    .dataframe thead th {\n",
       "        text-align: right;\n",
       "    }\n",
       "</style>\n",
       "<table border=\"1\" class=\"dataframe\">\n",
       "  <thead>\n",
       "    <tr style=\"text-align: right;\">\n",
       "      <th></th>\n",
       "      <th>Good Credit</th>\n",
       "      <th>Bad Credit</th>\n",
       "    </tr>\n",
       "  </thead>\n",
       "  <tbody>\n",
       "    <tr>\n",
       "      <th>Young (149)</th>\n",
       "      <td>87.919463</td>\n",
       "      <td>12.080537</td>\n",
       "    </tr>\n",
       "    <tr>\n",
       "      <th>Old (851)</th>\n",
       "      <td>83.901293</td>\n",
       "      <td>16.098707</td>\n",
       "    </tr>\n",
       "  </tbody>\n",
       "</table>\n",
       "</div>"
      ],
      "text/plain": [
       "             Good Credit  Bad Credit\n",
       "Young (149)    87.919463   12.080537\n",
       "Old (851)      83.901293   16.098707"
      ]
     },
     "execution_count": 12,
     "metadata": {},
     "output_type": "execute_result"
    }
   ],
   "source": [
    "print_table(sim.dataset_new_df)"
   ]
  },
  {
   "cell_type": "markdown",
   "metadata": {},
   "source": [
    "### Mutable Features"
   ]
  },
  {
   "cell_type": "code",
   "execution_count": 13,
   "metadata": {},
   "outputs": [
    {
     "name": "stdout",
     "output_type": "stream",
     "text": [
      "young\n"
     ]
    },
    {
     "data": {
      "image/png": "[encoded data removed]",
      "text/plain": [
       "<Figure size 432x288 with 1 Axes>"
      ]
     },
     "metadata": {
      "needs_background": "light"
     },
     "output_type": "display_data"
    },
    {
     "name": "stdout",
     "output_type": "stream",
     "text": [
      "old\n"
     ]
    },
    {
     "data": {
      "image/png": "[encoded data removed]",
      "text/plain": [
       "<Figure size 432x288 with 1 Axes>"
      ]
     },
     "metadata": {
      "needs_background": "light"
     },
     "output_type": "display_data"
    }
   ],
   "source": [
    "print(\"young\")\n",
    "plot.plot_mutable_features(sim,selection_criteria={'age':0})\n",
    "print(\"old\")\n",
    "plot.plot_mutable_features(sim,selection_criteria={'age':1})"
   ]
  },
  {
   "cell_type": "markdown",
   "metadata": {},
   "source": [
    "### Comments\n",
    "Statistical parity difference improved."
   ]
  },
  {
   "cell_type": "code",
   "execution_count": 10,
   "metadata": {},
   "outputs": [
    {
     "name": "stdout",
     "output_type": "stream",
     "text": [
      "['A11' 'A12' 'A13' 'A14'] [0.38255034 0.30872483 0.05369128 0.25503356]\n",
      "['A11' 'A12' 'A13' 'A14'] [0.25499412 0.26204465 0.06462985 0.41833137]\n"
     ]
    }
   ],
   "source": [
    "df = sim.dataset_df\n",
    "unique_elements, counts_elements = np.unique(df[df['age'] == 0]['status'], return_counts=True)\n",
    "print(unique_elements, counts_elements/sum(counts_elements))\n",
    "\n",
    "unique_elements, counts_elements = np.unique(df[df['age'] == 1]['status'], return_counts=True)\n",
    "print(unique_elements, counts_elements/sum(counts_elements))"
   ]
  },
  {
   "cell_type": "markdown",
   "metadata": {},
   "source": [
    "Above shows, that young people have less money in their bank account. Bank account balance is quite relevant for the output. Thus we can still infer age via bank account.\n",
    "\n",
    "After playing around with the other fairness measures on the web application, I doubt that any of those will change this outcome for this particular dataset + protected attribute.\n",
    "\n",
    "Other options: (basically do some actual affirmative action)\n",
    "- play around with thresholds, see what happens\n",
    "- different cost distribution, subsidize skill investement (feature manipulation)\n",
    "- \n",
    "All the fairness measures in AIF360 are not affirmative action"
   ]
  },
  {
   "cell_type": "code",
   "execution_count": 11,
   "metadata": {},
   "outputs": [
    {
     "name": "stdout",
     "output_type": "stream",
     "text": [
      "['credit']\n",
      "[1.0]\n"
     ]
    }
   ],
   "source": [
    "from sklearn.linear_model import LogisticRegression\n",
    "\n",
    "print(sim.dataset.label_names)\n",
    "reg = LogisticRegression(solver='liblinear',max_iter=1000000000,C=1000000000000000000000.0).fit(sim.dataset.features, sim.dataset.labels.ravel())\n",
    "\n",
    "df = pd.DataFrame(data=sim.dataset.features, columns=sim.dataset.feature_names)\n",
    "data = plot._df_selection(df, {'age': 1})\n",
    "print(list(reg.predict([data.values[0]])))\n",
    "\n",
    "# next steps: implement modified decision function that enforces statistical parity..."
   ]
  },
  {
   "cell_type": "markdown",
   "metadata": {},
   "source": [
    "## Enforce Statistical Parity (threshold boost for unprivileged)"
   ]
  },
  {
   "cell_type": "code",
   "execution_count": 30,
   "metadata": {
    "scrolled": false
   },
   "outputs": [
    {
     "name": "stdout",
     "output_type": "stream",
     "text": [
      "Train:  (500, 57) , Test:  (500, 57)\n",
      "{'age': 1}\n"
     ]
    },
    {
     "name": "stderr",
     "output_type": "stream",
     "text": [
      "/home/dan/ETH/ba/simulation/mutabledataset.py:84: UserWarning: Use set of values present in dataset to infer domain for feature status\n",
      "  warnings.warn(\"Use set of values present in dataset to infer domain for feature \" + ft)\n",
      "/home/dan/ETH/ba/simulation/mutabledataset.py:84: UserWarning: Use set of values present in dataset to infer domain for feature savings\n",
      "  warnings.warn(\"Use set of values present in dataset to infer domain for feature \" + ft)\n"
     ]
    },
    {
     "name": "stdout",
     "output_type": "stream",
     "text": [
      "Accuracy (h) pre 0.618\n",
      "Accuracy (h) post 0.718\n",
      "{'age': 1}\n",
      "Accuracy (h*) post 0.714\n",
      "eps =  0.0\n",
      "y=1 772.0  <-  700.0\n"
     ]
    }
   ],
   "source": [
    "from learner import StatisticalParityLogisticLearner\n",
    "\n",
    "g = GermanSimDataset(mutable_features=['savings'],\n",
    "                     domains={'savings': 'auto', 'status': 'auto'},\n",
    "                     discrete=['status', 'savings'],\n",
    "                     protected_attribute_names=['age'],\n",
    "                     privileged_classes=[lambda x: x >= 25],\n",
    "                     features_to_drop=['personal_status', 'sex'])\n",
    "\n",
    "privileged_groups = [{'age': 1}]\n",
    "unprivileged_groups = [{'age': 0}]\n",
    "\n",
    "sim = Simulation(g,\n",
    "                 RationalAgent,\n",
    "                 StatisticalParityLogisticLearner(privileged_groups,\n",
    "                                           unprivileged_groups, 0.0000001),\n",
    "                 lambda size: np.abs(np.random.normal(loc=1.0,size=size)))\n",
    " \n",
    "sim.start_simulation(include_protected=True)"
   ]
  },
  {
   "cell_type": "markdown",
   "metadata": {},
   "source": [
    "### Young, Old (Pre Simulation)"
   ]
  },
  {
   "cell_type": "code",
   "execution_count": 31,
   "metadata": {},
   "outputs": [
    {
     "data": {
      "text/html": [
       "<div>\n",
       "<style scoped>\n",
       "    .dataframe tbody tr th:only-of-type {\n",
       "        vertical-align: middle;\n",
       "    }\n",
       "\n",
       "    .dataframe tbody tr th {\n",
       "        vertical-align: top;\n",
       "    }\n",
       "\n",
       "    .dataframe thead th {\n",
       "        text-align: right;\n",
       "    }\n",
       "</style>\n",
       "<table border=\"1\" class=\"dataframe\">\n",
       "  <thead>\n",
       "    <tr style=\"text-align: right;\">\n",
       "      <th></th>\n",
       "      <th>Good Credit</th>\n",
       "      <th>Bad Credit</th>\n",
       "    </tr>\n",
       "  </thead>\n",
       "  <tbody>\n",
       "    <tr>\n",
       "      <th>Young (149)</th>\n",
       "      <td>79.865772</td>\n",
       "      <td>20.134228</td>\n",
       "    </tr>\n",
       "    <tr>\n",
       "      <th>Old (851)</th>\n",
       "      <td>80.258519</td>\n",
       "      <td>19.741481</td>\n",
       "    </tr>\n",
       "  </tbody>\n",
       "</table>\n",
       "</div>"
      ],
      "text/plain": [
       "             Good Credit  Bad Credit\n",
       "Young (149)    79.865772   20.134228\n",
       "Old (851)      80.258519   19.741481"
      ]
     },
     "execution_count": 31,
     "metadata": {},
     "output_type": "execute_result"
    }
   ],
   "source": [
    "print_table(sim.dataset_df)"
   ]
  },
  {
   "cell_type": "markdown",
   "metadata": {},
   "source": [
    "### Young, Old (Post Simulation)"
   ]
  },
  {
   "cell_type": "code",
   "execution_count": 32,
   "metadata": {
    "scrolled": true
   },
   "outputs": [
    {
     "data": {
      "text/html": [
       "<div>\n",
       "<style scoped>\n",
       "    .dataframe tbody tr th:only-of-type {\n",
       "        vertical-align: middle;\n",
       "    }\n",
       "\n",
       "    .dataframe tbody tr th {\n",
       "        vertical-align: top;\n",
       "    }\n",
       "\n",
       "    .dataframe thead th {\n",
       "        text-align: right;\n",
       "    }\n",
       "</style>\n",
       "<table border=\"1\" class=\"dataframe\">\n",
       "  <thead>\n",
       "    <tr style=\"text-align: right;\">\n",
       "      <th></th>\n",
       "      <th>Good Credit</th>\n",
       "      <th>Bad Credit</th>\n",
       "    </tr>\n",
       "  </thead>\n",
       "  <tbody>\n",
       "    <tr>\n",
       "      <th>Young (149)</th>\n",
       "      <td>82.550336</td>\n",
       "      <td>17.449664</td>\n",
       "    </tr>\n",
       "    <tr>\n",
       "      <th>Old (851)</th>\n",
       "      <td>87.191539</td>\n",
       "      <td>12.808461</td>\n",
       "    </tr>\n",
       "  </tbody>\n",
       "</table>\n",
       "</div>"
      ],
      "text/plain": [
       "             Good Credit  Bad Credit\n",
       "Young (149)    82.550336   17.449664\n",
       "Old (851)      87.191539   12.808461"
      ]
     },
     "execution_count": 32,
     "metadata": {},
     "output_type": "execute_result"
    }
   ],
   "source": [
    "print_table(sim.dataset_new_df)"
   ]
  },
  {
   "cell_type": "markdown",
   "metadata": {},
   "source": [
    "### Mutable Features"
   ]
  },
  {
   "cell_type": "code",
   "execution_count": 33,
   "metadata": {},
   "outputs": [
    {
     "name": "stdout",
     "output_type": "stream",
     "text": [
      "young\n"
     ]
    },
    {
     "data": {
      "image/png": "[encoded data removed]",
      "text/plain": [
       "<Figure size 432x288 with 1 Axes>"
      ]
     },
     "metadata": {
      "needs_background": "light"
     },
     "output_type": "display_data"
    },
    {
     "name": "stdout",
     "output_type": "stream",
     "text": [
      "old\n"
     ]
    },
    {
     "data": {
      "image/png": "[encoded data removed]",
      "text/plain": [
       "<Figure size 432x288 with 1 Axes>"
      ]
     },
     "metadata": {
      "needs_background": "light"
     },
     "output_type": "display_data"
    }
   ],
   "source": [
    "print(\"young\")\n",
    "plot.plot_mutable_features(sim,selection_criteria={'age':0})\n",
    "print(\"old\")\n",
    "plot.plot_mutable_features(sim,selection_criteria={'age':1})"
   ]
  },
  {
   "cell_type": "markdown",
   "metadata": {},
   "source": [
    "# Adversial Debiasing"
   ]
  },
  {
   "cell_type": "code",
   "execution_count": 24,
   "metadata": {
    "scrolled": false
   },
   "outputs": [
    {
     "name": "stdout",
     "output_type": "stream",
     "text": [
      "Train:  (500, 57) , Test:  (500, 57)\n"
     ]
    },
    {
     "name": "stderr",
     "output_type": "stream",
     "text": [
      "/home/dan/ETH/ba/simulation/mutabledataset.py:84: UserWarning: Use set of values present in dataset to infer domain for feature status\n",
      "  warnings.warn(\"Use set of values present in dataset to infer domain for feature \" + ft)\n",
      "/home/dan/ETH/ba/simulation/mutabledataset.py:84: UserWarning: Use set of values present in dataset to infer domain for feature savings\n",
      "  warnings.warn(\"Use set of values present in dataset to infer domain for feature \" + ft)\n",
      "/home/dan/.local/share/virtualenvs/simulation-lLjf8lvH/lib/python3.5/importlib/_bootstrap.py:222: RuntimeWarning: numpy.dtype size changed, may indicate binary incompatibility. Expected 88 from C header, got 96 from PyObject\n",
      "  return f(*args, **kwds)\n"
     ]
    },
    {
     "name": "stdout",
     "output_type": "stream",
     "text": [
      "epoch 0; iter: 0; batch classifier loss: 0.781963; batch adversarial loss: 0.917923\n",
      "epoch 1; iter: 0; batch classifier loss: 0.702226; batch adversarial loss: 1.025686\n",
      "epoch 2; iter: 0; batch classifier loss: 0.657851; batch adversarial loss: 1.112174\n",
      "epoch 3; iter: 0; batch classifier loss: 0.658134; batch adversarial loss: 1.139657\n",
      "epoch 4; iter: 0; batch classifier loss: 0.524391; batch adversarial loss: 1.235015\n",
      "epoch 5; iter: 0; batch classifier loss: 0.580262; batch adversarial loss: 1.305564\n",
      "epoch 6; iter: 0; batch classifier loss: 0.563693; batch adversarial loss: 1.273186\n",
      "epoch 7; iter: 0; batch classifier loss: 0.552742; batch adversarial loss: 1.337105\n",
      "epoch 8; iter: 0; batch classifier loss: 0.597729; batch adversarial loss: 1.245800\n",
      "epoch 9; iter: 0; batch classifier loss: 0.582170; batch adversarial loss: 1.270493\n",
      "epoch 10; iter: 0; batch classifier loss: 0.578563; batch adversarial loss: 1.318953\n",
      "epoch 11; iter: 0; batch classifier loss: 0.598464; batch adversarial loss: 1.295903\n",
      "epoch 12; iter: 0; batch classifier loss: 0.527047; batch adversarial loss: 1.369211\n",
      "epoch 13; iter: 0; batch classifier loss: 0.514828; batch adversarial loss: 1.366953\n",
      "epoch 14; iter: 0; batch classifier loss: 0.489871; batch adversarial loss: 1.246045\n",
      "epoch 15; iter: 0; batch classifier loss: 0.522396; batch adversarial loss: 1.334729\n",
      "epoch 16; iter: 0; batch classifier loss: 0.450168; batch adversarial loss: 1.321875\n",
      "epoch 17; iter: 0; batch classifier loss: 0.491417; batch adversarial loss: 1.336995\n",
      "epoch 18; iter: 0; batch classifier loss: 0.543058; batch adversarial loss: 1.257255\n",
      "epoch 19; iter: 0; batch classifier loss: 0.569850; batch adversarial loss: 1.277339\n",
      "epoch 20; iter: 0; batch classifier loss: 0.538487; batch adversarial loss: 1.239254\n",
      "epoch 21; iter: 0; batch classifier loss: 0.522816; batch adversarial loss: 1.223914\n",
      "epoch 22; iter: 0; batch classifier loss: 0.439111; batch adversarial loss: 1.201254\n",
      "epoch 23; iter: 0; batch classifier loss: 0.482755; batch adversarial loss: 1.217870\n",
      "epoch 24; iter: 0; batch classifier loss: 0.412195; batch adversarial loss: 1.217948\n",
      "epoch 25; iter: 0; batch classifier loss: 0.484876; batch adversarial loss: 1.260102\n",
      "epoch 26; iter: 0; batch classifier loss: 0.436721; batch adversarial loss: 1.234393\n",
      "epoch 27; iter: 0; batch classifier loss: 0.400276; batch adversarial loss: 1.266805\n",
      "epoch 28; iter: 0; batch classifier loss: 0.513852; batch adversarial loss: 1.214626\n",
      "epoch 29; iter: 0; batch classifier loss: 0.576569; batch adversarial loss: 1.178867\n",
      "epoch 30; iter: 0; batch classifier loss: 0.451380; batch adversarial loss: 1.262013\n",
      "epoch 31; iter: 0; batch classifier loss: 0.470554; batch adversarial loss: 1.185515\n",
      "epoch 32; iter: 0; batch classifier loss: 0.463190; batch adversarial loss: 1.197473\n",
      "epoch 33; iter: 0; batch classifier loss: 0.476273; batch adversarial loss: 1.209899\n",
      "epoch 34; iter: 0; batch classifier loss: 0.401360; batch adversarial loss: 1.236223\n",
      "epoch 35; iter: 0; batch classifier loss: 0.441799; batch adversarial loss: 1.166476\n",
      "epoch 36; iter: 0; batch classifier loss: 0.394956; batch adversarial loss: 1.152112\n",
      "epoch 37; iter: 0; batch classifier loss: 0.418944; batch adversarial loss: 1.187021\n",
      "epoch 38; iter: 0; batch classifier loss: 0.432214; batch adversarial loss: 1.219052\n",
      "epoch 39; iter: 0; batch classifier loss: 0.471323; batch adversarial loss: 1.165065\n",
      "epoch 40; iter: 0; batch classifier loss: 0.433274; batch adversarial loss: 1.185820\n",
      "epoch 41; iter: 0; batch classifier loss: 0.519922; batch adversarial loss: 1.097343\n",
      "epoch 42; iter: 0; batch classifier loss: 0.460752; batch adversarial loss: 1.141879\n",
      "epoch 43; iter: 0; batch classifier loss: 0.469071; batch adversarial loss: 1.186386\n",
      "epoch 44; iter: 0; batch classifier loss: 0.416232; batch adversarial loss: 1.130984\n",
      "epoch 45; iter: 0; batch classifier loss: 0.404055; batch adversarial loss: 1.133256\n",
      "epoch 46; iter: 0; batch classifier loss: 0.424871; batch adversarial loss: 1.163435\n",
      "epoch 47; iter: 0; batch classifier loss: 0.315688; batch adversarial loss: 1.193774\n",
      "epoch 48; iter: 0; batch classifier loss: 0.451271; batch adversarial loss: 1.133119\n",
      "epoch 49; iter: 0; batch classifier loss: 0.408553; batch adversarial loss: 1.166306\n",
      "Accuracy (h) pre 0.746\n",
      "Accuracy (h) post 0.862\n",
      "epoch 0; iter: 0; batch classifier loss: 0.693527; batch adversarial loss: 0.960497\n",
      "epoch 1; iter: 0; batch classifier loss: 0.641157; batch adversarial loss: 1.044927\n",
      "epoch 2; iter: 0; batch classifier loss: 0.571324; batch adversarial loss: 1.102523\n",
      "epoch 3; iter: 0; batch classifier loss: 0.514636; batch adversarial loss: 1.107843\n",
      "epoch 4; iter: 0; batch classifier loss: 0.484833; batch adversarial loss: 1.218636\n",
      "epoch 5; iter: 0; batch classifier loss: 0.474126; batch adversarial loss: 1.193670\n",
      "epoch 6; iter: 0; batch classifier loss: 0.483265; batch adversarial loss: 1.217118\n",
      "epoch 7; iter: 0; batch classifier loss: 0.433738; batch adversarial loss: 1.219283\n",
      "epoch 8; iter: 0; batch classifier loss: 0.443545; batch adversarial loss: 1.221798\n",
      "epoch 9; iter: 0; batch classifier loss: 0.458704; batch adversarial loss: 1.265967\n",
      "epoch 10; iter: 0; batch classifier loss: 0.459735; batch adversarial loss: 1.197604\n",
      "epoch 11; iter: 0; batch classifier loss: 0.488846; batch adversarial loss: 1.246860\n",
      "epoch 12; iter: 0; batch classifier loss: 0.399309; batch adversarial loss: 1.234477\n",
      "epoch 13; iter: 0; batch classifier loss: 0.438066; batch adversarial loss: 1.203680\n",
      "epoch 14; iter: 0; batch classifier loss: 0.455084; batch adversarial loss: 1.201660\n",
      "epoch 15; iter: 0; batch classifier loss: 0.404924; batch adversarial loss: 1.211361\n",
      "epoch 16; iter: 0; batch classifier loss: 0.495369; batch adversarial loss: 1.174835\n",
      "epoch 17; iter: 0; batch classifier loss: 0.447996; batch adversarial loss: 1.210037\n",
      "epoch 18; iter: 0; batch classifier loss: 0.403712; batch adversarial loss: 1.212982\n",
      "epoch 19; iter: 0; batch classifier loss: 0.460743; batch adversarial loss: 1.159466\n",
      "epoch 20; iter: 0; batch classifier loss: 0.531827; batch adversarial loss: 1.179870\n",
      "epoch 21; iter: 0; batch classifier loss: 0.431079; batch adversarial loss: 1.176385\n",
      "epoch 22; iter: 0; batch classifier loss: 0.277486; batch adversarial loss: 1.194342\n",
      "epoch 23; iter: 0; batch classifier loss: 0.366939; batch adversarial loss: 1.165578\n",
      "epoch 24; iter: 0; batch classifier loss: 0.462081; batch adversarial loss: 1.132525\n",
      "epoch 25; iter: 0; batch classifier loss: 0.386851; batch adversarial loss: 1.145922\n",
      "epoch 26; iter: 0; batch classifier loss: 0.356265; batch adversarial loss: 1.150508\n",
      "epoch 27; iter: 0; batch classifier loss: 0.400758; batch adversarial loss: 1.131715\n",
      "epoch 28; iter: 0; batch classifier loss: 0.444151; batch adversarial loss: 1.107456\n",
      "epoch 29; iter: 0; batch classifier loss: 0.400437; batch adversarial loss: 1.141279\n",
      "epoch 30; iter: 0; batch classifier loss: 0.366538; batch adversarial loss: 1.110344\n",
      "epoch 31; iter: 0; batch classifier loss: 0.402930; batch adversarial loss: 1.133601\n",
      "epoch 32; iter: 0; batch classifier loss: 0.399846; batch adversarial loss: 1.125772\n",
      "epoch 33; iter: 0; batch classifier loss: 0.403501; batch adversarial loss: 1.087585\n",
      "epoch 34; iter: 0; batch classifier loss: 0.363634; batch adversarial loss: 1.115612\n",
      "epoch 35; iter: 0; batch classifier loss: 0.512473; batch adversarial loss: 1.056976\n",
      "epoch 36; iter: 0; batch classifier loss: 0.422116; batch adversarial loss: 1.072656\n",
      "epoch 37; iter: 0; batch classifier loss: 0.388525; batch adversarial loss: 1.049757\n",
      "epoch 38; iter: 0; batch classifier loss: 0.365120; batch adversarial loss: 1.098069\n",
      "epoch 39; iter: 0; batch classifier loss: 0.292559; batch adversarial loss: 1.128193\n",
      "epoch 40; iter: 0; batch classifier loss: 0.399165; batch adversarial loss: 1.043224\n",
      "epoch 41; iter: 0; batch classifier loss: 0.324778; batch adversarial loss: 1.069972\n",
      "epoch 42; iter: 0; batch classifier loss: 0.453640; batch adversarial loss: 1.057002\n",
      "epoch 43; iter: 0; batch classifier loss: 0.365678; batch adversarial loss: 1.028603\n",
      "epoch 44; iter: 0; batch classifier loss: 0.260702; batch adversarial loss: 1.058808\n",
      "epoch 45; iter: 0; batch classifier loss: 0.282372; batch adversarial loss: 1.065987\n",
      "epoch 46; iter: 0; batch classifier loss: 0.366302; batch adversarial loss: 1.044980\n",
      "epoch 47; iter: 0; batch classifier loss: 0.331394; batch adversarial loss: 1.044229\n",
      "epoch 48; iter: 0; batch classifier loss: 0.404489; batch adversarial loss: 1.033893\n",
      "epoch 49; iter: 0; batch classifier loss: 0.286975; batch adversarial loss: 1.009516\n",
      "Accuracy (h*) post 0.86\n",
      "eps =  0.0\n",
      "y=1 841.0  <-  700.0\n"
     ]
    }
   ],
   "source": [
    "from learner import AdversialDebiasingLogisticLearner\n",
    "\n",
    "g = GermanSimDataset(mutable_features=['status', 'savings'],\n",
    "                     domains={'savings': 'auto', 'status': 'auto'},\n",
    "                     discrete=['status', 'savings'],\n",
    "                     protected_attribute_names=['age'],\n",
    "                     privileged_classes=[lambda x: x >= 25],\n",
    "                     features_to_drop=['personal_status', 'sex'])\n",
    "\n",
    "privileged_groups = [{'age': 1}]\n",
    "unprivileged_groups = [{'age': 0}]\n",
    "\n",
    "sim = Simulation(g,\n",
    "                 RationalAgent,\n",
    "                 AdversialDebiasingLogisticLearner(privileged_groups = privileged_groups,\n",
    "                          unprivileged_groups = unprivileged_groups),\n",
    "                 lambda size: np.abs(np.random.normal(loc=0.5,size=size)))\n",
    " \n",
    "sim.start_simulation(include_protected=True)"
   ]
  },
  {
   "cell_type": "markdown",
   "metadata": {},
   "source": [
    "### Young, Old (Pre Simulation)"
   ]
  },
  {
   "cell_type": "code",
   "execution_count": 25,
   "metadata": {},
   "outputs": [
    {
     "data": {
      "text/html": [
       "<div>\n",
       "<style scoped>\n",
       "    .dataframe tbody tr th:only-of-type {\n",
       "        vertical-align: middle;\n",
       "    }\n",
       "\n",
       "    .dataframe tbody tr th {\n",
       "        vertical-align: top;\n",
       "    }\n",
       "\n",
       "    .dataframe thead th {\n",
       "        text-align: right;\n",
       "    }\n",
       "</style>\n",
       "<table border=\"1\" class=\"dataframe\">\n",
       "  <thead>\n",
       "    <tr style=\"text-align: right;\">\n",
       "      <th></th>\n",
       "      <th>Good Credit</th>\n",
       "      <th>Bad Credit</th>\n",
       "    </tr>\n",
       "  </thead>\n",
       "  <tbody>\n",
       "    <tr>\n",
       "      <th>Young (149)</th>\n",
       "      <td>47.651007</td>\n",
       "      <td>52.348993</td>\n",
       "    </tr>\n",
       "    <tr>\n",
       "      <th>Old (851)</th>\n",
       "      <td>92.244418</td>\n",
       "      <td>7.755582</td>\n",
       "    </tr>\n",
       "  </tbody>\n",
       "</table>\n",
       "</div>"
      ],
      "text/plain": [
       "             Good Credit  Bad Credit\n",
       "Young (149)    47.651007   52.348993\n",
       "Old (851)      92.244418    7.755582"
      ]
     },
     "execution_count": 25,
     "metadata": {},
     "output_type": "execute_result"
    }
   ],
   "source": [
    "print_table(sim.dataset_df)"
   ]
  },
  {
   "cell_type": "markdown",
   "metadata": {},
   "source": [
    "### Young, Old (Post Simulation)"
   ]
  },
  {
   "cell_type": "code",
   "execution_count": 26,
   "metadata": {
    "scrolled": true
   },
   "outputs": [
    {
     "data": {
      "text/html": [
       "<div>\n",
       "<style scoped>\n",
       "    .dataframe tbody tr th:only-of-type {\n",
       "        vertical-align: middle;\n",
       "    }\n",
       "\n",
       "    .dataframe tbody tr th {\n",
       "        vertical-align: top;\n",
       "    }\n",
       "\n",
       "    .dataframe thead th {\n",
       "        text-align: right;\n",
       "    }\n",
       "</style>\n",
       "<table border=\"1\" class=\"dataframe\">\n",
       "  <thead>\n",
       "    <tr style=\"text-align: right;\">\n",
       "      <th></th>\n",
       "      <th>Good Credit</th>\n",
       "      <th>Bad Credit</th>\n",
       "    </tr>\n",
       "  </thead>\n",
       "  <tbody>\n",
       "    <tr>\n",
       "      <th>Young (149)</th>\n",
       "      <td>77.852349</td>\n",
       "      <td>22.147651</td>\n",
       "    </tr>\n",
       "    <tr>\n",
       "      <th>Old (851)</th>\n",
       "      <td>97.062280</td>\n",
       "      <td>2.937720</td>\n",
       "    </tr>\n",
       "  </tbody>\n",
       "</table>\n",
       "</div>"
      ],
      "text/plain": [
       "             Good Credit  Bad Credit\n",
       "Young (149)    77.852349   22.147651\n",
       "Old (851)      97.062280    2.937720"
      ]
     },
     "execution_count": 26,
     "metadata": {},
     "output_type": "execute_result"
    }
   ],
   "source": [
    "print_table(sim.dataset_new_df)"
   ]
  },
  {
   "cell_type": "markdown",
   "metadata": {},
   "source": [
    "# EqOdds Postprocessing"
   ]
  },
  {
   "cell_type": "code",
   "execution_count": 40,
   "metadata": {
    "scrolled": false
   },
   "outputs": [
    {
     "name": "stdout",
     "output_type": "stream",
     "text": [
      "Train:  (500, 57) , Test:  (500, 57)\n"
     ]
    },
    {
     "name": "stderr",
     "output_type": "stream",
     "text": [
      "/home/dan/ETH/ba/simulation/mutabledataset.py:84: UserWarning: Use set of values present in dataset to infer domain for feature status\n",
      "  warnings.warn(\"Use set of values present in dataset to infer domain for feature \" + ft)\n",
      "/home/dan/ETH/ba/simulation/mutabledataset.py:84: UserWarning: Use set of values present in dataset to infer domain for feature savings\n",
      "  warnings.warn(\"Use set of values present in dataset to infer domain for feature \" + ft)\n"
     ]
    },
    {
     "name": "stdout",
     "output_type": "stream",
     "text": [
      "Accuracy (h) pre 0.0\n",
      "Accuracy (h) post 0.0\n",
      "Accuracy (h*) post 0.0\n",
      "eps =  0.0\n",
      "y=1 700.0  <-  700.0\n"
     ]
    }
   ],
   "source": [
    "from learner import EqOddsPostprocessingLogisticLearner\n",
    "\n",
    "g = GermanSimDataset(mutable_features=['status', 'savings'],\n",
    "                     domains={'savings': 'auto', 'status': 'auto'},\n",
    "                     discrete=['status', 'savings'],\n",
    "                     protected_attribute_names=['age'],\n",
    "                     privileged_classes=[lambda x: x >= 25],\n",
    "                     features_to_drop=['personal_status', 'sex'])\n",
    "\n",
    "privileged_groups = [{'age': 1}]\n",
    "unprivileged_groups = [{'age': 0}]\n",
    "\n",
    "sim = Simulation(g,\n",
    "                 RationalAgent,\n",
    "                 EqOddsPostprocessingLogisticLearner(privileged_groups = privileged_groups,\n",
    "                          unprivileged_groups = unprivileged_groups),\n",
    "                 lambda size: np.abs(np.random.normal(loc=0.5,size=size)))\n",
    " \n",
    "sim.start_simulation(include_protected=True)"
   ]
  },
  {
   "cell_type": "markdown",
   "metadata": {},
   "source": [
    "### Young, Old (Pre Simulation)"
   ]
  },
  {
   "cell_type": "code",
   "execution_count": null,
   "metadata": {},
   "outputs": [],
   "source": [
    "print_table(sim.dataset_df)"
   ]
  },
  {
   "cell_type": "markdown",
   "metadata": {},
   "source": [
    "### Young, Old (Post Simulation)"
   ]
  },
  {
   "cell_type": "code",
   "execution_count": null,
   "metadata": {
    "scrolled": false
   },
   "outputs": [],
   "source": [
    "print_table(sim.dataset_new_df)"
   ]
  }
 ],
 "metadata": {
  "kernelspec": {
   "display_name": "Python 3",
   "language": "python",
   "name": "python3"
  },
  "language_info": {
   "codemirror_mode": {
    "name": "ipython",
    "version": 3
   },
   "file_extension": ".py",
   "mimetype": "text/x-python",
   "name": "python",
   "nbconvert_exporter": "python",
   "pygments_lexer": "ipython3",
   "version": "3.5.6"
  }
 },
 "nbformat": 4,
 "nbformat_minor": 2
}
