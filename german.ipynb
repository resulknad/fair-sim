{
 "cells": [
  {
   "cell_type": "code",
   "execution_count": 1,
   "metadata": {},
   "outputs": [
    {
     "name": "stderr",
     "output_type": "stream",
     "text": [
      "/home/dan/.local/share/virtualenvs/simulation-lLjf8lvH/lib/python3.5/importlib/_bootstrap.py:222: RuntimeWarning: numpy.dtype size changed, may indicate binary incompatibility. Expected 96, got 88\n",
      "  return f(*args, **kwds)\n",
      "/home/dan/.local/share/virtualenvs/simulation-lLjf8lvH/lib/python3.5/importlib/_bootstrap.py:222: RuntimeWarning: numpy.dtype size changed, may indicate binary incompatibility. Expected 96, got 88\n",
      "  return f(*args, **kwds)\n",
      "/home/dan/.local/share/virtualenvs/simulation-lLjf8lvH/lib/python3.5/importlib/_bootstrap.py:222: RuntimeWarning: numpy.dtype size changed, may indicate binary incompatibility. Expected 96, got 88\n",
      "  return f(*args, **kwds)\n",
      "/home/dan/.local/share/virtualenvs/simulation-lLjf8lvH/lib/python3.5/importlib/_bootstrap.py:222: RuntimeWarning: numpy.dtype size changed, may indicate binary incompatibility. Expected 96, got 88\n",
      "  return f(*args, **kwds)\n",
      "/home/dan/.local/share/virtualenvs/simulation-lLjf8lvH/lib/python3.5/importlib/_bootstrap.py:222: RuntimeWarning: numpy.dtype size changed, may indicate binary incompatibility. Expected 96, got 88\n",
      "  return f(*args, **kwds)\n",
      "/home/dan/.local/share/virtualenvs/simulation-lLjf8lvH/lib/python3.5/importlib/_bootstrap.py:222: RuntimeWarning: numpy.dtype size changed, may indicate binary incompatibility. Expected 96, got 88\n",
      "  return f(*args, **kwds)\n"
     ]
    }
   ],
   "source": [
    "%load_ext autoreload\n",
    "%autoreload 2\n",
    "from mutabledataset import GermanSimDataset\n",
    "from agent import RationalAgent\n",
    "from simulation import Simulation\n",
    "from learner import LogisticLearner\n",
    "\n",
    "import plot\n",
    "import numpy as np\n",
    "import pandas as pd\n",
    "def print_table(df):\n",
    "    young = plot.count_df(df, [{'age': 0, 'credit_h': 1}, {'age': 0, 'credit_h': 0}])\n",
    "    young_n = young.sum()\n",
    "    young = young / young.sum() * 100\n",
    "\n",
    "    old = plot.count_df(df, [{'age': 1, 'credit_h': 1}, {'age': 1, 'credit_h': 0}])\n",
    "    old_n = old.sum()\n",
    "    old = old / old.sum() * 100\n",
    "    tbl = pd.DataFrame(data=[young,old], index=['Young ('+str(young_n)+')', 'Old ('+str(old_n)+')'], columns=['Good Credit', 'Bad Credit'])\n",
    "    return (tbl)\n",
    "    #plot.plot_pie(sim.dataset_df, [{'age': 0, 'credit_h': 1},\n",
    "    #                               {'age': 0, 'credit_h': 0}],\n",
    "    #              ['Good', 'Bad'], 'Young')\n",
    "\n",
    "    #plot.plot_pie(sim.dataset_df, [{'age': 1, 'credit_h': 1},\n",
    "    #                               {'age': 1, 'credit_h': 0}],\n",
    "    #              ['Good', 'Bad'], 'Old')\n",
    "\n",
    "    #plot.plot_pie(sim.dataset_new_df, [{'age': 0, 'credit_h': 1},\n",
    "    #                               {'age': 0, 'credit_h': 0}],\n",
    "    #              ['Good', 'Bad'], 'Young')\n",
    "\n",
    "    #plot.plot_pie(sim.dataset_new_df, [{'age': 1, 'credit_h': 1},\n",
    "    #                               {'age': 1, 'credit_h': 0}],\n",
    "    #              ['Good', 'Bad'], 'Old')\n",
    "\n"
   ]
  },
  {
   "cell_type": "markdown",
   "metadata": {},
   "source": [
    "# Logistic Regression"
   ]
  },
  {
   "cell_type": "code",
   "execution_count": 2,
   "metadata": {},
   "outputs": [
    {
     "name": "stderr",
     "output_type": "stream",
     "text": [
      "/home/dan/ETH/ba/simulation/mutabledataset.py:68: UserWarning: Use set of values present in dataset to infer domain for feature savings\n",
      "  warnings.warn(\"Use set of values present in dataset to infer domain for feature \" + ft)\n"
     ]
    },
    {
     "name": "stdout",
     "output_type": "stream",
     "text": [
      "Train:  (500, 58) , Test:  (500, 58)\n",
      "Accuracy (h) pre 0.732\n",
      "(1000, 58)\n",
      "Accuracy (h) post 0.762\n",
      "Accuracy (h*) post 0.744\n",
      "y=1 731.0  <-  700.0\n"
     ]
    }
   ],
   "source": [
    "g = GermanSimDataset(mutable_features=['savings'],\n",
    "                     domains={'savings': 'auto'},\n",
    "                     discrete=['savings'])\n",
    "sim = Simulation(g,\n",
    "                 RationalAgent,\n",
    "                 LogisticLearner(),\n",
    "                 lambda size: np.abs(np.random.normal(loc=1.0,size=size)))\n",
    " \n",
    "sim.start_simulation(include_protected=True)\n"
   ]
  },
  {
   "cell_type": "code",
   "execution_count": 3,
   "metadata": {},
   "outputs": [
    {
     "name": "stdout",
     "output_type": "stream",
     "text": [
      "77\n"
     ]
    }
   ],
   "source": [
    "df,_ = sim.train.convert_to_dataframe(de_dummy_code=True)\n",
    "print(np.array(df['age'] == 0).sum())"
   ]
  },
  {
   "cell_type": "markdown",
   "metadata": {},
   "source": [
    "### Mutable Features"
   ]
  },
  {
   "cell_type": "code",
   "execution_count": 4,
   "metadata": {},
   "outputs": [
    {
     "data": {
      "image/png": "[encoded data removed]",
      "text/plain": [
       "<Figure size 432x288 with 1 Axes>"
      ]
     },
     "metadata": {
      "needs_background": "light"
     },
     "output_type": "display_data"
    }
   ],
   "source": [
    "plot.plot_mutable_features(sim)"
   ]
  },
  {
   "cell_type": "markdown",
   "metadata": {},
   "source": [
    "### Young, Old (Pre Simulation)"
   ]
  },
  {
   "cell_type": "code",
   "execution_count": 5,
   "metadata": {},
   "outputs": [
    {
     "data": {
      "text/html": [
       "<div>\n",
       "<style scoped>\n",
       "    .dataframe tbody tr th:only-of-type {\n",
       "        vertical-align: middle;\n",
       "    }\n",
       "\n",
       "    .dataframe tbody tr th {\n",
       "        vertical-align: top;\n",
       "    }\n",
       "\n",
       "    .dataframe thead th {\n",
       "        text-align: right;\n",
       "    }\n",
       "</style>\n",
       "<table border=\"1\" class=\"dataframe\">\n",
       "  <thead>\n",
       "    <tr style=\"text-align: right;\">\n",
       "      <th></th>\n",
       "      <th>Good Credit</th>\n",
       "      <th>Bad Credit</th>\n",
       "    </tr>\n",
       "  </thead>\n",
       "  <tbody>\n",
       "    <tr>\n",
       "      <th>Young (149)</th>\n",
       "      <td>59.060403</td>\n",
       "      <td>40.939597</td>\n",
       "    </tr>\n",
       "    <tr>\n",
       "      <th>Old (851)</th>\n",
       "      <td>80.023502</td>\n",
       "      <td>19.976498</td>\n",
       "    </tr>\n",
       "  </tbody>\n",
       "</table>\n",
       "</div>"
      ],
      "text/plain": [
       "             Good Credit  Bad Credit\n",
       "Young (149)    59.060403   40.939597\n",
       "Old (851)      80.023502   19.976498"
      ]
     },
     "execution_count": 5,
     "metadata": {},
     "output_type": "execute_result"
    }
   ],
   "source": [
    "print_table(sim.dataset_df)"
   ]
  },
  {
   "cell_type": "markdown",
   "metadata": {},
   "source": [
    "### Young, Old (Post Simulation)"
   ]
  },
  {
   "cell_type": "code",
   "execution_count": 6,
   "metadata": {
    "scrolled": true
   },
   "outputs": [
    {
     "data": {
      "text/html": [
       "<div>\n",
       "<style scoped>\n",
       "    .dataframe tbody tr th:only-of-type {\n",
       "        vertical-align: middle;\n",
       "    }\n",
       "\n",
       "    .dataframe tbody tr th {\n",
       "        vertical-align: top;\n",
       "    }\n",
       "\n",
       "    .dataframe thead th {\n",
       "        text-align: right;\n",
       "    }\n",
       "</style>\n",
       "<table border=\"1\" class=\"dataframe\">\n",
       "  <thead>\n",
       "    <tr style=\"text-align: right;\">\n",
       "      <th></th>\n",
       "      <th>Good Credit</th>\n",
       "      <th>Bad Credit</th>\n",
       "    </tr>\n",
       "  </thead>\n",
       "  <tbody>\n",
       "    <tr>\n",
       "      <th>Young (149)</th>\n",
       "      <td>85.906040</td>\n",
       "      <td>14.093960</td>\n",
       "    </tr>\n",
       "    <tr>\n",
       "      <th>Old (851)</th>\n",
       "      <td>82.608696</td>\n",
       "      <td>17.391304</td>\n",
       "    </tr>\n",
       "  </tbody>\n",
       "</table>\n",
       "</div>"
      ],
      "text/plain": [
       "             Good Credit  Bad Credit\n",
       "Young (149)    85.906040   14.093960\n",
       "Old (851)      82.608696   17.391304"
      ]
     },
     "execution_count": 6,
     "metadata": {},
     "output_type": "execute_result"
    }
   ],
   "source": [
    "print_table(sim.dataset_new_df)"
   ]
  },
  {
   "cell_type": "markdown",
   "metadata": {},
   "source": [
    "# Logistic Regression with Reweighing"
   ]
  },
  {
   "cell_type": "code",
   "execution_count": 7,
   "metadata": {
    "scrolled": true
   },
   "outputs": [
    {
     "name": "stderr",
     "output_type": "stream",
     "text": [
      "/home/dan/ETH/ba/simulation/mutabledataset.py:68: UserWarning: Use set of values present in dataset to infer domain for feature savings\n",
      "  warnings.warn(\"Use set of values present in dataset to infer domain for feature \" + ft)\n",
      "/home/dan/ETH/ba/simulation/mutabledataset.py:68: UserWarning: Use set of values present in dataset to infer domain for feature status\n",
      "  warnings.warn(\"Use set of values present in dataset to infer domain for feature \" + ft)\n"
     ]
    },
    {
     "name": "stdout",
     "output_type": "stream",
     "text": [
      "Train:  (500, 57) , Test:  (500, 57)\n",
      "before reweighing (meandiff): -0.06226885955681172 after: -1.1102230246251565e-16\n",
      "Accuracy (h) pre 0.762\n",
      "(1000, 57)\n",
      "Accuracy (h) post 0.784\n",
      "before reweighing (meandiff): -0.11771249887248558 after: 1.1102230246251565e-16\n",
      "Accuracy (h*) post 0.776\n",
      "y=1 779.0  <-  700.0\n"
     ]
    }
   ],
   "source": [
    "from learner import ReweighingLogisticLearner\n",
    "\n",
    "g = GermanSimDataset(mutable_features=['status', 'savings'],\n",
    "                     domains={'savings': 'auto', 'status': 'auto'},\n",
    "                     discrete=['status', 'savings'],\n",
    "                     protected_attribute_names=['age'],\n",
    "                     privileged_classes=[lambda x: x >= 25],\n",
    "                     features_to_drop=['personal_status', 'sex'])\n",
    "\n",
    "privileged_groups = [{'age': 1}]\n",
    "unprivileged_groups = [{'age': 0}]\n",
    "\n",
    "sim = Simulation(g,\n",
    "                 RationalAgent,\n",
    "                 ReweighingLogisticLearner(privileged_groups,\n",
    "                                           unprivileged_groups),\n",
    "                 lambda size: np.abs(np.random.normal(loc=1.0,size=size)))\n",
    " \n",
    "sim.start_simulation(include_protected=True)"
   ]
  },
  {
   "cell_type": "markdown",
   "metadata": {},
   "source": [
    "### Young, Old (Pre Simulation)"
   ]
  },
  {
   "cell_type": "code",
   "execution_count": 8,
   "metadata": {},
   "outputs": [
    {
     "data": {
      "text/html": [
       "<div>\n",
       "<style scoped>\n",
       "    .dataframe tbody tr th:only-of-type {\n",
       "        vertical-align: middle;\n",
       "    }\n",
       "\n",
       "    .dataframe tbody tr th {\n",
       "        vertical-align: top;\n",
       "    }\n",
       "\n",
       "    .dataframe thead th {\n",
       "        text-align: right;\n",
       "    }\n",
       "</style>\n",
       "<table border=\"1\" class=\"dataframe\">\n",
       "  <thead>\n",
       "    <tr style=\"text-align: right;\">\n",
       "      <th></th>\n",
       "      <th>Good Credit</th>\n",
       "      <th>Bad Credit</th>\n",
       "    </tr>\n",
       "  </thead>\n",
       "  <tbody>\n",
       "    <tr>\n",
       "      <th>Young (149)</th>\n",
       "      <td>82.550336</td>\n",
       "      <td>17.449664</td>\n",
       "    </tr>\n",
       "    <tr>\n",
       "      <th>Old (851)</th>\n",
       "      <td>77.320799</td>\n",
       "      <td>22.679201</td>\n",
       "    </tr>\n",
       "  </tbody>\n",
       "</table>\n",
       "</div>"
      ],
      "text/plain": [
       "             Good Credit  Bad Credit\n",
       "Young (149)    82.550336   17.449664\n",
       "Old (851)      77.320799   22.679201"
      ]
     },
     "execution_count": 8,
     "metadata": {},
     "output_type": "execute_result"
    }
   ],
   "source": [
    "print_table(sim.dataset_df)"
   ]
  },
  {
   "cell_type": "markdown",
   "metadata": {},
   "source": [
    "### Young, Old (Post Simulation)"
   ]
  },
  {
   "cell_type": "code",
   "execution_count": 9,
   "metadata": {
    "scrolled": true
   },
   "outputs": [
    {
     "data": {
      "text/html": [
       "<div>\n",
       "<style scoped>\n",
       "    .dataframe tbody tr th:only-of-type {\n",
       "        vertical-align: middle;\n",
       "    }\n",
       "\n",
       "    .dataframe tbody tr th {\n",
       "        vertical-align: top;\n",
       "    }\n",
       "\n",
       "    .dataframe thead th {\n",
       "        text-align: right;\n",
       "    }\n",
       "</style>\n",
       "<table border=\"1\" class=\"dataframe\">\n",
       "  <thead>\n",
       "    <tr style=\"text-align: right;\">\n",
       "      <th></th>\n",
       "      <th>Good Credit</th>\n",
       "      <th>Bad Credit</th>\n",
       "    </tr>\n",
       "  </thead>\n",
       "  <tbody>\n",
       "    <tr>\n",
       "      <th>Young (149)</th>\n",
       "      <td>89.932886</td>\n",
       "      <td>10.067114</td>\n",
       "    </tr>\n",
       "    <tr>\n",
       "      <th>Old (851)</th>\n",
       "      <td>88.719154</td>\n",
       "      <td>11.280846</td>\n",
       "    </tr>\n",
       "  </tbody>\n",
       "</table>\n",
       "</div>"
      ],
      "text/plain": [
       "             Good Credit  Bad Credit\n",
       "Young (149)    89.932886   10.067114\n",
       "Old (851)      88.719154   11.280846"
      ]
     },
     "execution_count": 9,
     "metadata": {},
     "output_type": "execute_result"
    }
   ],
   "source": [
    "print_table(sim.dataset_new_df)"
   ]
  },
  {
   "cell_type": "markdown",
   "metadata": {},
   "source": [
    "### Comments\n",
    "Statistical parity difference improved."
   ]
  },
  {
   "cell_type": "code",
   "execution_count": 10,
   "metadata": {},
   "outputs": [
    {
     "name": "stdout",
     "output_type": "stream",
     "text": [
      "['A11' 'A12' 'A13' 'A14'] [0.38255034 0.30872483 0.05369128 0.25503356]\n",
      "['A11' 'A12' 'A13' 'A14'] [0.25499412 0.26204465 0.06462985 0.41833137]\n"
     ]
    }
   ],
   "source": [
    "df = sim.dataset_df\n",
    "unique_elements, counts_elements = np.unique(df[df['age'] == 0]['status'], return_counts=True)\n",
    "print(unique_elements, counts_elements/sum(counts_elements))\n",
    "\n",
    "unique_elements, counts_elements = np.unique(df[df['age'] == 1]['status'], return_counts=True)\n",
    "print(unique_elements, counts_elements/sum(counts_elements))"
   ]
  },
  {
   "cell_type": "markdown",
   "metadata": {},
   "source": [
    "Above shows, that young people have less money in their bank account. Bank account balance is quite relevant for the output. Thus we can still infer age via bank account.\n",
    "\n",
    "After playing around with the other fairness measures on the web application, I doubt that any of those will change this outcome for this particular dataset + protected attribute.\n",
    "\n",
    "Other options: (basically do some actual affirmative action)\n",
    "- play around with thresholds, see what happens\n",
    "- different cost distribution, subsidize skill investement (feature manipulation)\n",
    "- \n",
    "All the fairness measures in AIF360 are not affirmative action"
   ]
  },
  {
   "cell_type": "code",
   "execution_count": 11,
   "metadata": {},
   "outputs": [
    {
     "name": "stdout",
     "output_type": "stream",
     "text": [
      "['credit']\n",
      "[1.0]\n"
     ]
    }
   ],
   "source": [
    "from sklearn.linear_model import LogisticRegression\n",
    "\n",
    "print(sim.dataset.label_names)\n",
    "reg = LogisticRegression(solver='liblinear',max_iter=1000000000,C=1000000000000000000000.0).fit(sim.dataset.features, sim.dataset.labels.ravel())\n",
    "\n",
    "df = pd.DataFrame(data=sim.dataset.features, columns=sim.dataset.feature_names)\n",
    "data = plot._df_selection(df, {'age': 1})\n",
    "print(list(reg.predict([data.values[0]])))\n",
    "\n",
    "# next steps: implement modified decision function that enforces statistical parity..."
   ]
  },
  {
   "cell_type": "markdown",
   "metadata": {},
   "source": [
    "## Enforce Statistical Parity (threshold boost for unprivileged)"
   ]
  },
  {
   "cell_type": "code",
   "execution_count": 12,
   "metadata": {
    "scrolled": true
   },
   "outputs": [
    {
     "name": "stdout",
     "output_type": "stream",
     "text": [
      "Train:  (500, 57) , Test:  (500, 57)\n",
      "{'age': 1}\n",
      "Boost: 0.15949422121047974\n"
     ]
    },
    {
     "name": "stderr",
     "output_type": "stream",
     "text": [
      "/home/dan/ETH/ba/simulation/mutabledataset.py:68: UserWarning: Use set of values present in dataset to infer domain for feature savings\n",
      "  warnings.warn(\"Use set of values present in dataset to infer domain for feature \" + ft)\n",
      "/home/dan/ETH/ba/simulation/mutabledataset.py:68: UserWarning: Use set of values present in dataset to infer domain for feature status\n",
      "  warnings.warn(\"Use set of values present in dataset to infer domain for feature \" + ft)\n"
     ]
    },
    {
     "name": "stdout",
     "output_type": "stream",
     "text": [
      "Accuracy (h) pre 0.604\n",
      "(1000, 57)\n",
      "Accuracy (h) post 0.698\n",
      "{'age': 1}\n",
      "Boost: 0.14948266744613647\n",
      "Accuracy (h*) post 0.694\n",
      "y=1 765.0  <-  700.0\n"
     ]
    }
   ],
   "source": [
    "from learner import StatisticalParityLogisticLearner\n",
    "\n",
    "g = GermanSimDataset(mutable_features=['status', 'savings'],\n",
    "                     domains={'savings': 'auto', 'status': 'auto'},\n",
    "                     discrete=['status', 'savings'],\n",
    "                     protected_attribute_names=['age'],\n",
    "                     privileged_classes=[lambda x: x >= 25],\n",
    "                     features_to_drop=['personal_status', 'sex'])\n",
    "\n",
    "privileged_groups = [{'age': 1}]\n",
    "unprivileged_groups = [{'age': 0}]\n",
    "\n",
    "sim = Simulation(g,\n",
    "                 RationalAgent,\n",
    "                 StatisticalParityLogisticLearner(privileged_groups,\n",
    "                                           unprivileged_groups, 0.0000001),\n",
    "                 lambda size: np.abs(np.random.normal(loc=1.0,size=size)))\n",
    " \n",
    "sim.start_simulation(include_protected=True)"
   ]
  },
  {
   "cell_type": "markdown",
   "metadata": {},
   "source": [
    "### Young, Old (Pre Simulation)"
   ]
  },
  {
   "cell_type": "code",
   "execution_count": 13,
   "metadata": {},
   "outputs": [
    {
     "data": {
      "text/html": [
       "<div>\n",
       "<style scoped>\n",
       "    .dataframe tbody tr th:only-of-type {\n",
       "        vertical-align: middle;\n",
       "    }\n",
       "\n",
       "    .dataframe tbody tr th {\n",
       "        vertical-align: top;\n",
       "    }\n",
       "\n",
       "    .dataframe thead th {\n",
       "        text-align: right;\n",
       "    }\n",
       "</style>\n",
       "<table border=\"1\" class=\"dataframe\">\n",
       "  <thead>\n",
       "    <tr style=\"text-align: right;\">\n",
       "      <th></th>\n",
       "      <th>Good Credit</th>\n",
       "      <th>Bad Credit</th>\n",
       "    </tr>\n",
       "  </thead>\n",
       "  <tbody>\n",
       "    <tr>\n",
       "      <th>Young (149)</th>\n",
       "      <td>79.865772</td>\n",
       "      <td>20.134228</td>\n",
       "    </tr>\n",
       "    <tr>\n",
       "      <th>Old (851)</th>\n",
       "      <td>81.551116</td>\n",
       "      <td>18.448884</td>\n",
       "    </tr>\n",
       "  </tbody>\n",
       "</table>\n",
       "</div>"
      ],
      "text/plain": [
       "             Good Credit  Bad Credit\n",
       "Young (149)    79.865772   20.134228\n",
       "Old (851)      81.551116   18.448884"
      ]
     },
     "execution_count": 13,
     "metadata": {},
     "output_type": "execute_result"
    }
   ],
   "source": [
    "print_table(sim.dataset_df)"
   ]
  },
  {
   "cell_type": "markdown",
   "metadata": {},
   "source": [
    "### Young, Old (Post Simulation)"
   ]
  },
  {
   "cell_type": "code",
   "execution_count": 14,
   "metadata": {
    "scrolled": false
   },
   "outputs": [
    {
     "data": {
      "text/html": [
       "<div>\n",
       "<style scoped>\n",
       "    .dataframe tbody tr th:only-of-type {\n",
       "        vertical-align: middle;\n",
       "    }\n",
       "\n",
       "    .dataframe tbody tr th {\n",
       "        vertical-align: top;\n",
       "    }\n",
       "\n",
       "    .dataframe thead th {\n",
       "        text-align: right;\n",
       "    }\n",
       "</style>\n",
       "<table border=\"1\" class=\"dataframe\">\n",
       "  <thead>\n",
       "    <tr style=\"text-align: right;\">\n",
       "      <th></th>\n",
       "      <th>Good Credit</th>\n",
       "      <th>Bad Credit</th>\n",
       "    </tr>\n",
       "  </thead>\n",
       "  <tbody>\n",
       "    <tr>\n",
       "      <th>Young (149)</th>\n",
       "      <td>91.275168</td>\n",
       "      <td>8.724832</td>\n",
       "    </tr>\n",
       "    <tr>\n",
       "      <th>Old (851)</th>\n",
       "      <td>90.599295</td>\n",
       "      <td>9.400705</td>\n",
       "    </tr>\n",
       "  </tbody>\n",
       "</table>\n",
       "</div>"
      ],
      "text/plain": [
       "             Good Credit  Bad Credit\n",
       "Young (149)    91.275168    8.724832\n",
       "Old (851)      90.599295    9.400705"
      ]
     },
     "execution_count": 14,
     "metadata": {},
     "output_type": "execute_result"
    }
   ],
   "source": [
    "print_table(sim.dataset_new_df)"
   ]
  },
  {
   "cell_type": "markdown",
   "metadata": {},
   "source": [
    "# Adversial Debiasing"
   ]
  },
  {
   "cell_type": "code",
   "execution_count": 19,
   "metadata": {
    "scrolled": true
   },
   "outputs": [
    {
     "name": "stderr",
     "output_type": "stream",
     "text": [
      "/home/dan/ETH/ba/simulation/mutabledataset.py:68: UserWarning: Use set of values present in dataset to infer domain for feature savings\n",
      "  warnings.warn(\"Use set of values present in dataset to infer domain for feature \" + ft)\n",
      "/home/dan/ETH/ba/simulation/mutabledataset.py:68: UserWarning: Use set of values present in dataset to infer domain for feature status\n",
      "  warnings.warn(\"Use set of values present in dataset to infer domain for feature \" + ft)\n"
     ]
    },
    {
     "name": "stdout",
     "output_type": "stream",
     "text": [
      "Train:  (500, 57) , Test:  (500, 57)\n",
      "epoch 0; iter: 0; batch classifier loss: 0.679220; batch adversarial loss: 0.749470\n",
      "epoch 1; iter: 0; batch classifier loss: 0.628794; batch adversarial loss: 0.727408\n",
      "epoch 2; iter: 0; batch classifier loss: 0.613536; batch adversarial loss: 0.732901\n",
      "epoch 3; iter: 0; batch classifier loss: 0.603168; batch adversarial loss: 0.733453\n",
      "epoch 4; iter: 0; batch classifier loss: 0.589309; batch adversarial loss: 0.731225\n",
      "epoch 5; iter: 0; batch classifier loss: 0.524325; batch adversarial loss: 0.727602\n",
      "epoch 6; iter: 0; batch classifier loss: 0.531629; batch adversarial loss: 0.730323\n",
      "epoch 7; iter: 0; batch classifier loss: 0.506523; batch adversarial loss: 0.727918\n",
      "epoch 8; iter: 0; batch classifier loss: 0.584862; batch adversarial loss: 0.734142\n",
      "epoch 9; iter: 0; batch classifier loss: 0.518870; batch adversarial loss: 0.706247\n",
      "epoch 10; iter: 0; batch classifier loss: 0.514486; batch adversarial loss: 0.718355\n",
      "epoch 11; iter: 0; batch classifier loss: 0.496564; batch adversarial loss: 0.721897\n",
      "epoch 12; iter: 0; batch classifier loss: 0.505539; batch adversarial loss: 0.709729\n",
      "epoch 13; iter: 0; batch classifier loss: 0.451356; batch adversarial loss: 0.704902\n",
      "epoch 14; iter: 0; batch classifier loss: 0.507612; batch adversarial loss: 0.714366\n",
      "epoch 15; iter: 0; batch classifier loss: 0.464093; batch adversarial loss: 0.701108\n",
      "epoch 16; iter: 0; batch classifier loss: 0.461086; batch adversarial loss: 0.703431\n",
      "epoch 17; iter: 0; batch classifier loss: 0.401532; batch adversarial loss: 0.687483\n",
      "epoch 18; iter: 0; batch classifier loss: 0.436258; batch adversarial loss: 0.685894\n",
      "epoch 19; iter: 0; batch classifier loss: 0.448028; batch adversarial loss: 0.684865\n",
      "epoch 20; iter: 0; batch classifier loss: 0.428286; batch adversarial loss: 0.682742\n",
      "epoch 21; iter: 0; batch classifier loss: 0.511008; batch adversarial loss: 0.692691\n",
      "epoch 22; iter: 0; batch classifier loss: 0.441713; batch adversarial loss: 0.666951\n",
      "epoch 23; iter: 0; batch classifier loss: 0.471872; batch adversarial loss: 0.679258\n",
      "epoch 24; iter: 0; batch classifier loss: 0.448104; batch adversarial loss: 0.675210\n",
      "epoch 25; iter: 0; batch classifier loss: 0.429474; batch adversarial loss: 0.669926\n",
      "epoch 26; iter: 0; batch classifier loss: 0.488223; batch adversarial loss: 0.669285\n",
      "epoch 27; iter: 0; batch classifier loss: 0.490602; batch adversarial loss: 0.668656\n",
      "epoch 28; iter: 0; batch classifier loss: 0.378860; batch adversarial loss: 0.660154\n",
      "epoch 29; iter: 0; batch classifier loss: 0.476928; batch adversarial loss: 0.665470\n",
      "epoch 30; iter: 0; batch classifier loss: 0.512842; batch adversarial loss: 0.663331\n",
      "epoch 31; iter: 0; batch classifier loss: 0.470893; batch adversarial loss: 0.653880\n",
      "epoch 32; iter: 0; batch classifier loss: 0.452459; batch adversarial loss: 0.661900\n",
      "epoch 33; iter: 0; batch classifier loss: 0.501408; batch adversarial loss: 0.657256\n",
      "epoch 34; iter: 0; batch classifier loss: 0.496019; batch adversarial loss: 0.656168\n",
      "epoch 35; iter: 0; batch classifier loss: 0.463352; batch adversarial loss: 0.650460\n",
      "epoch 36; iter: 0; batch classifier loss: 0.506043; batch adversarial loss: 0.662883\n",
      "epoch 37; iter: 0; batch classifier loss: 0.440253; batch adversarial loss: 0.640946\n",
      "epoch 38; iter: 0; batch classifier loss: 0.398502; batch adversarial loss: 0.626355\n",
      "epoch 39; iter: 0; batch classifier loss: 0.431847; batch adversarial loss: 0.630965\n",
      "epoch 40; iter: 0; batch classifier loss: 0.415934; batch adversarial loss: 0.635680\n",
      "epoch 41; iter: 0; batch classifier loss: 0.466307; batch adversarial loss: 0.627934\n",
      "epoch 42; iter: 0; batch classifier loss: 0.385255; batch adversarial loss: 0.625222\n",
      "epoch 43; iter: 0; batch classifier loss: 0.407911; batch adversarial loss: 0.628391\n",
      "epoch 44; iter: 0; batch classifier loss: 0.380980; batch adversarial loss: 0.615172\n",
      "epoch 45; iter: 0; batch classifier loss: 0.411283; batch adversarial loss: 0.614374\n",
      "epoch 46; iter: 0; batch classifier loss: 0.404571; batch adversarial loss: 0.620863\n",
      "epoch 47; iter: 0; batch classifier loss: 0.414452; batch adversarial loss: 0.623344\n",
      "epoch 48; iter: 0; batch classifier loss: 0.419723; batch adversarial loss: 0.632578\n",
      "epoch 49; iter: 0; batch classifier loss: 0.436588; batch adversarial loss: 0.608908\n",
      "Accuracy (h) pre 0.75\n",
      "(1000, 57)\n",
      "Accuracy (h) post 0.818\n",
      "epoch 0; iter: 0; batch classifier loss: 0.635306; batch adversarial loss: 0.722141\n",
      "epoch 1; iter: 0; batch classifier loss: 0.620382; batch adversarial loss: 0.746818\n",
      "epoch 2; iter: 0; batch classifier loss: 0.544064; batch adversarial loss: 0.719487\n",
      "epoch 3; iter: 0; batch classifier loss: 0.511687; batch adversarial loss: 0.726064\n",
      "epoch 4; iter: 0; batch classifier loss: 0.472552; batch adversarial loss: 0.715633\n",
      "epoch 5; iter: 0; batch classifier loss: 0.480411; batch adversarial loss: 0.730524\n",
      "epoch 6; iter: 0; batch classifier loss: 0.448317; batch adversarial loss: 0.735550\n",
      "epoch 7; iter: 0; batch classifier loss: 0.506950; batch adversarial loss: 0.726773\n",
      "epoch 8; iter: 0; batch classifier loss: 0.378275; batch adversarial loss: 0.706892\n",
      "epoch 9; iter: 0; batch classifier loss: 0.494963; batch adversarial loss: 0.718710\n",
      "epoch 10; iter: 0; batch classifier loss: 0.412649; batch adversarial loss: 0.705573\n",
      "epoch 11; iter: 0; batch classifier loss: 0.662006; batch adversarial loss: 0.752476\n",
      "epoch 12; iter: 0; batch classifier loss: 0.521055; batch adversarial loss: 0.744887\n",
      "epoch 13; iter: 0; batch classifier loss: 0.524574; batch adversarial loss: 0.742898\n",
      "epoch 14; iter: 0; batch classifier loss: 0.447666; batch adversarial loss: 0.690868\n",
      "epoch 15; iter: 0; batch classifier loss: 0.394575; batch adversarial loss: 0.702296\n",
      "epoch 16; iter: 0; batch classifier loss: 0.548422; batch adversarial loss: 0.739718\n",
      "epoch 17; iter: 0; batch classifier loss: 0.432692; batch adversarial loss: 0.702740\n",
      "epoch 18; iter: 0; batch classifier loss: 0.536531; batch adversarial loss: 0.728427\n",
      "epoch 19; iter: 0; batch classifier loss: 0.539191; batch adversarial loss: 0.719243\n",
      "epoch 20; iter: 0; batch classifier loss: 0.515431; batch adversarial loss: 0.717138\n",
      "epoch 21; iter: 0; batch classifier loss: 0.411783; batch adversarial loss: 0.661136\n",
      "epoch 22; iter: 0; batch classifier loss: 0.477401; batch adversarial loss: 0.679839\n",
      "epoch 23; iter: 0; batch classifier loss: 0.461012; batch adversarial loss: 0.680972\n",
      "epoch 24; iter: 0; batch classifier loss: 0.453218; batch adversarial loss: 0.689007\n",
      "epoch 25; iter: 0; batch classifier loss: 0.441697; batch adversarial loss: 0.689730\n",
      "epoch 26; iter: 0; batch classifier loss: 0.398457; batch adversarial loss: 0.666953\n",
      "epoch 27; iter: 0; batch classifier loss: 0.450000; batch adversarial loss: 0.684970\n",
      "epoch 28; iter: 0; batch classifier loss: 0.426541; batch adversarial loss: 0.665228\n",
      "epoch 29; iter: 0; batch classifier loss: 0.357138; batch adversarial loss: 0.640241\n",
      "epoch 30; iter: 0; batch classifier loss: 0.368331; batch adversarial loss: 0.642604\n",
      "epoch 31; iter: 0; batch classifier loss: 0.366158; batch adversarial loss: 0.642063\n",
      "epoch 32; iter: 0; batch classifier loss: 0.411347; batch adversarial loss: 0.662054\n",
      "epoch 33; iter: 0; batch classifier loss: 0.411758; batch adversarial loss: 0.659600\n",
      "epoch 34; iter: 0; batch classifier loss: 0.413052; batch adversarial loss: 0.638282\n",
      "epoch 35; iter: 0; batch classifier loss: 0.365913; batch adversarial loss: 0.651360\n",
      "epoch 36; iter: 0; batch classifier loss: 0.408569; batch adversarial loss: 0.648841\n",
      "epoch 37; iter: 0; batch classifier loss: 0.421175; batch adversarial loss: 0.644389\n",
      "epoch 38; iter: 0; batch classifier loss: 0.392332; batch adversarial loss: 0.624169\n",
      "epoch 39; iter: 0; batch classifier loss: 0.384683; batch adversarial loss: 0.640738\n",
      "epoch 40; iter: 0; batch classifier loss: 0.342027; batch adversarial loss: 0.616641\n",
      "epoch 41; iter: 0; batch classifier loss: 0.460437; batch adversarial loss: 0.645055\n",
      "epoch 42; iter: 0; batch classifier loss: 0.399842; batch adversarial loss: 0.626441\n",
      "epoch 43; iter: 0; batch classifier loss: 0.512337; batch adversarial loss: 0.681034\n",
      "epoch 44; iter: 0; batch classifier loss: 0.347118; batch adversarial loss: 0.620523\n",
      "epoch 45; iter: 0; batch classifier loss: 0.391178; batch adversarial loss: 0.623986\n",
      "epoch 46; iter: 0; batch classifier loss: 0.419353; batch adversarial loss: 0.643719\n",
      "epoch 47; iter: 0; batch classifier loss: 0.379246; batch adversarial loss: 0.589818\n",
      "epoch 48; iter: 0; batch classifier loss: 0.305811; batch adversarial loss: 0.613523\n",
      "epoch 49; iter: 0; batch classifier loss: 0.382240; batch adversarial loss: 0.632304\n"
     ]
    },
    {
     "name": "stdout",
     "output_type": "stream",
     "text": [
      "Accuracy (h*) post 0.804\n",
      "y=1 798.0  <-  700.0\n"
     ]
    }
   ],
   "source": [
    "from learner import AdversialDebiasingLogisticLearner\n",
    "\n",
    "g = GermanSimDataset(mutable_features=['status', 'savings'],\n",
    "                     domains={'savings': 'auto', 'status': 'auto'},\n",
    "                     discrete=['status', 'savings'],\n",
    "                     protected_attribute_names=['age'],\n",
    "                     privileged_classes=[lambda x: x >= 25],\n",
    "                     features_to_drop=['personal_status', 'sex'])\n",
    "\n",
    "privileged_groups = [{'age': 1}]\n",
    "unprivileged_groups = [{'age': 0}]\n",
    "\n",
    "sim = Simulation(g,\n",
    "                 RationalAgent,\n",
    "                 AdversialDebiasingLogisticLearner(privileged_groups = privileged_groups,\n",
    "                          unprivileged_groups = unprivileged_groups),\n",
    "                 lambda size: np.abs(np.random.normal(loc=0.5,size=size)))\n",
    " \n",
    "sim.start_simulation(include_protected=True)"
   ]
  },
  {
   "cell_type": "markdown",
   "metadata": {},
   "source": [
    "### Young, Old (Pre Simulation)"
   ]
  },
  {
   "cell_type": "code",
   "execution_count": 20,
   "metadata": {},
   "outputs": [
    {
     "data": {
      "text/html": [
       "<div>\n",
       "<style scoped>\n",
       "    .dataframe tbody tr th:only-of-type {\n",
       "        vertical-align: middle;\n",
       "    }\n",
       "\n",
       "    .dataframe tbody tr th {\n",
       "        vertical-align: top;\n",
       "    }\n",
       "\n",
       "    .dataframe thead th {\n",
       "        text-align: right;\n",
       "    }\n",
       "</style>\n",
       "<table border=\"1\" class=\"dataframe\">\n",
       "  <thead>\n",
       "    <tr style=\"text-align: right;\">\n",
       "      <th></th>\n",
       "      <th>Good Credit</th>\n",
       "      <th>Bad Credit</th>\n",
       "    </tr>\n",
       "  </thead>\n",
       "  <tbody>\n",
       "    <tr>\n",
       "      <th>Young (149)</th>\n",
       "      <td>43.624161</td>\n",
       "      <td>56.375839</td>\n",
       "    </tr>\n",
       "    <tr>\n",
       "      <th>Old (851)</th>\n",
       "      <td>82.373678</td>\n",
       "      <td>17.626322</td>\n",
       "    </tr>\n",
       "  </tbody>\n",
       "</table>\n",
       "</div>"
      ],
      "text/plain": [
       "             Good Credit  Bad Credit\n",
       "Young (149)    43.624161   56.375839\n",
       "Old (851)      82.373678   17.626322"
      ]
     },
     "execution_count": 20,
     "metadata": {},
     "output_type": "execute_result"
    }
   ],
   "source": [
    "print_table(sim.dataset_df)"
   ]
  },
  {
   "cell_type": "markdown",
   "metadata": {},
   "source": [
    "### Young, Old (Post Simulation)"
   ]
  },
  {
   "cell_type": "code",
   "execution_count": 21,
   "metadata": {
    "scrolled": true
   },
   "outputs": [
    {
     "data": {
      "text/html": [
       "<div>\n",
       "<style scoped>\n",
       "    .dataframe tbody tr th:only-of-type {\n",
       "        vertical-align: middle;\n",
       "    }\n",
       "\n",
       "    .dataframe tbody tr th {\n",
       "        vertical-align: top;\n",
       "    }\n",
       "\n",
       "    .dataframe thead th {\n",
       "        text-align: right;\n",
       "    }\n",
       "</style>\n",
       "<table border=\"1\" class=\"dataframe\">\n",
       "  <thead>\n",
       "    <tr style=\"text-align: right;\">\n",
       "      <th></th>\n",
       "      <th>Good Credit</th>\n",
       "      <th>Bad Credit</th>\n",
       "    </tr>\n",
       "  </thead>\n",
       "  <tbody>\n",
       "    <tr>\n",
       "      <th>Young (149)</th>\n",
       "      <td>92.617450</td>\n",
       "      <td>7.382550</td>\n",
       "    </tr>\n",
       "    <tr>\n",
       "      <th>Old (851)</th>\n",
       "      <td>90.834313</td>\n",
       "      <td>9.165687</td>\n",
       "    </tr>\n",
       "  </tbody>\n",
       "</table>\n",
       "</div>"
      ],
      "text/plain": [
       "             Good Credit  Bad Credit\n",
       "Young (149)    92.617450    7.382550\n",
       "Old (851)      90.834313    9.165687"
      ]
     },
     "execution_count": 21,
     "metadata": {},
     "output_type": "execute_result"
    }
   ],
   "source": [
    "print_table(sim.dataset_new_df)"
   ]
  },
  {
   "cell_type": "markdown",
   "metadata": {},
   "source": [
    "# EqOdds Postprocessing"
   ]
  },
  {
   "cell_type": "code",
   "execution_count": 18,
   "metadata": {
    "scrolled": false
   },
   "outputs": [
    {
     "name": "stderr",
     "output_type": "stream",
     "text": [
      "/home/dan/ETH/ba/simulation/mutabledataset.py:68: UserWarning: Use set of values present in dataset to infer domain for feature savings\n",
      "  warnings.warn(\"Use set of values present in dataset to infer domain for feature \" + ft)\n",
      "/home/dan/ETH/ba/simulation/mutabledataset.py:68: UserWarning: Use set of values present in dataset to infer domain for feature status\n",
      "  warnings.warn(\"Use set of values present in dataset to infer domain for feature \" + ft)\n"
     ]
    },
    {
     "name": "stdout",
     "output_type": "stream",
     "text": [
      "Train:  (500, 57) , Test:  (500, 57)\n",
      "Accuracy (h) pre 0.0\n",
      "(1000, 57)\n",
      "Accuracy (h) post 0.0\n",
      "Accuracy (h*) post 0.0\n",
      "y=1 700.0  <-  700.0\n"
     ]
    },
    {
     "ename": "ValueError",
     "evalue": "Length of passed values is 500, index implies 1000",
     "output_type": "error",
     "traceback": [
      "\u001b[0;31m---------------------------------------------------------------------------\u001b[0m",
      "\u001b[0;31mValueError\u001b[0m                                Traceback (most recent call last)",
      "\u001b[0;32m<ipython-input-18-5099d8a553fe>\u001b[0m in \u001b[0;36m<module>\u001b[0;34m\u001b[0m\n\u001b[1;32m     17\u001b[0m                  lambda size: np.abs(np.random.normal(loc=0.5,size=size)))\n\u001b[1;32m     18\u001b[0m \u001b[0;34m\u001b[0m\u001b[0m\n\u001b[0;32m---> 19\u001b[0;31m \u001b[0msim\u001b[0m\u001b[0;34m.\u001b[0m\u001b[0mstart_simulation\u001b[0m\u001b[0;34m(\u001b[0m\u001b[0minclude_protected\u001b[0m\u001b[0;34m=\u001b[0m\u001b[0;32mTrue\u001b[0m\u001b[0;34m)\u001b[0m\u001b[0;34m\u001b[0m\u001b[0m\n\u001b[0m",
      "\u001b[0;32m~/ETH/ba/simulation/simulation.py\u001b[0m in \u001b[0;36mstart_simulation\u001b[0;34m(self, include_protected)\u001b[0m\n\u001b[1;32m     65\u001b[0m \u001b[0;34m\u001b[0m\u001b[0m\n\u001b[1;32m     66\u001b[0m         \u001b[0mself\u001b[0m\u001b[0;34m.\u001b[0m\u001b[0mdataset_df\u001b[0m \u001b[0;34m=\u001b[0m \u001b[0mself\u001b[0m\u001b[0;34m.\u001b[0m\u001b[0mdataset\u001b[0m\u001b[0;34m.\u001b[0m\u001b[0mconvert_to_dataframe\u001b[0m\u001b[0;34m(\u001b[0m\u001b[0mde_dummy_code\u001b[0m\u001b[0;34m=\u001b[0m\u001b[0;32mTrue\u001b[0m\u001b[0;34m)\u001b[0m\u001b[0;34m[\u001b[0m\u001b[0;36m0\u001b[0m\u001b[0;34m]\u001b[0m\u001b[0;34m\u001b[0m\u001b[0m\n\u001b[0;32m---> 67\u001b[0;31m         \u001b[0mself\u001b[0m\u001b[0;34m.\u001b[0m\u001b[0mdataset_df\u001b[0m\u001b[0;34m[\u001b[0m\u001b[0;34m'credit_h'\u001b[0m\u001b[0;34m]\u001b[0m \u001b[0;34m=\u001b[0m \u001b[0mpd\u001b[0m\u001b[0;34m.\u001b[0m\u001b[0mSeries\u001b[0m\u001b[0;34m(\u001b[0m\u001b[0mself\u001b[0m\u001b[0;34m.\u001b[0m\u001b[0mY_predicted\u001b[0m\u001b[0;34m,\u001b[0m \u001b[0mindex\u001b[0m\u001b[0;34m=\u001b[0m\u001b[0mself\u001b[0m\u001b[0;34m.\u001b[0m\u001b[0mdataset_df\u001b[0m\u001b[0;34m.\u001b[0m\u001b[0mindex\u001b[0m\u001b[0;34m)\u001b[0m\u001b[0;34m\u001b[0m\u001b[0m\n\u001b[0m\u001b[1;32m     68\u001b[0m         \u001b[0mself\u001b[0m\u001b[0;34m.\u001b[0m\u001b[0mdataset_new_df\u001b[0m \u001b[0;34m=\u001b[0m \u001b[0mself\u001b[0m\u001b[0;34m.\u001b[0m\u001b[0mdataset_new\u001b[0m\u001b[0;34m.\u001b[0m\u001b[0mconvert_to_dataframe\u001b[0m\u001b[0;34m(\u001b[0m\u001b[0mde_dummy_code\u001b[0m\u001b[0;34m=\u001b[0m\u001b[0;32mTrue\u001b[0m\u001b[0;34m)\u001b[0m\u001b[0;34m[\u001b[0m\u001b[0;36m0\u001b[0m\u001b[0;34m]\u001b[0m\u001b[0;34m\u001b[0m\u001b[0m\n\u001b[1;32m     69\u001b[0m         \u001b[0mself\u001b[0m\u001b[0;34m.\u001b[0m\u001b[0mdataset_new_df\u001b[0m\u001b[0;34m[\u001b[0m\u001b[0;34m'credit_h'\u001b[0m\u001b[0;34m]\u001b[0m \u001b[0;34m=\u001b[0m \u001b[0mpd\u001b[0m\u001b[0;34m.\u001b[0m\u001b[0mSeries\u001b[0m\u001b[0;34m(\u001b[0m\u001b[0mself\u001b[0m\u001b[0;34m.\u001b[0m\u001b[0mY_new_predicted\u001b[0m\u001b[0;34m,\u001b[0m \u001b[0mindex\u001b[0m\u001b[0;34m=\u001b[0m\u001b[0mself\u001b[0m\u001b[0;34m.\u001b[0m\u001b[0mdataset_new_df\u001b[0m\u001b[0;34m.\u001b[0m\u001b[0mindex\u001b[0m\u001b[0;34m)\u001b[0m\u001b[0;34m\u001b[0m\u001b[0m\n",
      "\u001b[0;32m~/.local/share/virtualenvs/simulation-lLjf8lvH/lib/python3.5/site-packages/pandas/core/series.py\u001b[0m in \u001b[0;36m__init__\u001b[0;34m(self, data, index, dtype, name, copy, fastpath)\u001b[0m\n\u001b[1;32m    260\u001b[0m                             \u001b[0;34m'Length of passed values is {val}, '\u001b[0m\u001b[0;34m\u001b[0m\u001b[0m\n\u001b[1;32m    261\u001b[0m                             \u001b[0;34m'index implies {ind}'\u001b[0m\u001b[0;34m\u001b[0m\u001b[0m\n\u001b[0;32m--> 262\u001b[0;31m                             .format(val=len(data), ind=len(index)))\n\u001b[0m\u001b[1;32m    263\u001b[0m                 \u001b[0;32mexcept\u001b[0m \u001b[0mTypeError\u001b[0m\u001b[0;34m:\u001b[0m\u001b[0;34m\u001b[0m\u001b[0m\n\u001b[1;32m    264\u001b[0m                     \u001b[0;32mpass\u001b[0m\u001b[0;34m\u001b[0m\u001b[0m\n",
      "\u001b[0;31mValueError\u001b[0m: Length of passed values is 500, index implies 1000"
     ]
    }
   ],
   "source": [
    "from learner import EqOddsPostprocessingLogisticLearner\n",
    "\n",
    "g = GermanSimDataset(mutable_features=['status', 'savings'],\n",
    "                     domains={'savings': 'auto', 'status': 'auto'},\n",
    "                     discrete=['status', 'savings'],\n",
    "                     protected_attribute_names=['age'],\n",
    "                     privileged_classes=[lambda x: x >= 25],\n",
    "                     features_to_drop=['personal_status', 'sex'])\n",
    "\n",
    "privileged_groups = [{'age': 1}]\n",
    "unprivileged_groups = [{'age': 0}]\n",
    "\n",
    "sim = Simulation(g,\n",
    "                 RationalAgent,\n",
    "                 EqOddsPostprocessingLogisticLearner(privileged_groups = privileged_groups,\n",
    "                          unprivileged_groups = unprivileged_groups),\n",
    "                 lambda size: np.abs(np.random.normal(loc=0.5,size=size)))\n",
    " \n",
    "sim.start_simulation(include_protected=True)"
   ]
  },
  {
   "cell_type": "markdown",
   "metadata": {},
   "source": [
    "### Young, Old (Pre Simulation)"
   ]
  },
  {
   "cell_type": "code",
   "execution_count": null,
   "metadata": {},
   "outputs": [],
   "source": [
    "print_table(sim.dataset_df)"
   ]
  },
  {
   "cell_type": "markdown",
   "metadata": {},
   "source": [
    "### Young, Old (Post Simulation)"
   ]
  },
  {
   "cell_type": "code",
   "execution_count": null,
   "metadata": {
    "scrolled": false
   },
   "outputs": [],
   "source": [
    "print_table(sim.dataset_new_df)"
   ]
  }
 ],
 "metadata": {
  "kernelspec": {
   "display_name": "Python 3",
   "language": "python",
   "name": "python3"
  },
  "language_info": {
   "codemirror_mode": {
    "name": "ipython",
    "version": 3
   },
   "file_extension": ".py",
   "mimetype": "text/x-python",
   "name": "python",
   "nbconvert_exporter": "python",
   "pygments_lexer": "ipython3",
   "version": "3.5.6"
  }
 },
 "nbformat": 4,
 "nbformat_minor": 2
}
