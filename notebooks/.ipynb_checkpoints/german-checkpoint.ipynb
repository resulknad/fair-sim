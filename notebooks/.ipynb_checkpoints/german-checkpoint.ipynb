{
 "cells": [
  {
   "cell_type": "code",
   "execution_count": null,
   "metadata": {},
   "outputs": [],
   "source": [
    "%load_ext autoreload\n",
    "%autoreload 2\n",
    "from mutabledataset import GermanSimDataset\n",
    "from agent import RationalAgent\n",
    "from simulation import Simulation\n",
    "from learner import LogisticLearner\n",
    "\n",
    "import plot\n",
    "import numpy as np\n",
    "import pandas as pd\n",
    "\n",
    "def print_table(df):\n",
    "    young = plot.count_df(df, [{'age': 0, 'credit_h': 1}, {'age': 0, 'credit_h': 0}])\n",
    "    young_n = young.sum()\n",
    "    young = young / young.sum() * 100\n",
    "\n",
    "    old = plot.count_df(df, [{'age': 1, 'credit_h': 1}, {'age': 1, 'credit_h': 0}])\n",
    "    old_n = old.sum()\n",
    "    old = old / old.sum() * 100\n",
    "    tbl = pd.DataFrame(data=[young,old], index=['Young ('+str(young_n)+')', 'Old ('+str(old_n)+')'], columns=['Good Credit', 'Bad Credit'])\n",
    "    return (tbl)\n",
    "    #plot.plot_pie(sim.dataset_df, [{'age': 0, 'credit_h': 1},\n",
    "    #                               {'age': 0, 'credit_h': 0}],\n",
    "    #              ['Good', 'Bad'], 'Young')\n",
    "\n",
    "    #plot.plot_pie(sim.dataset_df, [{'age': 1, 'credit_h': 1},\n",
    "    #                               {'age': 1, 'credit_h': 0}],\n",
    "    #              ['Good', 'Bad'], 'Old')\n",
    "\n",
    "    #plot.plot_pie(sim.dataset_new_df, [{'age': 0, 'credit_h': 1},\n",
    "    #                               {'age': 0, 'credit_h': 0}],\n",
    "    #              ['Good', 'Bad'], 'Young')\n",
    "\n",
    "    #plot.plot_pie(sim.dataset_new_df, [{'age': 1, 'credit_h': 1},\n",
    "    #                               {'age': 1, 'credit_h': 0}],\n",
    "    #              ['Good', 'Bad'], 'Old')\n",
    "\n"
   ]
  },
  {
   "cell_type": "markdown",
   "metadata": {},
   "source": [
    "# Logistic Regression"
   ]
  },
  {
   "cell_type": "code",
   "execution_count": null,
   "metadata": {},
   "outputs": [],
   "source": [
    "\n",
    "g = GermanSimDataset(mutable_features=['savings'],\n",
    "                     domains={'savings': 'auto'},\n",
    "                     discrete=['savings'])\n",
    "sim = Simulation(g,\n",
    "                 RationalAgent,\n",
    "                 LogisticLearner(),\n",
    "                 lambda size: np.abs(np.random.normal(loc=1.0,size=size)))\n",
    " \n",
    "sim.start_simulation(include_protected=True)\n"
   ]
  },
  {
   "cell_type": "code",
   "execution_count": null,
   "metadata": {},
   "outputs": [],
   "source": [
    "df,_ = sim.train.convert_to_dataframe(de_dummy_code=True)\n",
    "print(np.array(df['age'] == 0).sum())"
   ]
  },
  {
   "cell_type": "markdown",
   "metadata": {},
   "source": [
    "### Mutable Features"
   ]
  },
  {
   "cell_type": "code",
   "execution_count": null,
   "metadata": {},
   "outputs": [],
   "source": [
    "print(\"young\")\n",
    "plot.plot_mutable_features(sim,selection_criteria={'age':0})\n",
    "print(\"old\")\n",
    "plot.plot_mutable_features(sim,selection_criteria={'age':1})"
   ]
  },
  {
   "cell_type": "markdown",
   "metadata": {},
   "source": [
    "### Young, Old (Pre Simulation)"
   ]
  },
  {
   "cell_type": "code",
   "execution_count": null,
   "metadata": {},
   "outputs": [],
   "source": [
    "print_table(sim.dataset_df)"
   ]
  },
  {
   "cell_type": "markdown",
   "metadata": {},
   "source": [
    "### Young, Old (Post Simulation)"
   ]
  },
  {
   "cell_type": "code",
   "execution_count": null,
   "metadata": {
    "scrolled": true
   },
   "outputs": [],
   "source": [
    "print_table(sim.dataset_new_df)"
   ]
  },
  {
   "cell_type": "markdown",
   "metadata": {},
   "source": [
    "# Logistic Regression with Reweighing"
   ]
  },
  {
   "cell_type": "code",
   "execution_count": null,
   "metadata": {
    "scrolled": true
   },
   "outputs": [],
   "source": [
    "from learner import ReweighingLogisticLearner\n",
    "\n",
    "g = GermanSimDataset(mutable_features=['savings'],\n",
    "                     domains={'savings': 'auto'},\n",
    "                     discrete=['savings'],\n",
    "                     protected_attribute_names=['age'],\n",
    "                     privileged_classes=[lambda x: x >= 25],\n",
    "                     features_to_drop=['personal_status', 'sex'])\n",
    "\n",
    "privileged_groups = [{'age': 1}]\n",
    "unprivileged_groups = [{'age': 0}]\n",
    "\n",
    "sim = Simulation(g,\n",
    "                 RationalAgent,\n",
    "                 ReweighingLogisticLearner(privileged_groups,\n",
    "                                           unprivileged_groups),\n",
    "                 lambda size: np.abs(np.random.normal(loc=1.0,size=size)))\n",
    " \n",
    "sim.start_simulation(include_protected=True)"
   ]
  },
  {
   "cell_type": "markdown",
   "metadata": {},
   "source": [
    "### Young, Old (Pre Simulation)"
   ]
  },
  {
   "cell_type": "code",
   "execution_count": null,
   "metadata": {},
   "outputs": [],
   "source": [
    "print_table(sim.dataset_df)"
   ]
  },
  {
   "cell_type": "markdown",
   "metadata": {},
   "source": [
    "### Young, Old (Post Simulation)"
   ]
  },
  {
   "cell_type": "code",
   "execution_count": null,
   "metadata": {
    "scrolled": false
   },
   "outputs": [],
   "source": [
    "print_table(sim.dataset_new_df)"
   ]
  },
  {
   "cell_type": "markdown",
   "metadata": {},
   "source": [
    "### Mutable Features"
   ]
  },
  {
   "cell_type": "code",
   "execution_count": null,
   "metadata": {},
   "outputs": [],
   "source": [
    "print(\"young\")\n",
    "plot.plot_mutable_features(sim,selection_criteria={'age':0})\n",
    "print(\"old\")\n",
    "plot.plot_mutable_features(sim,selection_criteria={'age':1})"
   ]
  },
  {
   "cell_type": "markdown",
   "metadata": {},
   "source": [
    "### Comments\n",
    "Statistical parity difference improved."
   ]
  },
  {
   "cell_type": "code",
   "execution_count": null,
   "metadata": {},
   "outputs": [],
   "source": [
    "df = sim.dataset_df\n",
    "unique_elements, counts_elements = np.unique(df[df['age'] == 0]['status'], return_counts=True)\n",
    "print(unique_elements, counts_elements/sum(counts_elements))\n",
    "\n",
    "unique_elements, counts_elements = np.unique(df[df['age'] == 1]['status'], return_counts=True)\n",
    "print(unique_elements, counts_elements/sum(counts_elements))"
   ]
  },
  {
   "cell_type": "markdown",
   "metadata": {},
   "source": [
    "Above shows, that young people have less money in their bank account. Bank account balance is quite relevant for the output. Thus we can still infer age via bank account.\n",
    "\n",
    "After playing around with the other fairness measures on the web application, I doubt that any of those will change this outcome for this particular dataset + protected attribute.\n",
    "\n",
    "Other options: (basically do some actual affirmative action)\n",
    "- play around with thresholds, see what happens\n",
    "- different cost distribution, subsidize skill investement (feature manipulation)\n",
    "- \n",
    "All the fairness measures in AIF360 are not affirmative action"
   ]
  },
  {
   "cell_type": "code",
   "execution_count": null,
   "metadata": {},
   "outputs": [],
   "source": [
    "from sklearn.linear_model import LogisticRegression\n",
    "\n",
    "print(sim.dataset.label_names)\n",
    "reg = LogisticRegression(solver='liblinear',max_iter=1000000000,C=1000000000000000000000.0).fit(sim.dataset.features, sim.dataset.labels.ravel())\n",
    "\n",
    "df = pd.DataFrame(data=sim.dataset.features, columns=sim.dataset.feature_names)\n",
    "data = plot._df_selection(df, {'age': 1})\n",
    "print(list(reg.predict([data.values[0]])))\n",
    "\n",
    "# next steps: implement modified decision function that enforces statistical parity..."
   ]
  },
  {
   "cell_type": "markdown",
   "metadata": {},
   "source": [
    "## Enforce Statistical Parity (threshold boost for unprivileged)"
   ]
  },
  {
   "cell_type": "code",
   "execution_count": null,
   "metadata": {
    "scrolled": false
   },
   "outputs": [],
   "source": [
    "from learner import StatisticalParityLogisticLearner\n",
    "\n",
    "g = GermanSimDataset(mutable_features=['savings'],\n",
    "                     domains={'savings': 'auto', 'status': 'auto'},\n",
    "                     discrete=['status', 'savings'],\n",
    "                     protected_attribute_names=['age'],\n",
    "                     privileged_classes=[lambda x: x >= 25],\n",
    "                     features_to_drop=['personal_status', 'sex'])\n",
    "\n",
    "privileged_groups = [{'age': 1}]\n",
    "unprivileged_groups = [{'age': 0}]\n",
    "\n",
    "sim = Simulation(g,\n",
    "                 RationalAgent,\n",
    "                 StatisticalParityLogisticLearner(privileged_groups,\n",
    "                                           unprivileged_groups, 0.0000001),\n",
    "                 lambda size: np.abs(np.random.normal(loc=1.0,size=size)))\n",
    " \n",
    "sim.start_simulation(include_protected=True)"
   ]
  },
  {
   "cell_type": "markdown",
   "metadata": {},
   "source": [
    "### Young, Old (Pre Simulation)"
   ]
  },
  {
   "cell_type": "code",
   "execution_count": null,
   "metadata": {},
   "outputs": [],
   "source": [
    "print_table(sim.dataset_df)"
   ]
  },
  {
   "cell_type": "markdown",
   "metadata": {},
   "source": [
    "### Young, Old (Post Simulation)"
   ]
  },
  {
   "cell_type": "code",
   "execution_count": null,
   "metadata": {
    "scrolled": true
   },
   "outputs": [],
   "source": [
    "print_table(sim.dataset_new_df)"
   ]
  },
  {
   "cell_type": "markdown",
   "metadata": {},
   "source": [
    "### Mutable Features"
   ]
  },
  {
   "cell_type": "code",
   "execution_count": null,
   "metadata": {},
   "outputs": [],
   "source": [
    "print(\"young\")\n",
    "plot.plot_mutable_features(sim,selection_criteria={'age':0})\n",
    "print(\"old\")\n",
    "plot.plot_mutable_features(sim,selection_criteria={'age':1})"
   ]
  },
  {
   "cell_type": "markdown",
   "metadata": {},
   "source": [
    "# Adversial Debiasing"
   ]
  },
  {
   "cell_type": "code",
   "execution_count": null,
   "metadata": {
    "scrolled": false
   },
   "outputs": [],
   "source": [
    "from learner import AdversialDebiasingLogisticLearner\n",
    "\n",
    "g = GermanSimDataset(mutable_features=['status', 'savings'],\n",
    "                     domains={'savings': 'auto', 'status': 'auto'},\n",
    "                     discrete=['status', 'savings'],\n",
    "                     protected_attribute_names=['age'],\n",
    "                     privileged_classes=[lambda x: x >= 25],\n",
    "                     features_to_drop=['personal_status', 'sex'])\n",
    "\n",
    "privileged_groups = [{'age': 1}]\n",
    "unprivileged_groups = [{'age': 0}]\n",
    "\n",
    "sim = Simulation(g,\n",
    "                 RationalAgent,\n",
    "                 AdversialDebiasingLogisticLearner(privileged_groups = privileged_groups,\n",
    "                          unprivileged_groups = unprivileged_groups),\n",
    "                 lambda size: np.abs(np.random.normal(loc=0.5,size=size)))\n",
    " \n",
    "sim.start_simulation(include_protected=True)"
   ]
  },
  {
   "cell_type": "markdown",
   "metadata": {},
   "source": [
    "### Young, Old (Pre Simulation)"
   ]
  },
  {
   "cell_type": "code",
   "execution_count": null,
   "metadata": {},
   "outputs": [],
   "source": [
    "print_table(sim.dataset_df)"
   ]
  },
  {
   "cell_type": "markdown",
   "metadata": {},
   "source": [
    "### Young, Old (Post Simulation)"
   ]
  },
  {
   "cell_type": "code",
   "execution_count": null,
   "metadata": {
    "scrolled": true
   },
   "outputs": [],
   "source": [
    "print_table(sim.dataset_new_df)"
   ]
  },
  {
   "cell_type": "markdown",
   "metadata": {},
   "source": [
    "# EqOdds Postprocessing"
   ]
  },
  {
   "cell_type": "code",
   "execution_count": null,
   "metadata": {
    "scrolled": false
   },
   "outputs": [],
   "source": [
    "from learner import EqOddsPostprocessingLogisticLearner\n",
    "\n",
    "g = GermanSimDataset(mutable_features=['status', 'savings'],\n",
    "                     domains={'savings': 'auto', 'status': 'auto'},\n",
    "                     discrete=['status', 'savings'],\n",
    "                     protected_attribute_names=['age'],\n",
    "                     privileged_classes=[lambda x: x >= 25],\n",
    "                     features_to_drop=['personal_status', 'sex'])\n",
    "\n",
    "privileged_groups = [{'age': 1}]\n",
    "unprivileged_groups = [{'age': 0}]\n",
    "\n",
    "sim = Simulation(g,\n",
    "                 RationalAgent,\n",
    "                 EqOddsPostprocessingLogisticLearner(privileged_groups = privileged_groups,\n",
    "                          unprivileged_groups = unprivileged_groups),\n",
    "                 lambda size: np.abs(np.random.normal(loc=0.5,size=size)))\n",
    " \n",
    "sim.start_simulation(include_protected=True)"
   ]
  },
  {
   "cell_type": "markdown",
   "metadata": {},
   "source": [
    "### Young, Old (Pre Simulation)"
   ]
  },
  {
   "cell_type": "code",
   "execution_count": null,
   "metadata": {},
   "outputs": [],
   "source": [
    "print_table(sim.dataset_df)"
   ]
  },
  {
   "cell_type": "markdown",
   "metadata": {},
   "source": [
    "### Young, Old (Post Simulation)"
   ]
  },
  {
   "cell_type": "code",
   "execution_count": null,
   "metadata": {
    "scrolled": false
   },
   "outputs": [],
   "source": [
    "print_table(sim.dataset_new_df)"
   ]
  }
 ],
 "metadata": {
  "kernelspec": {
   "display_name": "Python 3",
   "language": "python",
   "name": "python3"
  },
  "language_info": {
   "codemirror_mode": {
    "name": "ipython",
    "version": 3
   },
   "file_extension": ".py",
   "mimetype": "text/x-python",
   "name": "python",
   "nbconvert_exporter": "python",
   "pygments_lexer": "ipython3",
   "version": "3.7.3"
  }
 },
 "nbformat": 4,
 "nbformat_minor": 2
}
