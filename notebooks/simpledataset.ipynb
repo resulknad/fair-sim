{
 "cells": [
  {
   "cell_type": "code",
   "execution_count": 2,
   "metadata": {},
   "outputs": [],
   "source": [
    "%load_ext autoreload\n",
    "%autoreload 2\n",
    "import nest_asyncio\n",
    "nest_asyncio.apply()\n",
    "\n",
    "from mutabledataset import SimpleDataset\n",
    "from agent import RationalAgent\n",
    "from simulation import Simulation\n",
    "from learner import LogisticLearner\n",
    "import plot\n",
    "\n",
    "import numpy as np\n",
    "import pandas as pd\n",
    "\n",
    "\n",
    "def print_table(df):\n",
    "    young = plot.count_df(df, [{'group': 0, 'credit_h': 1}, {'group': 0, 'credit_h': 0}])\n",
    "    young_n = young.sum()\n",
    "    young = young / young.sum() * 100\n",
    "\n",
    "    old = plot.count_df(df, [{'group': 1, 'credit_h': 1}, {'group': 1, 'credit_h': 0}])\n",
    "    old_n = old.sum()\n",
    "    old = old / old.sum() * 100\n",
    "    tbl = pd.DataFrame(data=[young,old], index=['0 unprivileged ('+str(young_n)+')', '1 privileged ('+str(old_n)+')'], columns=['Good Credit', 'Bad Credit'])\n",
    "    print(\"Avg grp 1: \", np.average(plot._df_selection(df, {'group':1})['x']))\n",
    "    print(\"Avg grp 0: \", np.average(plot._df_selection(df, {'group':0})['x']))\n",
    "    print(\"Difference: \", abs(np.average(plot._df_selection(df, {'group':1})['x']) - np.average(plot._df_selection(df, {'group':0})['x'])))\n",
    "    return (tbl)"
   ]
  },
  {
   "cell_type": "code",
   "execution_count": 5,
   "metadata": {
    "scrolled": true
   },
   "outputs": [],
   "source": [
    "cost_lambda = lambda x_new, x: x_new/2.+1*abs(x_new-x)/4.\n",
    "cost_fixed = lambda size: np.abs(np.random.normal(loc=0.5,size=size))\n",
    "\n",
    "g = SimpleDataset(mutable_features=['x'],\n",
    "        domains={'x': 'auto'},\n",
    "        discrete=['x'],\n",
    "        cost_fns={'x': cost_lambda})\n",
    "\n",
    "sim = Simulation(g,\n",
    "        RationalAgent,\n",
    "        LogisticLearner(),\n",
    "        cost_fixed)\n",
    "\n",
    "\n"
   ]
  },
  {
   "cell_type": "markdown",
   "metadata": {},
   "source": [
    "# Dataset Description"
   ]
  },
  {
   "cell_type": "code",
   "execution_count": 6,
   "metadata": {
    "scrolled": false
   },
   "outputs": [
    {
     "name": "stdout",
     "output_type": "stream",
     "text": [
      "Train:  (1000, 2) , Test:  (1000, 2)\n"
     ]
    },
    {
     "name": "stderr",
     "output_type": "stream",
     "text": [
      "/home/dan/data/ETH/ba/simulation/mutabledataset.py:89: UserWarning: Use set of values present in dataset to infer domain for feature x\n",
      "  warnings.warn(\"Use set of values present in dataset to infer domain for feature \" + ft)\n"
     ]
    },
    {
     "name": "stdout",
     "output_type": "stream",
     "text": [
      "Accuracy (h) pre 0.9\n",
      "Accuracy (h) post 0.722\n",
      "Accuracy (h*) post 0.919\n",
      "eps =  0.2\n",
      "y=1 900.0  <-  828.0\n"
     ]
    }
   ],
   "source": [
    "sim.start_simulation(include_protected=True)"
   ]
  },
  {
   "cell_type": "markdown",
   "metadata": {},
   "source": [
    "# Simulation w/o fairness constraints"
   ]
  },
  {
   "cell_type": "markdown",
   "metadata": {},
   "source": [
    "## Pre Simulation (No Aff. Action)"
   ]
  },
  {
   "cell_type": "code",
   "execution_count": 7,
   "metadata": {},
   "outputs": [
    {
     "name": "stdout",
     "output_type": "stream",
     "text": [
      "Avg grp 1:  0.6694269662921349\n",
      "Avg grp 0:  0.5063033707865169\n",
      "Difference:  0.16312359550561806\n"
     ]
    },
    {
     "data": {
      "text/html": [
       "<div>\n",
       "<style scoped>\n",
       "    .dataframe tbody tr th:only-of-type {\n",
       "        vertical-align: middle;\n",
       "    }\n",
       "\n",
       "    .dataframe tbody tr th {\n",
       "        vertical-align: top;\n",
       "    }\n",
       "\n",
       "    .dataframe thead th {\n",
       "        text-align: right;\n",
       "    }\n",
       "</style>\n",
       "<table border=\"1\" class=\"dataframe\">\n",
       "  <thead>\n",
       "    <tr style=\"text-align: right;\">\n",
       "      <th></th>\n",
       "      <th>Good Credit</th>\n",
       "      <th>Bad Credit</th>\n",
       "    </tr>\n",
       "  </thead>\n",
       "  <tbody>\n",
       "    <tr>\n",
       "      <th>0 unprivileged (1000)</th>\n",
       "      <td>16.7</td>\n",
       "      <td>83.3</td>\n",
       "    </tr>\n",
       "    <tr>\n",
       "      <th>1 privileged (1000)</th>\n",
       "      <td>66.8</td>\n",
       "      <td>33.2</td>\n",
       "    </tr>\n",
       "  </tbody>\n",
       "</table>\n",
       "</div>"
      ],
      "text/plain": [
       "                       Good Credit  Bad Credit\n",
       "0 unprivileged (1000)         16.7        83.3\n",
       "1 privileged (1000)           66.8        33.2"
      ]
     },
     "execution_count": 7,
     "metadata": {},
     "output_type": "execute_result"
    }
   ],
   "source": [
    "print_table(sim.dataset_df)"
   ]
  },
  {
   "cell_type": "markdown",
   "metadata": {},
   "source": [
    "## Post Simulation (No Aff. Action)"
   ]
  },
  {
   "cell_type": "code",
   "execution_count": 8,
   "metadata": {},
   "outputs": [
    {
     "name": "stdout",
     "output_type": "stream",
     "text": [
      "group 0\n"
     ]
    },
    {
     "data": {
      "image/png": "[encoded data removed]",
      "text/plain": [
       "<Figure size 432x288 with 1 Axes>"
      ]
     },
     "metadata": {
      "needs_background": "light"
     },
     "output_type": "display_data"
    },
    {
     "name": "stdout",
     "output_type": "stream",
     "text": [
      "group 1\n"
     ]
    },
    {
     "data": {
      "image/png": "[encoded data removed]",
      "text/plain": [
       "<Figure size 432x288 with 1 Axes>"
      ]
     },
     "metadata": {
      "needs_background": "light"
     },
     "output_type": "display_data"
    },
    {
     "name": "stdout",
     "output_type": "stream",
     "text": [
      "Avg grp 1:  0.6525955056179774\n",
      "Avg grp 0:  0.550179775280899\n",
      "Difference:  0.1024157303370784\n"
     ]
    },
    {
     "data": {
      "text/html": [
       "<div>\n",
       "<style scoped>\n",
       "    .dataframe tbody tr th:only-of-type {\n",
       "        vertical-align: middle;\n",
       "    }\n",
       "\n",
       "    .dataframe tbody tr th {\n",
       "        vertical-align: top;\n",
       "    }\n",
       "\n",
       "    .dataframe thead th {\n",
       "        text-align: right;\n",
       "    }\n",
       "</style>\n",
       "<table border=\"1\" class=\"dataframe\">\n",
       "  <thead>\n",
       "    <tr style=\"text-align: right;\">\n",
       "      <th></th>\n",
       "      <th>Good Credit</th>\n",
       "      <th>Bad Credit</th>\n",
       "    </tr>\n",
       "  </thead>\n",
       "  <tbody>\n",
       "    <tr>\n",
       "      <th>0 unprivileged (1000)</th>\n",
       "      <td>51.1</td>\n",
       "      <td>48.9</td>\n",
       "    </tr>\n",
       "    <tr>\n",
       "      <th>1 privileged (1000)</th>\n",
       "      <td>81.4</td>\n",
       "      <td>18.6</td>\n",
       "    </tr>\n",
       "  </tbody>\n",
       "</table>\n",
       "</div>"
      ],
      "text/plain": [
       "                       Good Credit  Bad Credit\n",
       "0 unprivileged (1000)         51.1        48.9\n",
       "1 privileged (1000)           81.4        18.6"
      ]
     },
     "execution_count": 8,
     "metadata": {},
     "output_type": "execute_result"
    }
   ],
   "source": [
    "print(\"group 0\")\n",
    "plot.plot_mutable_features(sim,selection_criteria={'group':0})\n",
    "print(\"group 1\")\n",
    "plot.plot_mutable_features(sim,selection_criteria={'group':1})\n",
    "print_table(sim.dataset_new_df)"
   ]
  },
  {
   "cell_type": "markdown",
   "metadata": {},
   "source": [
    "# Affirmative Action"
   ]
  },
  {
   "cell_type": "code",
   "execution_count": 9,
   "metadata": {
    "scrolled": false
   },
   "outputs": [
    {
     "name": "stdout",
     "output_type": "stream",
     "text": [
      "Train:  (1000, 2) , Test:  (1000, 2)\n",
      "{'group': 1}\n"
     ]
    },
    {
     "name": "stderr",
     "output_type": "stream",
     "text": [
      "/home/dan/data/ETH/ba/simulation/mutabledataset.py:89: UserWarning: Use set of values present in dataset to infer domain for feature x\n",
      "  warnings.warn(\"Use set of values present in dataset to infer domain for feature \" + ft)\n"
     ]
    },
    {
     "name": "stdout",
     "output_type": "stream",
     "text": [
      "Accuracy (h) pre 0.389\n",
      "Accuracy (h) post 0.425\n",
      "{'group': 1}\n",
      "Accuracy (h*) post 0.438\n",
      "eps =  0.01\n",
      "y=1 898.0  <-  846.0\n"
     ]
    }
   ],
   "source": [
    "from learner import StatisticalParityLogisticLearner\n",
    "\n",
    "g = SimpleDataset(mutable_features=['x'],\n",
    "        domains={'x': 'auto'},\n",
    "        discrete=['x'],\n",
    "        cost_fns={'x': cost_lambda})\n",
    "\n",
    "privileged_groups = [{'group': 1}]\n",
    "unprivileged_groups = [{'group': 0}]\n",
    "\n",
    " \n",
    "\n",
    "sim = Simulation(g,\n",
    "                 RationalAgent,\n",
    "                 StatisticalParityLogisticLearner(privileged_groups,\n",
    "                                           unprivileged_groups, 0.001),\n",
    "                 cost_fixed)\n",
    "\n",
    "sim.start_simulation(include_protected=True)\n",
    "\n"
   ]
  },
  {
   "cell_type": "markdown",
   "metadata": {},
   "source": [
    "## Pre Simulation (Aff. Action)"
   ]
  },
  {
   "cell_type": "code",
   "execution_count": 10,
   "metadata": {
    "scrolled": true
   },
   "outputs": [
    {
     "name": "stdout",
     "output_type": "stream",
     "text": [
      "Avg grp 1:  0.6888390804597702\n",
      "Avg grp 0:  0.5117701149425288\n",
      "Difference:  0.17706896551724138\n"
     ]
    },
    {
     "data": {
      "text/html": [
       "<div>\n",
       "<style scoped>\n",
       "    .dataframe tbody tr th:only-of-type {\n",
       "        vertical-align: middle;\n",
       "    }\n",
       "\n",
       "    .dataframe tbody tr th {\n",
       "        vertical-align: top;\n",
       "    }\n",
       "\n",
       "    .dataframe thead th {\n",
       "        text-align: right;\n",
       "    }\n",
       "</style>\n",
       "<table border=\"1\" class=\"dataframe\">\n",
       "  <thead>\n",
       "    <tr style=\"text-align: right;\">\n",
       "      <th></th>\n",
       "      <th>Good Credit</th>\n",
       "      <th>Bad Credit</th>\n",
       "    </tr>\n",
       "  </thead>\n",
       "  <tbody>\n",
       "    <tr>\n",
       "      <th>0 unprivileged (1000)</th>\n",
       "      <td>73.5</td>\n",
       "      <td>26.5</td>\n",
       "    </tr>\n",
       "    <tr>\n",
       "      <th>1 privileged (1000)</th>\n",
       "      <td>68.4</td>\n",
       "      <td>31.6</td>\n",
       "    </tr>\n",
       "  </tbody>\n",
       "</table>\n",
       "</div>"
      ],
      "text/plain": [
       "                       Good Credit  Bad Credit\n",
       "0 unprivileged (1000)         73.5        26.5\n",
       "1 privileged (1000)           68.4        31.6"
      ]
     },
     "execution_count": 10,
     "metadata": {},
     "output_type": "execute_result"
    }
   ],
   "source": [
    "print_table(sim.dataset_df)"
   ]
  },
  {
   "cell_type": "markdown",
   "metadata": {},
   "source": [
    "## Post Simulation (Aff. Action)"
   ]
  },
  {
   "cell_type": "code",
   "execution_count": 11,
   "metadata": {
    "scrolled": false
   },
   "outputs": [
    {
     "name": "stdout",
     "output_type": "stream",
     "text": [
      "group 0\n"
     ]
    },
    {
     "data": {
      "image/png": "[encoded data removed]",
      "text/plain": [
       "<Figure size 432x288 with 1 Axes>"
      ]
     },
     "metadata": {
      "needs_background": "light"
     },
     "output_type": "display_data"
    },
    {
     "name": "stdout",
     "output_type": "stream",
     "text": [
      "group 1\n"
     ]
    },
    {
     "data": {
      "image/png": "[encoded data removed]",
      "text/plain": [
       "<Figure size 432x288 with 1 Axes>"
      ]
     },
     "metadata": {
      "needs_background": "light"
     },
     "output_type": "display_data"
    },
    {
     "name": "stdout",
     "output_type": "stream",
     "text": [
      "Avg grp 1:  0.6696206896551724\n",
      "Avg grp 0:  0.4839425287356321\n",
      "Difference:  0.1856781609195403\n"
     ]
    },
    {
     "data": {
      "text/html": [
       "<div>\n",
       "<style scoped>\n",
       "    .dataframe tbody tr th:only-of-type {\n",
       "        vertical-align: middle;\n",
       "    }\n",
       "\n",
       "    .dataframe tbody tr th {\n",
       "        vertical-align: top;\n",
       "    }\n",
       "\n",
       "    .dataframe thead th {\n",
       "        text-align: right;\n",
       "    }\n",
       "</style>\n",
       "<table border=\"1\" class=\"dataframe\">\n",
       "  <thead>\n",
       "    <tr style=\"text-align: right;\">\n",
       "      <th></th>\n",
       "      <th>Good Credit</th>\n",
       "      <th>Bad Credit</th>\n",
       "    </tr>\n",
       "  </thead>\n",
       "  <tbody>\n",
       "    <tr>\n",
       "      <th>0 unprivileged (1000)</th>\n",
       "      <td>86.5</td>\n",
       "      <td>13.5</td>\n",
       "    </tr>\n",
       "    <tr>\n",
       "      <th>1 privileged (1000)</th>\n",
       "      <td>81.5</td>\n",
       "      <td>18.5</td>\n",
       "    </tr>\n",
       "  </tbody>\n",
       "</table>\n",
       "</div>"
      ],
      "text/plain": [
       "                       Good Credit  Bad Credit\n",
       "0 unprivileged (1000)         86.5        13.5\n",
       "1 privileged (1000)           81.5        18.5"
      ]
     },
     "execution_count": 11,
     "metadata": {},
     "output_type": "execute_result"
    }
   ],
   "source": [
    "print(\"group 0\")\n",
    "plot.plot_mutable_features(sim,selection_criteria={'group':0})\n",
    "print(\"group 1\")\n",
    "plot.plot_mutable_features(sim,selection_criteria={'group':1})\n",
    "print_table(sim.dataset_new_df)"
   ]
  },
  {
   "cell_type": "markdown",
   "metadata": {},
   "source": [
    "# EqOdds"
   ]
  },
  {
   "cell_type": "code",
   "execution_count": 12,
   "metadata": {
    "scrolled": true
   },
   "outputs": [
    {
     "name": "stdout",
     "output_type": "stream",
     "text": [
      "0.0\n",
      "Train:  (1000, 2) , Test:  (1000, 2)\n"
     ]
    },
    {
     "name": "stderr",
     "output_type": "stream",
     "text": [
      "/home/dan/data/ETH/ba/simulation/mutabledataset.py:89: UserWarning: Use set of values present in dataset to infer domain for feature x\n",
      "  warnings.warn(\"Use set of values present in dataset to infer domain for feature \" + ft)\n"
     ]
    },
    {
     "name": "stdout",
     "output_type": "stream",
     "text": [
      "Accuracy (h) pre 0.155\n",
      "Accuracy (h) post 0.381\n",
      "Accuracy (h*) post 0.538\n",
      "eps =  0.16\n",
      "y=1 1394.0  <-  864.0\n"
     ]
    },
    {
     "name": "stderr",
     "output_type": "stream",
     "text": [
      "ERROR:root:Invalid alias: The name clear can't be aliased because it is another magic command.\n",
      "ERROR:root:Invalid alias: The name more can't be aliased because it is another magic command.\n",
      "ERROR:root:Invalid alias: The name less can't be aliased because it is another magic command.\n",
      "ERROR:root:Invalid alias: The name man can't be aliased because it is another magic command.\n"
     ]
    }
   ],
   "source": [
    "from learner import EqOddsPostprocessingLogisticLearner\n",
    "\n",
    "g = SimpleDataset(mutable_features=['x'],\n",
    "        domains={'x': 'auto'},\n",
    "        discrete=['x'],\n",
    "        cost_fns={'x': cost_lambda})\n",
    "\n",
    "privileged_groups = [{'group': 1}]\n",
    "unprivileged_groups = [{'group': 0}]\n",
    "\n",
    "sim = Simulation(g,\n",
    "                 RationalAgent,\n",
    "                 EqOddsPostprocessingLogisticLearner(privileged_groups = privileged_groups,\n",
    "                          unprivileged_groups = unprivileged_groups),\n",
    "                 cost_fixed)\n",
    "print(sim.dataset.unfavorable_label)\n",
    "sim.start_simulation(include_protected=True)"
   ]
  },
  {
   "cell_type": "markdown",
   "metadata": {},
   "source": [
    "## Pre Simulation (EqOdds)"
   ]
  },
  {
   "cell_type": "code",
   "execution_count": 12,
   "metadata": {
    "scrolled": true
   },
   "outputs": [
    {
     "name": "stdout",
     "output_type": "stream",
     "text": [
      "Avg grp 1:  0.6263789473684211\n",
      "Avg grp 0:  0.4739052631578948\n",
      "Difference:  0.15247368421052637\n"
     ]
    },
    {
     "data": {
      "text/html": [
       "<div>\n",
       "<style scoped>\n",
       "    .dataframe tbody tr th:only-of-type {\n",
       "        vertical-align: middle;\n",
       "    }\n",
       "\n",
       "    .dataframe tbody tr th {\n",
       "        vertical-align: top;\n",
       "    }\n",
       "\n",
       "    .dataframe thead th {\n",
       "        text-align: right;\n",
       "    }\n",
       "</style>\n",
       "<table border=\"1\" class=\"dataframe\">\n",
       "  <thead>\n",
       "    <tr style=\"text-align: right;\">\n",
       "      <th></th>\n",
       "      <th>Good Credit</th>\n",
       "      <th>Bad Credit</th>\n",
       "    </tr>\n",
       "  </thead>\n",
       "  <tbody>\n",
       "    <tr>\n",
       "      <th>0 unprivileged (1000)</th>\n",
       "      <td>17.1</td>\n",
       "      <td>82.9</td>\n",
       "    </tr>\n",
       "    <tr>\n",
       "      <th>1 privileged (1000)</th>\n",
       "      <td>17.5</td>\n",
       "      <td>82.5</td>\n",
       "    </tr>\n",
       "  </tbody>\n",
       "</table>\n",
       "</div>"
      ],
      "text/plain": [
       "                       Good Credit  Bad Credit\n",
       "0 unprivileged (1000)         17.1        82.9\n",
       "1 privileged (1000)           17.5        82.5"
      ]
     },
     "execution_count": 12,
     "metadata": {},
     "output_type": "execute_result"
    }
   ],
   "source": [
    "print_table(sim.dataset_df)"
   ]
  },
  {
   "cell_type": "markdown",
   "metadata": {},
   "source": [
    "# "
   ]
  }
 ],
 "metadata": {
  "kernelspec": {
   "display_name": "Python 3",
   "language": "python",
   "name": "python3"
  },
  "language_info": {
   "codemirror_mode": {
    "name": "ipython",
    "version": 3
   },
   "file_extension": ".py",
   "mimetype": "text/x-python",
   "name": "python",
   "nbconvert_exporter": "python",
   "pygments_lexer": "ipython3",
   "version": "3.7.3"
  }
 },
 "nbformat": 4,
 "nbformat_minor": 2
}
