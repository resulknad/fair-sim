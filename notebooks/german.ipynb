{
 "cells": [
  {
   "cell_type": "code",
   "execution_count": 1,
   "metadata": {},
   "outputs": [],
   "source": [
    "%load_ext autoreload\n",
    "%autoreload\n",
    "from mutabledataset import GermanSimDataset\n",
    "from agent import RationalAgent\n",
    "from simulation import Simulation\n",
    "from learner import LogisticLearner\n",
    "\n",
    "import plot\n",
    "import numpy as np\n",
    "import pandas as pd\n",
    "\n",
    "\n",
    "import nest_asyncio\n",
    "nest_asyncio.apply()\n",
    "\n",
    "def print_table(df):\n",
    "    young = plot.count_df(df, [{'age': 0, 'credit_h': 1}, {'age': 0, 'credit_h': 0}])\n",
    "    young_n = young.sum()\n",
    "    young = young / young.sum() * 100\n",
    "\n",
    "    old = plot.count_df(df, [{'age': 1, 'credit_h': 1}, {'age': 1, 'credit_h': 0}])\n",
    "    old_n = old.sum()\n",
    "    old = old / old.sum() * 100\n",
    "    tbl = pd.DataFrame(data=[young,old], index=['Young ('+str(young_n)+')', 'Old ('+str(old_n)+')'], columns=['Good Credit', 'Bad Credit'])\n",
    "    return (tbl)\n",
    "    #plot.plot_pie(sim.dataset_df, [{'age': 0, 'credit_h': 1},\n",
    "    #                               {'age': 0, 'credit_h': 0}],\n",
    "    #              ['Good', 'Bad'], 'Young')\n",
    "\n",
    "    #plot.plot_pie(sim.dataset_df, [{'age': 1, 'credit_h': 1},\n",
    "    #                               {'age': 1, 'credit_h': 0}],\n",
    "    #              ['Good', 'Bad'], 'Old')\n",
    "\n",
    "    #plot.plot_pie(sim.dataset_new_df, [{'age': 0, 'credit_h': 1},\n",
    "    #                               {'age': 0, 'credit_h': 0}],\n",
    "    #              ['Good', 'Bad'], 'Young')\n",
    "\n",
    "    #plot.plot_pie(sim.dataset_new_df, [{'age': 1, 'credit_h': 1},\n",
    "    #                               {'age': 1, 'credit_h': 0}],\n",
    "    #              ['Good', 'Bad'], 'Old')\n",
    "\n"
   ]
  },
  {
   "cell_type": "markdown",
   "metadata": {},
   "source": [
    "# Logistic Regression"
   ]
  },
  {
   "cell_type": "code",
   "execution_count": 24,
   "metadata": {},
   "outputs": [
    {
     "name": "stdout",
     "output_type": "stream",
     "text": [
      "Train:  (500, 58) , Test:  (500, 58)\n"
     ]
    },
    {
     "name": "stderr",
     "output_type": "stream",
     "text": [
      "/home/dan/data/ETH/ba/simulation/mutabledataset.py:84: UserWarning: Use set of values present in dataset to infer domain for feature savings\n",
      "  warnings.warn(\"Use set of values present in dataset to infer domain for feature \" + ft)\n"
     ]
    },
    {
     "name": "stdout",
     "output_type": "stream",
     "text": [
      "Accuracy (h) pre 0.724\n",
      "Accuracy (h) post 0.772\n",
      "Accuracy (h*) post 0.778\n",
      "eps =  0.01\n",
      "y=1 777.0  <-  700.0\n"
     ]
    }
   ],
   "source": [
    "\n",
    "g = GermanSimDataset(mutable_features=['savings'],\n",
    "                     domains={'savings': 'auto'},\n",
    "                     discrete=['savings'])\n",
    "sim = Simulation(g,\n",
    "                 RationalAgent,\n",
    "                 LogisticLearner(),\n",
    "                 lambda size: np.abs(np.random.normal(loc=1.0,size=size)))\n",
    " \n",
    "sim.start_simulation(include_protected=True)\n"
   ]
  },
  {
   "cell_type": "code",
   "execution_count": 2,
   "metadata": {},
   "outputs": [
    {
     "name": "stdout",
     "output_type": "stream",
     "text": [
      "Train:  (500, 58) , Test:  (500, 58)\n",
      "ERROR! Session/line number was not unique in database. History logging moved to new session 54\n"
     ]
    },
    {
     "name": "stderr",
     "output_type": "stream",
     "text": [
      "/home/dan/data/ETH/ba/simulation/mutabledataset.py:84: UserWarning: Use set of values present in dataset to infer domain for feature savings\n",
      "  warnings.warn(\"Use set of values present in dataset to infer domain for feature \" + ft)\n"
     ]
    },
    {
     "name": "stdout",
     "output_type": "stream",
     "text": [
      "72\n"
     ]
    }
   ],
   "source": [
    "df,_ = sim.train.convert_to_dataframe(de_dummy_code=True)\n",
    "print(np.array(df['age'] == 0).sum())"
   ]
  },
  {
   "cell_type": "markdown",
   "metadata": {},
   "source": [
    "### Mutable Features"
   ]
  },
  {
   "cell_type": "code",
   "execution_count": 6,
   "metadata": {},
   "outputs": [
    {
     "name": "stdout",
     "output_type": "stream",
     "text": [
      "young\n"
     ]
    },
    {
     "data": {
      "image/png": "[encoded data removed]",
      "text/plain": [
       "<Figure size 432x288 with 1 Axes>"
      ]
     },
     "metadata": {
      "needs_background": "light"
     },
     "output_type": "display_data"
    },
    {
     "name": "stdout",
     "output_type": "stream",
     "text": [
      "old\n"
     ]
    },
    {
     "data": {
      "image/png": "[encoded data removed]",
      "text/plain": [
       "<Figure size 432x288 with 1 Axes>"
      ]
     },
     "metadata": {
      "needs_background": "light"
     },
     "output_type": "display_data"
    }
   ],
   "source": [
    "print(\"young\")\n",
    "plot.plot_mutable_features(sim,selection_criteria={'age':0})\n",
    "print(\"old\")\n",
    "plot.plot_mutable_features(sim,selection_criteria={'age':1})"
   ]
  },
  {
   "cell_type": "markdown",
   "metadata": {},
   "source": [
    "### Young, Old (Pre Simulation)"
   ]
  },
  {
   "cell_type": "code",
   "execution_count": 10,
   "metadata": {},
   "outputs": [
    {
     "data": {
      "text/html": [
       "<div>\n",
       "<style scoped>\n",
       "    .dataframe tbody tr th:only-of-type {\n",
       "        vertical-align: middle;\n",
       "    }\n",
       "\n",
       "    .dataframe tbody tr th {\n",
       "        vertical-align: top;\n",
       "    }\n",
       "\n",
       "    .dataframe thead th {\n",
       "        text-align: right;\n",
       "    }\n",
       "</style>\n",
       "<table border=\"1\" class=\"dataframe\">\n",
       "  <thead>\n",
       "    <tr style=\"text-align: right;\">\n",
       "      <th></th>\n",
       "      <th>Good Credit</th>\n",
       "      <th>Bad Credit</th>\n",
       "    </tr>\n",
       "  </thead>\n",
       "  <tbody>\n",
       "    <tr>\n",
       "      <th>Young (149)</th>\n",
       "      <td>71.140940</td>\n",
       "      <td>28.859060</td>\n",
       "    </tr>\n",
       "    <tr>\n",
       "      <th>Old (851)</th>\n",
       "      <td>78.613396</td>\n",
       "      <td>21.386604</td>\n",
       "    </tr>\n",
       "  </tbody>\n",
       "</table>\n",
       "</div>"
      ],
      "text/plain": [
       "             Good Credit  Bad Credit\n",
       "Young (149)    71.140940   28.859060\n",
       "Old (851)      78.613396   21.386604"
      ]
     },
     "execution_count": 10,
     "metadata": {},
     "output_type": "execute_result"
    }
   ],
   "source": [
    "print_table(sim.dataset_df)"
   ]
  },
  {
   "cell_type": "markdown",
   "metadata": {},
   "source": [
    "### Young, Old (Post Simulation)"
   ]
  },
  {
   "cell_type": "code",
   "execution_count": 11,
   "metadata": {
    "scrolled": true
   },
   "outputs": [
    {
     "data": {
      "text/html": [
       "<div>\n",
       "<style scoped>\n",
       "    .dataframe tbody tr th:only-of-type {\n",
       "        vertical-align: middle;\n",
       "    }\n",
       "\n",
       "    .dataframe tbody tr th {\n",
       "        vertical-align: top;\n",
       "    }\n",
       "\n",
       "    .dataframe thead th {\n",
       "        text-align: right;\n",
       "    }\n",
       "</style>\n",
       "<table border=\"1\" class=\"dataframe\">\n",
       "  <thead>\n",
       "    <tr style=\"text-align: right;\">\n",
       "      <th></th>\n",
       "      <th>Good Credit</th>\n",
       "      <th>Bad Credit</th>\n",
       "    </tr>\n",
       "  </thead>\n",
       "  <tbody>\n",
       "    <tr>\n",
       "      <th>Young (149)</th>\n",
       "      <td>87.919463</td>\n",
       "      <td>12.080537</td>\n",
       "    </tr>\n",
       "    <tr>\n",
       "      <th>Old (851)</th>\n",
       "      <td>88.836663</td>\n",
       "      <td>11.163337</td>\n",
       "    </tr>\n",
       "  </tbody>\n",
       "</table>\n",
       "</div>"
      ],
      "text/plain": [
       "             Good Credit  Bad Credit\n",
       "Young (149)    87.919463   12.080537\n",
       "Old (851)      88.836663   11.163337"
      ]
     },
     "execution_count": 11,
     "metadata": {},
     "output_type": "execute_result"
    }
   ],
   "source": [
    "print_table(sim.dataset_new_df)"
   ]
  },
  {
   "cell_type": "markdown",
   "metadata": {},
   "source": [
    "# Logistic Regression with Reweighing"
   ]
  },
  {
   "cell_type": "code",
   "execution_count": 12,
   "metadata": {
    "scrolled": true
   },
   "outputs": [
    {
     "name": "stdout",
     "output_type": "stream",
     "text": [
      "Train:  (500, 57) , Test:  (500, 57)\n",
      "before reweighing (meandiff): -0.1653426017874876 after: -1.1102230246251565e-16\n"
     ]
    },
    {
     "name": "stderr",
     "output_type": "stream",
     "text": [
      "/home/dan/data/ETH/ba/simulation/mutabledataset.py:84: UserWarning: Use set of values present in dataset to infer domain for feature savings\n",
      "  warnings.warn(\"Use set of values present in dataset to infer domain for feature \" + ft)\n"
     ]
    },
    {
     "name": "stdout",
     "output_type": "stream",
     "text": [
      "Accuracy (h) pre 0.748\n",
      "Accuracy (h) post 0.774\n",
      "before reweighing (meandiff): -0.17539721946375375 after: 1.1102230246251565e-16\n",
      "Accuracy (h*) post 0.752\n",
      "eps =  0.02\n",
      "y=1 737.0  <-  700.0\n"
     ]
    }
   ],
   "source": [
    "from learner import ReweighingLogisticLearner\n",
    "\n",
    "g = GermanSimDataset(mutable_features=['savings'],\n",
    "                     domains={'savings': 'auto'},\n",
    "                     discrete=['savings'],\n",
    "                     protected_attribute_names=['age'],\n",
    "                     privileged_classes=[lambda x: x >= 25],\n",
    "                     features_to_drop=['personal_status', 'sex'])\n",
    "\n",
    "privileged_groups = [{'age': 1}]\n",
    "unprivileged_groups = [{'age': 0}]\n",
    "\n",
    "sim = Simulation(g,\n",
    "                 RationalAgent,\n",
    "                 ReweighingLogisticLearner(privileged_groups,\n",
    "                                           unprivileged_groups),\n",
    "                 lambda size: np.abs(np.random.normal(loc=1.0,size=size)))\n",
    " \n",
    "sim.start_simulation(include_protected=True)"
   ]
  },
  {
   "cell_type": "markdown",
   "metadata": {},
   "source": [
    "### Young, Old (Pre Simulation)"
   ]
  },
  {
   "cell_type": "code",
   "execution_count": 13,
   "metadata": {},
   "outputs": [
    {
     "data": {
      "text/html": [
       "<div>\n",
       "<style scoped>\n",
       "    .dataframe tbody tr th:only-of-type {\n",
       "        vertical-align: middle;\n",
       "    }\n",
       "\n",
       "    .dataframe tbody tr th {\n",
       "        vertical-align: top;\n",
       "    }\n",
       "\n",
       "    .dataframe thead th {\n",
       "        text-align: right;\n",
       "    }\n",
       "</style>\n",
       "<table border=\"1\" class=\"dataframe\">\n",
       "  <thead>\n",
       "    <tr style=\"text-align: right;\">\n",
       "      <th></th>\n",
       "      <th>Good Credit</th>\n",
       "      <th>Bad Credit</th>\n",
       "    </tr>\n",
       "  </thead>\n",
       "  <tbody>\n",
       "    <tr>\n",
       "      <th>Young (149)</th>\n",
       "      <td>78.523490</td>\n",
       "      <td>21.476510</td>\n",
       "    </tr>\n",
       "    <tr>\n",
       "      <th>Old (851)</th>\n",
       "      <td>76.145711</td>\n",
       "      <td>23.854289</td>\n",
       "    </tr>\n",
       "  </tbody>\n",
       "</table>\n",
       "</div>"
      ],
      "text/plain": [
       "             Good Credit  Bad Credit\n",
       "Young (149)    78.523490   21.476510\n",
       "Old (851)      76.145711   23.854289"
      ]
     },
     "execution_count": 13,
     "metadata": {},
     "output_type": "execute_result"
    }
   ],
   "source": [
    "print_table(sim.dataset_df)"
   ]
  },
  {
   "cell_type": "markdown",
   "metadata": {},
   "source": [
    "### Young, Old (Post Simulation)"
   ]
  },
  {
   "cell_type": "code",
   "execution_count": 14,
   "metadata": {
    "scrolled": false
   },
   "outputs": [
    {
     "data": {
      "text/html": [
       "<div>\n",
       "<style scoped>\n",
       "    .dataframe tbody tr th:only-of-type {\n",
       "        vertical-align: middle;\n",
       "    }\n",
       "\n",
       "    .dataframe tbody tr th {\n",
       "        vertical-align: top;\n",
       "    }\n",
       "\n",
       "    .dataframe thead th {\n",
       "        text-align: right;\n",
       "    }\n",
       "</style>\n",
       "<table border=\"1\" class=\"dataframe\">\n",
       "  <thead>\n",
       "    <tr style=\"text-align: right;\">\n",
       "      <th></th>\n",
       "      <th>Good Credit</th>\n",
       "      <th>Bad Credit</th>\n",
       "    </tr>\n",
       "  </thead>\n",
       "  <tbody>\n",
       "    <tr>\n",
       "      <th>Young (149)</th>\n",
       "      <td>83.892617</td>\n",
       "      <td>16.107383</td>\n",
       "    </tr>\n",
       "    <tr>\n",
       "      <th>Old (851)</th>\n",
       "      <td>82.021152</td>\n",
       "      <td>17.978848</td>\n",
       "    </tr>\n",
       "  </tbody>\n",
       "</table>\n",
       "</div>"
      ],
      "text/plain": [
       "             Good Credit  Bad Credit\n",
       "Young (149)    83.892617   16.107383\n",
       "Old (851)      82.021152   17.978848"
      ]
     },
     "execution_count": 14,
     "metadata": {},
     "output_type": "execute_result"
    }
   ],
   "source": [
    "print_table(sim.dataset_new_df)"
   ]
  },
  {
   "cell_type": "markdown",
   "metadata": {},
   "source": [
    "### Mutable Features"
   ]
  },
  {
   "cell_type": "code",
   "execution_count": 16,
   "metadata": {},
   "outputs": [
    {
     "name": "stdout",
     "output_type": "stream",
     "text": [
      "young\n"
     ]
    },
    {
     "data": {
      "image/png": "[encoded data removed]",
      "text/plain": [
       "<Figure size 432x288 with 1 Axes>"
      ]
     },
     "metadata": {
      "needs_background": "light"
     },
     "output_type": "display_data"
    },
    {
     "name": "stdout",
     "output_type": "stream",
     "text": [
      "old\n"
     ]
    },
    {
     "data": {
      "image/png": "[encoded data removed]",
      "text/plain": [
       "<Figure size 432x288 with 1 Axes>"
      ]
     },
     "metadata": {
      "needs_background": "light"
     },
     "output_type": "display_data"
    }
   ],
   "source": [
    "print(\"young\")\n",
    "plot.plot_mutable_features(sim,selection_criteria={'age':0})\n",
    "print(\"old\")\n",
    "plot.plot_mutable_features(sim,selection_criteria={'age':1})"
   ]
  },
  {
   "cell_type": "markdown",
   "metadata": {},
   "source": [
    "### Comments\n",
    "Statistical parity difference improved."
   ]
  },
  {
   "cell_type": "code",
   "execution_count": 17,
   "metadata": {},
   "outputs": [
    {
     "name": "stdout",
     "output_type": "stream",
     "text": [
      "['A11' 'A12' 'A13' 'A14'] [0.38255034 0.30872483 0.05369128 0.25503356]\n",
      "['A11' 'A12' 'A13' 'A14'] [0.25499412 0.26204465 0.06462985 0.41833137]\n"
     ]
    }
   ],
   "source": [
    "df = sim.dataset_df\n",
    "unique_elements, counts_elements = np.unique(df[df['age'] == 0]['status'], return_counts=True)\n",
    "print(unique_elements, counts_elements/sum(counts_elements))\n",
    "\n",
    "unique_elements, counts_elements = np.unique(df[df['age'] == 1]['status'], return_counts=True)\n",
    "print(unique_elements, counts_elements/sum(counts_elements))"
   ]
  },
  {
   "cell_type": "markdown",
   "metadata": {},
   "source": [
    "Above shows, that young people have less money in their bank account. Bank account balance is quite relevant for the output. Thus we can still infer age via bank account.\n",
    "\n",
    "After playing around with the other fairness measures on the web application, I doubt that any of those will change this outcome for this particular dataset + protected attribute.\n",
    "\n",
    "Other options: (basically do some actual affirmative action)\n",
    "- play around with thresholds, see what happens\n",
    "- different cost distribution, subsidize skill investement (feature manipulation)\n",
    "- \n",
    "All the fairness measures in AIF360 are not affirmative action"
   ]
  },
  {
   "cell_type": "code",
   "execution_count": 18,
   "metadata": {},
   "outputs": [
    {
     "name": "stdout",
     "output_type": "stream",
     "text": [
      "['credit']\n",
      "[1.0]\n"
     ]
    }
   ],
   "source": [
    "from sklearn.linear_model import LogisticRegression\n",
    "\n",
    "print(sim.dataset.label_names)\n",
    "reg = LogisticRegression(solver='liblinear',max_iter=1000000000,C=1000000000000000000000.0).fit(sim.dataset.features, sim.dataset.labels.ravel())\n",
    "\n",
    "df = pd.DataFrame(data=sim.dataset.features, columns=sim.dataset.feature_names)\n",
    "data = plot._df_selection(df, {'age': 1})\n",
    "print(list(reg.predict([data.values[0]])))\n",
    "\n",
    "# next steps: implement modified decision function that enforces statistical parity..."
   ]
  },
  {
   "cell_type": "markdown",
   "metadata": {},
   "source": [
    "## Enforce Statistical Parity (threshold boost for unprivileged)"
   ]
  },
  {
   "cell_type": "code",
   "execution_count": 19,
   "metadata": {
    "scrolled": false
   },
   "outputs": [
    {
     "name": "stdout",
     "output_type": "stream",
     "text": [
      "Train:  (500, 57) , Test:  (500, 57)\n",
      "{'age': 1}\n"
     ]
    },
    {
     "name": "stderr",
     "output_type": "stream",
     "text": [
      "/home/dan/data/ETH/ba/simulation/mutabledataset.py:84: UserWarning: Use set of values present in dataset to infer domain for feature savings\n",
      "  warnings.warn(\"Use set of values present in dataset to infer domain for feature \" + ft)\n",
      "/home/dan/data/ETH/ba/simulation/mutabledataset.py:84: UserWarning: Use set of values present in dataset to infer domain for feature status\n",
      "  warnings.warn(\"Use set of values present in dataset to infer domain for feature \" + ft)\n"
     ]
    },
    {
     "name": "stdout",
     "output_type": "stream",
     "text": [
      "Accuracy (h) pre 0.616\n",
      "Accuracy (h) post 0.71\n",
      "{'age': 1}\n",
      "Accuracy (h*) post 0.712\n",
      "eps =  0.0\n",
      "y=1 785.0  <-  700.0\n"
     ]
    }
   ],
   "source": [
    "from learner import StatisticalParityLogisticLearner\n",
    "\n",
    "g = GermanSimDataset(mutable_features=['savings'],\n",
    "                     domains={'savings': 'auto', 'status': 'auto'},\n",
    "                     discrete=['status', 'savings'],\n",
    "                     protected_attribute_names=['age'],\n",
    "                     privileged_classes=[lambda x: x >= 25],\n",
    "                     features_to_drop=['personal_status', 'sex'])\n",
    "\n",
    "privileged_groups = [{'age': 1}]\n",
    "unprivileged_groups = [{'age': 0}]\n",
    "\n",
    "sim = Simulation(g,\n",
    "                 RationalAgent,\n",
    "                 StatisticalParityLogisticLearner(privileged_groups,\n",
    "                                           unprivileged_groups, 0.0000001),\n",
    "                 lambda size: np.abs(np.random.normal(loc=1.0,size=size)))\n",
    " \n",
    "sim.start_simulation(include_protected=True)"
   ]
  },
  {
   "cell_type": "markdown",
   "metadata": {},
   "source": [
    "### Young, Old (Pre Simulation)"
   ]
  },
  {
   "cell_type": "code",
   "execution_count": 20,
   "metadata": {},
   "outputs": [
    {
     "data": {
      "text/html": [
       "<div>\n",
       "<style scoped>\n",
       "    .dataframe tbody tr th:only-of-type {\n",
       "        vertical-align: middle;\n",
       "    }\n",
       "\n",
       "    .dataframe tbody tr th {\n",
       "        vertical-align: top;\n",
       "    }\n",
       "\n",
       "    .dataframe thead th {\n",
       "        text-align: right;\n",
       "    }\n",
       "</style>\n",
       "<table border=\"1\" class=\"dataframe\">\n",
       "  <thead>\n",
       "    <tr style=\"text-align: right;\">\n",
       "      <th></th>\n",
       "      <th>Good Credit</th>\n",
       "      <th>Bad Credit</th>\n",
       "    </tr>\n",
       "  </thead>\n",
       "  <tbody>\n",
       "    <tr>\n",
       "      <th>Young (149)</th>\n",
       "      <td>81.208054</td>\n",
       "      <td>18.791946</td>\n",
       "    </tr>\n",
       "    <tr>\n",
       "      <th>Old (851)</th>\n",
       "      <td>77.790834</td>\n",
       "      <td>22.209166</td>\n",
       "    </tr>\n",
       "  </tbody>\n",
       "</table>\n",
       "</div>"
      ],
      "text/plain": [
       "             Good Credit  Bad Credit\n",
       "Young (149)    81.208054   18.791946\n",
       "Old (851)      77.790834   22.209166"
      ]
     },
     "execution_count": 20,
     "metadata": {},
     "output_type": "execute_result"
    }
   ],
   "source": [
    "print_table(sim.dataset_df)"
   ]
  },
  {
   "cell_type": "markdown",
   "metadata": {},
   "source": [
    "### Young, Old (Post Simulation)"
   ]
  },
  {
   "cell_type": "code",
   "execution_count": 21,
   "metadata": {
    "scrolled": true
   },
   "outputs": [
    {
     "data": {
      "text/html": [
       "<div>\n",
       "<style scoped>\n",
       "    .dataframe tbody tr th:only-of-type {\n",
       "        vertical-align: middle;\n",
       "    }\n",
       "\n",
       "    .dataframe tbody tr th {\n",
       "        vertical-align: top;\n",
       "    }\n",
       "\n",
       "    .dataframe thead th {\n",
       "        text-align: right;\n",
       "    }\n",
       "</style>\n",
       "<table border=\"1\" class=\"dataframe\">\n",
       "  <thead>\n",
       "    <tr style=\"text-align: right;\">\n",
       "      <th></th>\n",
       "      <th>Good Credit</th>\n",
       "      <th>Bad Credit</th>\n",
       "    </tr>\n",
       "  </thead>\n",
       "  <tbody>\n",
       "    <tr>\n",
       "      <th>Young (149)</th>\n",
       "      <td>89.261745</td>\n",
       "      <td>10.738255</td>\n",
       "    </tr>\n",
       "    <tr>\n",
       "      <th>Old (851)</th>\n",
       "      <td>86.486486</td>\n",
       "      <td>13.513514</td>\n",
       "    </tr>\n",
       "  </tbody>\n",
       "</table>\n",
       "</div>"
      ],
      "text/plain": [
       "             Good Credit  Bad Credit\n",
       "Young (149)    89.261745   10.738255\n",
       "Old (851)      86.486486   13.513514"
      ]
     },
     "execution_count": 21,
     "metadata": {},
     "output_type": "execute_result"
    }
   ],
   "source": [
    "print_table(sim.dataset_new_df)"
   ]
  },
  {
   "cell_type": "markdown",
   "metadata": {},
   "source": [
    "### Mutable Features"
   ]
  },
  {
   "cell_type": "code",
   "execution_count": 22,
   "metadata": {},
   "outputs": [
    {
     "name": "stdout",
     "output_type": "stream",
     "text": [
      "young\n"
     ]
    },
    {
     "data": {
      "image/png": "[encoded data removed]",
      "text/plain": [
       "<Figure size 432x288 with 1 Axes>"
      ]
     },
     "metadata": {
      "needs_background": "light"
     },
     "output_type": "display_data"
    },
    {
     "name": "stdout",
     "output_type": "stream",
     "text": [
      "old\n"
     ]
    },
    {
     "data": {
      "image/png": "[encoded data removed]",
      "text/plain": [
       "<Figure size 432x288 with 1 Axes>"
      ]
     },
     "metadata": {
      "needs_background": "light"
     },
     "output_type": "display_data"
    }
   ],
   "source": [
    "print(\"young\")\n",
    "plot.plot_mutable_features(sim,selection_criteria={'age':0})\n",
    "print(\"old\")\n",
    "plot.plot_mutable_features(sim,selection_criteria={'age':1})"
   ]
  },
  {
   "cell_type": "markdown",
   "metadata": {},
   "source": [
    "# Adversial Debiasing"
   ]
  },
  {
   "cell_type": "code",
   "execution_count": 23,
   "metadata": {
    "scrolled": false
   },
   "outputs": [
    {
     "ename": "ImportError",
     "evalue": "cannot import name 'AdversialDebiasingLogisticLearner' from 'learner' (/home/dan/data/ETH/ba/simulation/learner.py)",
     "output_type": "error",
     "traceback": [
      "\u001b[0;31m---------------------------------------------------------------------------\u001b[0m",
      "\u001b[0;31mImportError\u001b[0m                               Traceback (most recent call last)",
      "\u001b[0;32m<ipython-input-23-702c18645815>\u001b[0m in \u001b[0;36m<module>\u001b[0;34m\u001b[0m\n\u001b[0;32m----> 1\u001b[0;31m \u001b[0;32mfrom\u001b[0m \u001b[0mlearner\u001b[0m \u001b[0;32mimport\u001b[0m \u001b[0mAdversialDebiasingLogisticLearner\u001b[0m\u001b[0;34m\u001b[0m\u001b[0;34m\u001b[0m\u001b[0m\n\u001b[0m\u001b[1;32m      2\u001b[0m \u001b[0;34m\u001b[0m\u001b[0m\n\u001b[1;32m      3\u001b[0m g = GermanSimDataset(mutable_features=['status', 'savings'],\n\u001b[1;32m      4\u001b[0m                      \u001b[0mdomains\u001b[0m\u001b[0;34m=\u001b[0m\u001b[0;34m{\u001b[0m\u001b[0;34m'savings'\u001b[0m\u001b[0;34m:\u001b[0m \u001b[0;34m'auto'\u001b[0m\u001b[0;34m,\u001b[0m \u001b[0;34m'status'\u001b[0m\u001b[0;34m:\u001b[0m \u001b[0;34m'auto'\u001b[0m\u001b[0;34m}\u001b[0m\u001b[0;34m,\u001b[0m\u001b[0;34m\u001b[0m\u001b[0;34m\u001b[0m\u001b[0m\n\u001b[1;32m      5\u001b[0m                      \u001b[0mdiscrete\u001b[0m\u001b[0;34m=\u001b[0m\u001b[0;34m[\u001b[0m\u001b[0;34m'status'\u001b[0m\u001b[0;34m,\u001b[0m \u001b[0;34m'savings'\u001b[0m\u001b[0;34m]\u001b[0m\u001b[0;34m,\u001b[0m\u001b[0;34m\u001b[0m\u001b[0;34m\u001b[0m\u001b[0m\n",
      "\u001b[0;31mImportError\u001b[0m: cannot import name 'AdversialDebiasingLogisticLearner' from 'learner' (/home/dan/data/ETH/ba/simulation/learner.py)"
     ]
    }
   ],
   "source": [
    "from learner import AdversialDebiasingLogisticLearner\n",
    "\n",
    "g = GermanSimDataset(mutable_features=['status', 'savings'],\n",
    "                     domains={'savings': 'auto', 'status': 'auto'},\n",
    "                     discrete=['status', 'savings'],\n",
    "                     protected_attribute_names=['age'],\n",
    "                     privileged_classes=[lambda x: x >= 25],\n",
    "                     features_to_drop=['personal_status', 'sex'])\n",
    "\n",
    "privileged_groups = [{'age': 1}]\n",
    "unprivileged_groups = [{'age': 0}]\n",
    "\n",
    "sim = Simulation(g,\n",
    "                 RationalAgent,\n",
    "                 AdversialDebiasingLogisticLearner(privileged_groups = privileged_groups,\n",
    "                          unprivileged_groups = unprivileged_groups),\n",
    "                 lambda size: np.abs(np.random.normal(loc=0.5,size=size)))\n",
    " \n",
    "sim.start_simulation(include_protected=True)"
   ]
  },
  {
   "cell_type": "markdown",
   "metadata": {},
   "source": [
    "### Young, Old (Pre Simulation)"
   ]
  },
  {
   "cell_type": "code",
   "execution_count": null,
   "metadata": {},
   "outputs": [],
   "source": [
    "print_table(sim.dataset_df)"
   ]
  },
  {
   "cell_type": "markdown",
   "metadata": {},
   "source": [
    "### Young, Old (Post Simulation)"
   ]
  },
  {
   "cell_type": "code",
   "execution_count": null,
   "metadata": {
    "scrolled": true
   },
   "outputs": [],
   "source": [
    "print_table(sim.dataset_new_df)"
   ]
  },
  {
   "cell_type": "markdown",
   "metadata": {},
   "source": [
    "# EqOdds Postprocessing"
   ]
  },
  {
   "cell_type": "code",
   "execution_count": null,
   "metadata": {
    "scrolled": false
   },
   "outputs": [],
   "source": [
    "from learner import EqOddsPostprocessingLogisticLearner\n",
    "\n",
    "g = GermanSimDataset(mutable_features=['status', 'savings'],\n",
    "                     domains={'savings': 'auto', 'status': 'auto'},\n",
    "                     discrete=['status', 'savings'],\n",
    "                     protected_attribute_names=['age'],\n",
    "                     privileged_classes=[lambda x: x >= 25],\n",
    "                     features_to_drop=['personal_status', 'sex'])\n",
    "\n",
    "privileged_groups = [{'age': 1}]\n",
    "unprivileged_groups = [{'age': 0}]\n",
    "\n",
    "sim = Simulation(g,\n",
    "                 RationalAgent,\n",
    "                 EqOddsPostprocessingLogisticLearner(privileged_groups = privileged_groups,\n",
    "                          unprivileged_groups = unprivileged_groups),\n",
    "                 lambda size: np.abs(np.random.normal(loc=0.5,size=size)))\n",
    " \n",
    "sim.start_simulation(include_protected=True)"
   ]
  },
  {
   "cell_type": "markdown",
   "metadata": {},
   "source": [
    "### Young, Old (Pre Simulation)"
   ]
  },
  {
   "cell_type": "code",
   "execution_count": null,
   "metadata": {},
   "outputs": [],
   "source": [
    "print_table(sim.dataset_df)"
   ]
  },
  {
   "cell_type": "markdown",
   "metadata": {},
   "source": [
    "### Young, Old (Post Simulation)"
   ]
  },
  {
   "cell_type": "code",
   "execution_count": null,
   "metadata": {
    "scrolled": false
   },
   "outputs": [],
   "source": [
    "print_table(sim.dataset_new_df)"
   ]
  }
 ],
 "metadata": {
  "kernelspec": {
   "display_name": "Python 3",
   "language": "python",
   "name": "python3"
  },
  "language_info": {
   "codemirror_mode": {
    "name": "ipython",
    "version": 3
   },
   "file_extension": ".py",
   "mimetype": "text/x-python",
   "name": "python",
   "nbconvert_exporter": "python",
   "pygments_lexer": "ipython3",
   "version": "3.7.3"
  }
 },
 "nbformat": 4,
 "nbformat_minor": 2
}
