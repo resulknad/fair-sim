{
 "cells": [
  {
   "cell_type": "markdown",
   "metadata": {},
   "source": [
    "# Constructed Dataset without equilibrium"
   ]
  },
  {
   "cell_type": "code",
   "execution_count": 3,
   "metadata": {},
   "outputs": [
    {
     "name": "stdout",
     "output_type": "stream",
     "text": [
      "The autoreload extension is already loaded. To reload it, use:\n",
      "  %reload_ext autoreload\n"
     ]
    },
    {
     "name": "stderr",
     "output_type": "stream",
     "text": [
      "/home/dan/.local/share/virtualenvs/simulation-lLjf8lvH/lib/python3.5/importlib/_bootstrap.py:222: RuntimeWarning: numpy.dtype size changed, may indicate binary incompatibility. Expected 96, got 88\n",
      "  return f(*args, **kwds)\n",
      "/home/dan/.local/share/virtualenvs/simulation-lLjf8lvH/lib/python3.5/importlib/_bootstrap.py:222: RuntimeWarning: numpy.dtype size changed, may indicate binary incompatibility. Expected 96, got 88\n",
      "  return f(*args, **kwds)\n",
      "/home/dan/.local/share/virtualenvs/simulation-lLjf8lvH/lib/python3.5/importlib/_bootstrap.py:222: RuntimeWarning: numpy.dtype size changed, may indicate binary incompatibility. Expected 96, got 88\n",
      "  return f(*args, **kwds)\n",
      "/home/dan/.local/share/virtualenvs/simulation-lLjf8lvH/lib/python3.5/importlib/_bootstrap.py:222: RuntimeWarning: numpy.dtype size changed, may indicate binary incompatibility. Expected 96, got 88\n",
      "  return f(*args, **kwds)\n"
     ]
    }
   ],
   "source": [
    "%load_ext autoreload\n",
    "%autoreload 2\n",
    "from mutabledataset import NonLinSeparableDataset\n",
    "from agent import RationalAgent\n",
    "from simulation import Simulation\n",
    "from learner import LogisticLearner\n",
    "\n",
    "import plot\n",
    "import numpy as np\n",
    "import pandas as pd\n",
    "def print_table(df):\n",
    "    young = plot.count_df(df, [{'age': 0, 'credit_h': 1}, {'age': 0, 'credit_h': 0}])\n",
    "    young = young / young.sum() * 100\n",
    "\n",
    "    old = plot.count_df(df, [{'age': 1, 'credit_h': 1}, {'age': 1, 'credit_h': 0}])\n",
    "    old = old / old.sum() * 100\n",
    "    tbl = pd.DataFrame(data=[young,old], index=['Young', 'Old'], columns=['Good Credit', 'Bad Credit'])\n",
    "    return (tbl)\n",
    "    #plot.plot_pie(sim.dataset_df, [{'age': 0, 'credit_h': 1},\n",
    "    #                               {'age': 0, 'credit_h': 0}],\n",
    "    #              ['Good', 'Bad'], 'Young')\n",
    "\n",
    "    #plot.plot_pie(sim.dataset_df, [{'age': 1, 'credit_h': 1},\n",
    "    #                               {'age': 1, 'credit_h': 0}],\n",
    "    #              ['Good', 'Bad'], 'Old')\n",
    "\n",
    "    #plot.plot_pie(sim.dataset_new_df, [{'age': 0, 'credit_h': 1},\n",
    "    #                               {'age': 0, 'credit_h': 0}],\n",
    "    #              ['Good', 'Bad'], 'Young')\n",
    "\n",
    "    #plot.plot_pie(sim.dataset_new_df, [{'age': 1, 'credit_h': 1},\n",
    "    #                               {'age': 1, 'credit_h': 0}],\n",
    "    #              ['Good', 'Bad'], 'Old')\n",
    "\n"
   ]
  },
  {
   "cell_type": "markdown",
   "metadata": {},
   "source": [
    "For the german dataset almost every learner results in equilibrium. This example shows, that this does not have to be the case."
   ]
  },
  {
   "cell_type": "code",
   "execution_count": 17,
   "metadata": {
    "scrolled": false
   },
   "outputs": [
    {
     "name": "stderr",
     "output_type": "stream",
     "text": [
      "/home/dan/ETH/ba/simulation/mutabledataset.py:71: UserWarning: Use set of values present in dataset to infer domain for feature x0\n",
      "  return list(set(self.features[:,self._ft_index(ft)]))\n",
      "/home/dan/ETH/ba/simulation/mutabledataset.py:71: UserWarning: Use set of values present in dataset to infer domain for feature x1\n",
      "  return list(set(self.features[:,self._ft_index(ft)]))\n"
     ]
    },
    {
     "name": "stdout",
     "output_type": "stream",
     "text": [
      "Train:  (400, 2) , Test:  (400, 2)\n",
      "Accuracy (h) pre 0.485\n",
      "(800, 2)\n",
      "Accuracy (h) post 0.5975\n",
      "Accuracy (h*) post 0.5975\n",
      "y=1 488.0  <-  400.0\n"
     ]
    }
   ],
   "source": [
    "ds = NonLinSeparableDataset(mutable_features=['x0', 'x1'],\n",
    "                     domains={'x0': 'auto', 'x1': 'auto'},\n",
    "                     discrete=['x0', 'x1'])\n",
    "sim = Simulation(ds,\n",
    "                 RationalAgent,\n",
    "                 LogisticLearner(),\n",
    "                 lambda size: np.abs(np.random.normal(loc=1.0,size=size)))\n",
    " \n",
    "sim.start_simulation(include_protected=True)"
   ]
  },
  {
   "cell_type": "code",
   "execution_count": 19,
   "metadata": {},
   "outputs": [
    {
     "name": "stderr",
     "output_type": "stream",
     "text": [
      "/home/dan/ETH/ba/simulation/mutabledataset.py:71: UserWarning: Use set of values present in dataset to infer domain for feature x0\n",
      "  return list(set(self.features[:,self._ft_index(ft)]))\n",
      "/home/dan/ETH/ba/simulation/mutabledataset.py:71: UserWarning: Use set of values present in dataset to infer domain for feature x1\n",
      "  return list(set(self.features[:,self._ft_index(ft)]))\n"
     ]
    },
    {
     "name": "stdout",
     "output_type": "stream",
     "text": [
      "Train:  (400, 2) , Test:  (400, 2)\n",
      "Accuracy (h) pre 0.4875\n",
      "(800, 2)\n",
      "Accuracy (h) post 0.7125\n",
      "Accuracy (h*) post 0.7125\n",
      "y=1 571.0  <-  400.0\n"
     ]
    }
   ],
   "source": [
    "ds = NonLinSeparableDataset(mutable_features=['x0', 'x1'],\n",
    "                     domains={'x0': 'auto', 'x1': 'auto'},\n",
    "                     discrete=['x0', 'x1'])\n",
    "sim = Simulation(ds,\n",
    "                 RationalAgent,\n",
    "                 LogisticLearner(),\n",
    "                 lambda size: np.abs(np.random.normal(loc=0.5,size=size)))\n",
    " \n",
    "sim.start_simulation(include_protected=True)"
   ]
  },
  {
   "cell_type": "code",
   "execution_count": 21,
   "metadata": {},
   "outputs": [
    {
     "name": "stderr",
     "output_type": "stream",
     "text": [
      "/home/dan/ETH/ba/simulation/mutabledataset.py:71: UserWarning: Use set of values present in dataset to infer domain for feature x0\n",
      "  return list(set(self.features[:,self._ft_index(ft)]))\n",
      "/home/dan/ETH/ba/simulation/mutabledataset.py:71: UserWarning: Use set of values present in dataset to infer domain for feature x1\n",
      "  return list(set(self.features[:,self._ft_index(ft)]))\n"
     ]
    },
    {
     "name": "stdout",
     "output_type": "stream",
     "text": [
      "Train:  (400, 2) , Test:  (400, 2)\n",
      "Accuracy (h) pre 0.4875\n",
      "(800, 2)\n",
      "Accuracy (h) post 0.735\n",
      "Accuracy (h*) post 0.735\n",
      "y=1 600.0  <-  400.0\n"
     ]
    }
   ],
   "source": [
    "ds = NonLinSeparableDataset(mutable_features=['x0', 'x1'],\n",
    "                     domains={'x0': 'auto', 'x1': 'auto'},\n",
    "                     discrete=['x0', 'x1'])\n",
    "sim = Simulation(ds,\n",
    "                 RationalAgent,\n",
    "                 LogisticLearner(),\n",
    "                 lambda size: [0]*size)\n",
    " \n",
    "sim.start_simulation(include_protected=True)"
   ]
  },
  {
   "cell_type": "code",
   "execution_count": null,
   "metadata": {},
   "outputs": [],
   "source": []
  }
 ],
 "metadata": {
  "kernelspec": {
   "display_name": "Python 3",
   "language": "python",
   "name": "python3"
  },
  "language_info": {
   "codemirror_mode": {
    "name": "ipython",
    "version": 3
   },
   "file_extension": ".py",
   "mimetype": "text/x-python",
   "name": "python",
   "nbconvert_exporter": "python",
   "pygments_lexer": "ipython3",
   "version": "3.5.6"
  }
 },
 "nbformat": 4,
 "nbformat_minor": 2
}
